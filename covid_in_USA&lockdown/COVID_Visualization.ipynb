{
  "nbformat": 4,
  "nbformat_minor": 0,
  "metadata": {
    "kernelspec": {
      "display_name": "Python 3",
      "language": "python",
      "name": "python3"
    },
    "language_info": {
      "codemirror_mode": {
        "name": "ipython",
        "version": 3
      },
      "file_extension": ".py",
      "mimetype": "text/x-python",
      "name": "python",
      "nbconvert_exporter": "python",
      "pygments_lexer": "ipython3",
      "version": "3.6.6"
    },
    "colab": {
      "name": "COVID_Visualization.ipynb",
      "provenance": [],
      "collapsed_sections": [
        "RkCHpmwkFOtU",
        "oTiw0LbXCmeW",
        "KW3k0TQcFEO4",
        "dFhorHIrdhCq",
        "0q44og8xdhE1",
        "7auHzQ1edhFV",
        "PfZbFocZdhFh",
        "QvCUF8AQdhFv",
        "AQ73T8PrdhGB",
        "mCQ7l2xJM5Ke"
      ]
    }
  },
  "cells": [
    {
      "cell_type": "markdown",
      "metadata": {
        "id": "KW3k0TQcFEO4"
      },
      "source": [
        "###Tasks to be performed:\n",
        "- Analysing the present condition in USA\n",
        "- Exploring the world wide data\n",
        "- Forecasting the world wide COVID-19 cases"
      ]
    },
    {
      "cell_type": "markdown",
      "metadata": {
        "id": "bnu_YAjjFxOu"
      },
      "source": [
        "###Importing the required libraries"
      ]
    },
    {
      "cell_type": "code",
      "metadata": {
        "_kg_hide-input": true,
        "_kg_hide-output": true,
        "id": "BRQ9saONdhCQ"
      },
      "source": [
        "# importing the required libraries\n",
        "import pandas as pd\n",
        "\n",
        "# Visualisation libraries\n",
        "import matplotlib.pyplot as plt\n",
        "%matplotlib inline\n",
        "import seaborn as sns\n",
        "import plotly.express as px\n",
        "import plotly.graph_objects as go\n",
        "import folium \n",
        "from folium import plugins\n",
        "\n",
        "# Manipulating the default plot size\n",
        "plt.rcParams['figure.figsize'] = 10, 12\n",
        "\n",
        "# Disable warnings \n",
        "import warnings\n",
        "warnings.filterwarnings('ignore')"
      ],
      "execution_count": null,
      "outputs": []
    },
    {
      "cell_type": "markdown",
      "metadata": {
        "id": "dFhorHIrdhCq"
      },
      "source": [
        "# Part 1: Analysing the present condition in USA\n"
      ]
    },
    {
      "cell_type": "markdown",
      "metadata": {
        "id": "QLaxaOyJJvU7"
      },
      "source": [
        "## 1.1 Reading the Datasets\n"
      ]
    },
    {
      "cell_type": "code",
      "metadata": {
        "_kg_hide-input": true,
        "_kg_hide-output": true,
        "id": "GT-J_-YQdhCy",
        "colab": {
          "base_uri": "https://localhost:8080/",
          "height": 204
        },
        "outputId": "741e5c0e-9ffd-441c-9546-fc1e61a77382"
      },
      "source": [
        "df= pd.read_excel('CovidUS.xlsx')\n",
        "df['recovered'] = df['recovered'].fillna(0).astype(int)\n",
        "df.head(5)"
      ],
      "execution_count": null,
      "outputs": [
        {
          "output_type": "execute_result",
          "data": {
            "text/html": [
              "<div>\n",
              "<style scoped>\n",
              "    .dataframe tbody tr th:only-of-type {\n",
              "        vertical-align: middle;\n",
              "    }\n",
              "\n",
              "    .dataframe tbody tr th {\n",
              "        vertical-align: top;\n",
              "    }\n",
              "\n",
              "    .dataframe thead th {\n",
              "        text-align: right;\n",
              "    }\n",
              "</style>\n",
              "<table border=\"1\" class=\"dataframe\">\n",
              "  <thead>\n",
              "    <tr style=\"text-align: right;\">\n",
              "      <th></th>\n",
              "      <th>state</th>\n",
              "      <th>positive</th>\n",
              "      <th>recovered</th>\n",
              "      <th>death</th>\n",
              "    </tr>\n",
              "  </thead>\n",
              "  <tbody>\n",
              "    <tr>\n",
              "      <th>0</th>\n",
              "      <td>AK</td>\n",
              "      <td>56886</td>\n",
              "      <td>0</td>\n",
              "      <td>305</td>\n",
              "    </tr>\n",
              "    <tr>\n",
              "      <th>1</th>\n",
              "      <td>AL</td>\n",
              "      <td>499819</td>\n",
              "      <td>295690</td>\n",
              "      <td>10148</td>\n",
              "    </tr>\n",
              "    <tr>\n",
              "      <th>2</th>\n",
              "      <td>AR</td>\n",
              "      <td>324818</td>\n",
              "      <td>315517</td>\n",
              "      <td>5319</td>\n",
              "    </tr>\n",
              "    <tr>\n",
              "      <th>3</th>\n",
              "      <td>AS</td>\n",
              "      <td>0</td>\n",
              "      <td>0</td>\n",
              "      <td>0</td>\n",
              "    </tr>\n",
              "    <tr>\n",
              "      <th>4</th>\n",
              "      <td>AZ</td>\n",
              "      <td>826454</td>\n",
              "      <td>0</td>\n",
              "      <td>16328</td>\n",
              "    </tr>\n",
              "  </tbody>\n",
              "</table>\n",
              "</div>"
            ],
            "text/plain": [
              "  state  positive  recovered  death\n",
              "0    AK     56886          0    305\n",
              "1    AL    499819     295690  10148\n",
              "2    AR    324818     315517   5319\n",
              "3    AS         0          0      0\n",
              "4    AZ    826454          0  16328"
            ]
          },
          "metadata": {
            "tags": []
          },
          "execution_count": 2
        }
      ]
    },
    {
      "cell_type": "markdown",
      "metadata": {
        "id": "2B1zwo4gdhDd"
      },
      "source": [
        "## 1.2 Analysing COVID19 Cases in US\n",
        "\n",
        "\n"
      ]
    },
    {
      "cell_type": "code",
      "metadata": {
        "_kg_hide-input": true,
        "id": "5x5FEOVEdhDF",
        "colab": {
          "base_uri": "https://localhost:8080/"
        },
        "outputId": "05f758ff-cfa4-4cec-c7ee-21e342d84ef6"
      },
      "source": [
        "total_cases = df['positive'].sum()\n",
        "print('Total number of confirmed COVID 2019 cases across US till date (7th March, 2021):', total_cases)"
      ],
      "execution_count": null,
      "outputs": [
        {
          "output_type": "stream",
          "text": [
            "Total number of confirmed COVID 2019 cases across US till date (7th March, 2021): 28756184\n"
          ],
          "name": "stdout"
        }
      ]
    },
    {
      "cell_type": "code",
      "metadata": {
        "_kg_hide-input": true,
        "_kg_hide-output": false,
        "id": "jIQzgI5YdhDh",
        "colab": {
          "base_uri": "https://localhost:8080/",
          "height": 670
        },
        "outputId": "be1719c8-b9ef-4c1b-f056-458e5e7982b9"
      },
      "source": [
        "df.fillna(0).head(30).style.background_gradient(cmap='Reds')"
      ],
      "execution_count": null,
      "outputs": [
        {
          "output_type": "execute_result",
          "data": {
            "text/html": [
              "<style  type=\"text/css\" >\n",
              "#T_f7deda2a_84da_11eb_bd38_0242ac1c0002row0_col1,#T_f7deda2a_84da_11eb_bd38_0242ac1c0002row8_col3,#T_f7deda2a_84da_11eb_bd38_0242ac1c0002row22_col2,#T_f7deda2a_84da_11eb_bd38_0242ac1c0002row28_col4{\n",
              "            background-color:  #fff2ec;\n",
              "            color:  #000000;\n",
              "        }#T_f7deda2a_84da_11eb_bd38_0242ac1c0002row0_col2,#T_f7deda2a_84da_11eb_bd38_0242ac1c0002row3_col1,#T_f7deda2a_84da_11eb_bd38_0242ac1c0002row3_col2,#T_f7deda2a_84da_11eb_bd38_0242ac1c0002row3_col3,#T_f7deda2a_84da_11eb_bd38_0242ac1c0002row4_col2,#T_f7deda2a_84da_11eb_bd38_0242ac1c0002row5_col2,#T_f7deda2a_84da_11eb_bd38_0242ac1c0002row6_col2,#T_f7deda2a_84da_11eb_bd38_0242ac1c0002row7_col2,#T_f7deda2a_84da_11eb_bd38_0242ac1c0002row9_col2,#T_f7deda2a_84da_11eb_bd38_0242ac1c0002row10_col2,#T_f7deda2a_84da_11eb_bd38_0242ac1c0002row11_col2,#T_f7deda2a_84da_11eb_bd38_0242ac1c0002row12_col1,#T_f7deda2a_84da_11eb_bd38_0242ac1c0002row12_col3,#T_f7deda2a_84da_11eb_bd38_0242ac1c0002row13_col2,#T_f7deda2a_84da_11eb_bd38_0242ac1c0002row14_col4,#T_f7deda2a_84da_11eb_bd38_0242ac1c0002row16_col2,#T_f7deda2a_84da_11eb_bd38_0242ac1c0002row17_col2,#T_f7deda2a_84da_11eb_bd38_0242ac1c0002row18_col2,#T_f7deda2a_84da_11eb_bd38_0242ac1c0002row26_col2,#T_f7deda2a_84da_11eb_bd38_0242ac1c0002row27_col1,#T_f7deda2a_84da_11eb_bd38_0242ac1c0002row27_col2,#T_f7deda2a_84da_11eb_bd38_0242ac1c0002row27_col3{\n",
              "            background-color:  #fff5f0;\n",
              "            color:  #000000;\n",
              "        }#T_f7deda2a_84da_11eb_bd38_0242ac1c0002row0_col3{\n",
              "            background-color:  #fff4ef;\n",
              "            color:  #000000;\n",
              "        }#T_f7deda2a_84da_11eb_bd38_0242ac1c0002row0_col4,#T_f7deda2a_84da_11eb_bd38_0242ac1c0002row29_col1{\n",
              "            background-color:  #fff0e9;\n",
              "            color:  #000000;\n",
              "        }#T_f7deda2a_84da_11eb_bd38_0242ac1c0002row1_col1,#T_f7deda2a_84da_11eb_bd38_0242ac1c0002row7_col3{\n",
              "            background-color:  #fedbcc;\n",
              "            color:  #000000;\n",
              "        }#T_f7deda2a_84da_11eb_bd38_0242ac1c0002row1_col2{\n",
              "            background-color:  #f75c41;\n",
              "            color:  #000000;\n",
              "        }#T_f7deda2a_84da_11eb_bd38_0242ac1c0002row1_col3,#T_f7deda2a_84da_11eb_bd38_0242ac1c0002row24_col1{\n",
              "            background-color:  #fdcebb;\n",
              "            color:  #000000;\n",
              "        }#T_f7deda2a_84da_11eb_bd38_0242ac1c0002row1_col4{\n",
              "            background-color:  #feeae0;\n",
              "            color:  #000000;\n",
              "        }#T_f7deda2a_84da_11eb_bd38_0242ac1c0002row2_col1,#T_f7deda2a_84da_11eb_bd38_0242ac1c0002row7_col4{\n",
              "            background-color:  #fee6da;\n",
              "            color:  #000000;\n",
              "        }#T_f7deda2a_84da_11eb_bd38_0242ac1c0002row2_col2{\n",
              "            background-color:  #f44f39;\n",
              "            color:  #000000;\n",
              "        }#T_f7deda2a_84da_11eb_bd38_0242ac1c0002row2_col3{\n",
              "            background-color:  #fee5d8;\n",
              "            color:  #000000;\n",
              "        }#T_f7deda2a_84da_11eb_bd38_0242ac1c0002row2_col4,#T_f7deda2a_84da_11eb_bd38_0242ac1c0002row3_col4,#T_f7deda2a_84da_11eb_bd38_0242ac1c0002row8_col1,#T_f7deda2a_84da_11eb_bd38_0242ac1c0002row8_col4,#T_f7deda2a_84da_11eb_bd38_0242ac1c0002row12_col2,#T_f7deda2a_84da_11eb_bd38_0242ac1c0002row12_col4,#T_f7deda2a_84da_11eb_bd38_0242ac1c0002row20_col4,#T_f7deda2a_84da_11eb_bd38_0242ac1c0002row23_col1,#T_f7deda2a_84da_11eb_bd38_0242ac1c0002row23_col3,#T_f7deda2a_84da_11eb_bd38_0242ac1c0002row25_col4,#T_f7deda2a_84da_11eb_bd38_0242ac1c0002row27_col4,#T_f7deda2a_84da_11eb_bd38_0242ac1c0002row29_col4{\n",
              "            background-color:  #fff3ed;\n",
              "            color:  #000000;\n",
              "        }#T_f7deda2a_84da_11eb_bd38_0242ac1c0002row4_col1,#T_f7deda2a_84da_11eb_bd38_0242ac1c0002row17_col3{\n",
              "            background-color:  #fcbfa7;\n",
              "            color:  #000000;\n",
              "        }#T_f7deda2a_84da_11eb_bd38_0242ac1c0002row4_col3,#T_f7deda2a_84da_11eb_bd38_0242ac1c0002row21_col3{\n",
              "            background-color:  #fcaa8d;\n",
              "            color:  #000000;\n",
              "        }#T_f7deda2a_84da_11eb_bd38_0242ac1c0002row4_col4{\n",
              "            background-color:  #fcbda4;\n",
              "            color:  #000000;\n",
              "        }#T_f7deda2a_84da_11eb_bd38_0242ac1c0002row5_col1,#T_f7deda2a_84da_11eb_bd38_0242ac1c0002row5_col3,#T_f7deda2a_84da_11eb_bd38_0242ac1c0002row5_col4,#T_f7deda2a_84da_11eb_bd38_0242ac1c0002row24_col2{\n",
              "            background-color:  #67000d;\n",
              "            color:  #f1f1f1;\n",
              "        }#T_f7deda2a_84da_11eb_bd38_0242ac1c0002row6_col1,#T_f7deda2a_84da_11eb_bd38_0242ac1c0002row20_col1{\n",
              "            background-color:  #fee1d3;\n",
              "            color:  #000000;\n",
              "        }#T_f7deda2a_84da_11eb_bd38_0242ac1c0002row6_col3,#T_f7deda2a_84da_11eb_bd38_0242ac1c0002row22_col1{\n",
              "            background-color:  #fee3d6;\n",
              "            color:  #000000;\n",
              "        }#T_f7deda2a_84da_11eb_bd38_0242ac1c0002row6_col4{\n",
              "            background-color:  #fedecf;\n",
              "            color:  #000000;\n",
              "        }#T_f7deda2a_84da_11eb_bd38_0242ac1c0002row7_col1,#T_f7deda2a_84da_11eb_bd38_0242ac1c0002row14_col1{\n",
              "            background-color:  #fee8dd;\n",
              "            color:  #000000;\n",
              "        }#T_f7deda2a_84da_11eb_bd38_0242ac1c0002row8_col2{\n",
              "            background-color:  #ffece4;\n",
              "            color:  #000000;\n",
              "        }#T_f7deda2a_84da_11eb_bd38_0242ac1c0002row9_col1,#T_f7deda2a_84da_11eb_bd38_0242ac1c0002row9_col3,#T_f7deda2a_84da_11eb_bd38_0242ac1c0002row29_col3{\n",
              "            background-color:  #fff1ea;\n",
              "            color:  #000000;\n",
              "        }#T_f7deda2a_84da_11eb_bd38_0242ac1c0002row9_col4,#T_f7deda2a_84da_11eb_bd38_0242ac1c0002row24_col4{\n",
              "            background-color:  #ffefe8;\n",
              "            color:  #000000;\n",
              "        }#T_f7deda2a_84da_11eb_bd38_0242ac1c0002row10_col1{\n",
              "            background-color:  #f7593f;\n",
              "            color:  #000000;\n",
              "        }#T_f7deda2a_84da_11eb_bd38_0242ac1c0002row10_col3{\n",
              "            background-color:  #f24633;\n",
              "            color:  #000000;\n",
              "        }#T_f7deda2a_84da_11eb_bd38_0242ac1c0002row10_col4{\n",
              "            background-color:  #f6583e;\n",
              "            color:  #000000;\n",
              "        }#T_f7deda2a_84da_11eb_bd38_0242ac1c0002row11_col1{\n",
              "            background-color:  #fcae92;\n",
              "            color:  #000000;\n",
              "        }#T_f7deda2a_84da_11eb_bd38_0242ac1c0002row11_col3{\n",
              "            background-color:  #fca183;\n",
              "            color:  #000000;\n",
              "        }#T_f7deda2a_84da_11eb_bd38_0242ac1c0002row11_col4{\n",
              "            background-color:  #fcab8f;\n",
              "            color:  #000000;\n",
              "        }#T_f7deda2a_84da_11eb_bd38_0242ac1c0002row13_col1,#T_f7deda2a_84da_11eb_bd38_0242ac1c0002row13_col3{\n",
              "            background-color:  #fff4ee;\n",
              "            color:  #000000;\n",
              "        }#T_f7deda2a_84da_11eb_bd38_0242ac1c0002row13_col4,#T_f7deda2a_84da_11eb_bd38_0242ac1c0002row23_col2,#T_f7deda2a_84da_11eb_bd38_0242ac1c0002row23_col4{\n",
              "            background-color:  #fff2eb;\n",
              "            color:  #000000;\n",
              "        }#T_f7deda2a_84da_11eb_bd38_0242ac1c0002row14_col2{\n",
              "            background-color:  #f34a36;\n",
              "            color:  #000000;\n",
              "        }#T_f7deda2a_84da_11eb_bd38_0242ac1c0002row14_col3{\n",
              "            background-color:  #fee4d8;\n",
              "            color:  #000000;\n",
              "        }#T_f7deda2a_84da_11eb_bd38_0242ac1c0002row15_col1{\n",
              "            background-color:  #ffede5;\n",
              "            color:  #000000;\n",
              "        }#T_f7deda2a_84da_11eb_bd38_0242ac1c0002row15_col2{\n",
              "            background-color:  #fdd2bf;\n",
              "            color:  #000000;\n",
              "        }#T_f7deda2a_84da_11eb_bd38_0242ac1c0002row15_col3,#T_f7deda2a_84da_11eb_bd38_0242ac1c0002row15_col4,#T_f7deda2a_84da_11eb_bd38_0242ac1c0002row21_col4{\n",
              "            background-color:  #fff0e8;\n",
              "            color:  #000000;\n",
              "        }#T_f7deda2a_84da_11eb_bd38_0242ac1c0002row16_col1{\n",
              "            background-color:  #fc9d7f;\n",
              "            color:  #000000;\n",
              "        }#T_f7deda2a_84da_11eb_bd38_0242ac1c0002row16_col3{\n",
              "            background-color:  #fc8262;\n",
              "            color:  #000000;\n",
              "        }#T_f7deda2a_84da_11eb_bd38_0242ac1c0002row16_col4{\n",
              "            background-color:  #fc9b7c;\n",
              "            color:  #000000;\n",
              "        }#T_f7deda2a_84da_11eb_bd38_0242ac1c0002row17_col1{\n",
              "            background-color:  #fdcdb9;\n",
              "            color:  #000000;\n",
              "        }#T_f7deda2a_84da_11eb_bd38_0242ac1c0002row17_col4{\n",
              "            background-color:  #fdcab5;\n",
              "            color:  #000000;\n",
              "        }#T_f7deda2a_84da_11eb_bd38_0242ac1c0002row18_col1,#T_f7deda2a_84da_11eb_bd38_0242ac1c0002row28_col1{\n",
              "            background-color:  #fee7dc;\n",
              "            color:  #000000;\n",
              "        }#T_f7deda2a_84da_11eb_bd38_0242ac1c0002row18_col3,#T_f7deda2a_84da_11eb_bd38_0242ac1c0002row19_col2,#T_f7deda2a_84da_11eb_bd38_0242ac1c0002row19_col3{\n",
              "            background-color:  #fee7db;\n",
              "            color:  #000000;\n",
              "        }#T_f7deda2a_84da_11eb_bd38_0242ac1c0002row18_col4{\n",
              "            background-color:  #fee5d9;\n",
              "            color:  #000000;\n",
              "        }#T_f7deda2a_84da_11eb_bd38_0242ac1c0002row19_col1,#T_f7deda2a_84da_11eb_bd38_0242ac1c0002row22_col4,#T_f7deda2a_84da_11eb_bd38_0242ac1c0002row25_col3{\n",
              "            background-color:  #fee1d4;\n",
              "            color:  #000000;\n",
              "        }#T_f7deda2a_84da_11eb_bd38_0242ac1c0002row19_col4{\n",
              "            background-color:  #fee2d5;\n",
              "            color:  #000000;\n",
              "        }#T_f7deda2a_84da_11eb_bd38_0242ac1c0002row20_col2{\n",
              "            background-color:  #c9181d;\n",
              "            color:  #f1f1f1;\n",
              "        }#T_f7deda2a_84da_11eb_bd38_0242ac1c0002row20_col3{\n",
              "            background-color:  #fdd0bc;\n",
              "            color:  #000000;\n",
              "        }#T_f7deda2a_84da_11eb_bd38_0242ac1c0002row21_col1{\n",
              "            background-color:  #fdd3c1;\n",
              "            color:  #000000;\n",
              "        }#T_f7deda2a_84da_11eb_bd38_0242ac1c0002row21_col2{\n",
              "            background-color:  #8c0912;\n",
              "            color:  #f1f1f1;\n",
              "        }#T_f7deda2a_84da_11eb_bd38_0242ac1c0002row22_col3,#T_f7deda2a_84da_11eb_bd38_0242ac1c0002row26_col4{\n",
              "            background-color:  #fedaca;\n",
              "            color:  #000000;\n",
              "        }#T_f7deda2a_84da_11eb_bd38_0242ac1c0002row24_col3{\n",
              "            background-color:  #fca98c;\n",
              "            color:  #000000;\n",
              "        }#T_f7deda2a_84da_11eb_bd38_0242ac1c0002row25_col1,#T_f7deda2a_84da_11eb_bd38_0242ac1c0002row26_col1{\n",
              "            background-color:  #fedccd;\n",
              "            color:  #000000;\n",
              "        }#T_f7deda2a_84da_11eb_bd38_0242ac1c0002row25_col2{\n",
              "            background-color:  #a81016;\n",
              "            color:  #f1f1f1;\n",
              "        }#T_f7deda2a_84da_11eb_bd38_0242ac1c0002row26_col3{\n",
              "            background-color:  #fed9c9;\n",
              "            color:  #000000;\n",
              "        }#T_f7deda2a_84da_11eb_bd38_0242ac1c0002row28_col2{\n",
              "            background-color:  #fa6849;\n",
              "            color:  #000000;\n",
              "        }#T_f7deda2a_84da_11eb_bd38_0242ac1c0002row28_col3{\n",
              "            background-color:  #fee0d2;\n",
              "            color:  #000000;\n",
              "        }#T_f7deda2a_84da_11eb_bd38_0242ac1c0002row29_col2{\n",
              "            background-color:  #fdd1be;\n",
              "            color:  #000000;\n",
              "        }</style><table id=\"T_f7deda2a_84da_11eb_bd38_0242ac1c0002\" ><thead>    <tr>        <th class=\"blank level0\" ></th>        <th class=\"col_heading level0 col0\" >state</th>        <th class=\"col_heading level0 col1\" >positive</th>        <th class=\"col_heading level0 col2\" >recovered</th>        <th class=\"col_heading level0 col3\" >death</th>        <th class=\"col_heading level0 col4\" >Total Active</th>    </tr></thead><tbody>\n",
              "                <tr>\n",
              "                        <th id=\"T_f7deda2a_84da_11eb_bd38_0242ac1c0002level0_row0\" class=\"row_heading level0 row0\" >0</th>\n",
              "                        <td id=\"T_f7deda2a_84da_11eb_bd38_0242ac1c0002row0_col0\" class=\"data row0 col0\" >AK</td>\n",
              "                        <td id=\"T_f7deda2a_84da_11eb_bd38_0242ac1c0002row0_col1\" class=\"data row0 col1\" >56886</td>\n",
              "                        <td id=\"T_f7deda2a_84da_11eb_bd38_0242ac1c0002row0_col2\" class=\"data row0 col2\" >0</td>\n",
              "                        <td id=\"T_f7deda2a_84da_11eb_bd38_0242ac1c0002row0_col3\" class=\"data row0 col3\" >305</td>\n",
              "                        <td id=\"T_f7deda2a_84da_11eb_bd38_0242ac1c0002row0_col4\" class=\"data row0 col4\" >56581</td>\n",
              "            </tr>\n",
              "            <tr>\n",
              "                        <th id=\"T_f7deda2a_84da_11eb_bd38_0242ac1c0002level0_row1\" class=\"row_heading level0 row1\" >1</th>\n",
              "                        <td id=\"T_f7deda2a_84da_11eb_bd38_0242ac1c0002row1_col0\" class=\"data row1 col0\" >AL</td>\n",
              "                        <td id=\"T_f7deda2a_84da_11eb_bd38_0242ac1c0002row1_col1\" class=\"data row1 col1\" >499819</td>\n",
              "                        <td id=\"T_f7deda2a_84da_11eb_bd38_0242ac1c0002row1_col2\" class=\"data row1 col2\" >295690</td>\n",
              "                        <td id=\"T_f7deda2a_84da_11eb_bd38_0242ac1c0002row1_col3\" class=\"data row1 col3\" >10148</td>\n",
              "                        <td id=\"T_f7deda2a_84da_11eb_bd38_0242ac1c0002row1_col4\" class=\"data row1 col4\" >193981</td>\n",
              "            </tr>\n",
              "            <tr>\n",
              "                        <th id=\"T_f7deda2a_84da_11eb_bd38_0242ac1c0002level0_row2\" class=\"row_heading level0 row2\" >2</th>\n",
              "                        <td id=\"T_f7deda2a_84da_11eb_bd38_0242ac1c0002row2_col0\" class=\"data row2 col0\" >AR</td>\n",
              "                        <td id=\"T_f7deda2a_84da_11eb_bd38_0242ac1c0002row2_col1\" class=\"data row2 col1\" >324818</td>\n",
              "                        <td id=\"T_f7deda2a_84da_11eb_bd38_0242ac1c0002row2_col2\" class=\"data row2 col2\" >315517</td>\n",
              "                        <td id=\"T_f7deda2a_84da_11eb_bd38_0242ac1c0002row2_col3\" class=\"data row2 col3\" >5319</td>\n",
              "                        <td id=\"T_f7deda2a_84da_11eb_bd38_0242ac1c0002row2_col4\" class=\"data row2 col4\" >3982</td>\n",
              "            </tr>\n",
              "            <tr>\n",
              "                        <th id=\"T_f7deda2a_84da_11eb_bd38_0242ac1c0002level0_row3\" class=\"row_heading level0 row3\" >3</th>\n",
              "                        <td id=\"T_f7deda2a_84da_11eb_bd38_0242ac1c0002row3_col0\" class=\"data row3 col0\" >AS</td>\n",
              "                        <td id=\"T_f7deda2a_84da_11eb_bd38_0242ac1c0002row3_col1\" class=\"data row3 col1\" >0</td>\n",
              "                        <td id=\"T_f7deda2a_84da_11eb_bd38_0242ac1c0002row3_col2\" class=\"data row3 col2\" >0</td>\n",
              "                        <td id=\"T_f7deda2a_84da_11eb_bd38_0242ac1c0002row3_col3\" class=\"data row3 col3\" >0</td>\n",
              "                        <td id=\"T_f7deda2a_84da_11eb_bd38_0242ac1c0002row3_col4\" class=\"data row3 col4\" >0</td>\n",
              "            </tr>\n",
              "            <tr>\n",
              "                        <th id=\"T_f7deda2a_84da_11eb_bd38_0242ac1c0002level0_row4\" class=\"row_heading level0 row4\" >4</th>\n",
              "                        <td id=\"T_f7deda2a_84da_11eb_bd38_0242ac1c0002row4_col0\" class=\"data row4 col0\" >AZ</td>\n",
              "                        <td id=\"T_f7deda2a_84da_11eb_bd38_0242ac1c0002row4_col1\" class=\"data row4 col1\" >826454</td>\n",
              "                        <td id=\"T_f7deda2a_84da_11eb_bd38_0242ac1c0002row4_col2\" class=\"data row4 col2\" >0</td>\n",
              "                        <td id=\"T_f7deda2a_84da_11eb_bd38_0242ac1c0002row4_col3\" class=\"data row4 col3\" >16328</td>\n",
              "                        <td id=\"T_f7deda2a_84da_11eb_bd38_0242ac1c0002row4_col4\" class=\"data row4 col4\" >810126</td>\n",
              "            </tr>\n",
              "            <tr>\n",
              "                        <th id=\"T_f7deda2a_84da_11eb_bd38_0242ac1c0002level0_row5\" class=\"row_heading level0 row5\" >5</th>\n",
              "                        <td id=\"T_f7deda2a_84da_11eb_bd38_0242ac1c0002row5_col0\" class=\"data row5 col0\" >CA</td>\n",
              "                        <td id=\"T_f7deda2a_84da_11eb_bd38_0242ac1c0002row5_col1\" class=\"data row5 col1\" >3501394</td>\n",
              "                        <td id=\"T_f7deda2a_84da_11eb_bd38_0242ac1c0002row5_col2\" class=\"data row5 col2\" >0</td>\n",
              "                        <td id=\"T_f7deda2a_84da_11eb_bd38_0242ac1c0002row5_col3\" class=\"data row5 col3\" >54124</td>\n",
              "                        <td id=\"T_f7deda2a_84da_11eb_bd38_0242ac1c0002row5_col4\" class=\"data row5 col4\" >3447270</td>\n",
              "            </tr>\n",
              "            <tr>\n",
              "                        <th id=\"T_f7deda2a_84da_11eb_bd38_0242ac1c0002level0_row6\" class=\"row_heading level0 row6\" >6</th>\n",
              "                        <td id=\"T_f7deda2a_84da_11eb_bd38_0242ac1c0002row6_col0\" class=\"data row6 col0\" >CO</td>\n",
              "                        <td id=\"T_f7deda2a_84da_11eb_bd38_0242ac1c0002row6_col1\" class=\"data row6 col1\" >436602</td>\n",
              "                        <td id=\"T_f7deda2a_84da_11eb_bd38_0242ac1c0002row6_col2\" class=\"data row6 col2\" >0</td>\n",
              "                        <td id=\"T_f7deda2a_84da_11eb_bd38_0242ac1c0002row6_col3\" class=\"data row6 col3\" >5989</td>\n",
              "                        <td id=\"T_f7deda2a_84da_11eb_bd38_0242ac1c0002row6_col4\" class=\"data row6 col4\" >430613</td>\n",
              "            </tr>\n",
              "            <tr>\n",
              "                        <th id=\"T_f7deda2a_84da_11eb_bd38_0242ac1c0002level0_row7\" class=\"row_heading level0 row7\" >7</th>\n",
              "                        <td id=\"T_f7deda2a_84da_11eb_bd38_0242ac1c0002row7_col0\" class=\"data row7 col0\" >CT</td>\n",
              "                        <td id=\"T_f7deda2a_84da_11eb_bd38_0242ac1c0002row7_col1\" class=\"data row7 col1\" >285330</td>\n",
              "                        <td id=\"T_f7deda2a_84da_11eb_bd38_0242ac1c0002row7_col2\" class=\"data row7 col2\" >0</td>\n",
              "                        <td id=\"T_f7deda2a_84da_11eb_bd38_0242ac1c0002row7_col3\" class=\"data row7 col3\" >7704</td>\n",
              "                        <td id=\"T_f7deda2a_84da_11eb_bd38_0242ac1c0002row7_col4\" class=\"data row7 col4\" >277626</td>\n",
              "            </tr>\n",
              "            <tr>\n",
              "                        <th id=\"T_f7deda2a_84da_11eb_bd38_0242ac1c0002level0_row8\" class=\"row_heading level0 row8\" >8</th>\n",
              "                        <td id=\"T_f7deda2a_84da_11eb_bd38_0242ac1c0002row8_col0\" class=\"data row8 col0\" >DC</td>\n",
              "                        <td id=\"T_f7deda2a_84da_11eb_bd38_0242ac1c0002row8_col1\" class=\"data row8 col1\" >41419</td>\n",
              "                        <td id=\"T_f7deda2a_84da_11eb_bd38_0242ac1c0002row8_col2\" class=\"data row8 col2\" >29570</td>\n",
              "                        <td id=\"T_f7deda2a_84da_11eb_bd38_0242ac1c0002row8_col3\" class=\"data row8 col3\" >1030</td>\n",
              "                        <td id=\"T_f7deda2a_84da_11eb_bd38_0242ac1c0002row8_col4\" class=\"data row8 col4\" >10819</td>\n",
              "            </tr>\n",
              "            <tr>\n",
              "                        <th id=\"T_f7deda2a_84da_11eb_bd38_0242ac1c0002level0_row9\" class=\"row_heading level0 row9\" >9</th>\n",
              "                        <td id=\"T_f7deda2a_84da_11eb_bd38_0242ac1c0002row9_col0\" class=\"data row9 col0\" >DE</td>\n",
              "                        <td id=\"T_f7deda2a_84da_11eb_bd38_0242ac1c0002row9_col1\" class=\"data row9 col1\" >88354</td>\n",
              "                        <td id=\"T_f7deda2a_84da_11eb_bd38_0242ac1c0002row9_col2\" class=\"data row9 col2\" >0</td>\n",
              "                        <td id=\"T_f7deda2a_84da_11eb_bd38_0242ac1c0002row9_col3\" class=\"data row9 col3\" >1473</td>\n",
              "                        <td id=\"T_f7deda2a_84da_11eb_bd38_0242ac1c0002row9_col4\" class=\"data row9 col4\" >86881</td>\n",
              "            </tr>\n",
              "            <tr>\n",
              "                        <th id=\"T_f7deda2a_84da_11eb_bd38_0242ac1c0002level0_row10\" class=\"row_heading level0 row10\" >10</th>\n",
              "                        <td id=\"T_f7deda2a_84da_11eb_bd38_0242ac1c0002row10_col0\" class=\"data row10 col0\" >FL</td>\n",
              "                        <td id=\"T_f7deda2a_84da_11eb_bd38_0242ac1c0002row10_col1\" class=\"data row10 col1\" >1909209</td>\n",
              "                        <td id=\"T_f7deda2a_84da_11eb_bd38_0242ac1c0002row10_col2\" class=\"data row10 col2\" >0</td>\n",
              "                        <td id=\"T_f7deda2a_84da_11eb_bd38_0242ac1c0002row10_col3\" class=\"data row10 col3\" >32266</td>\n",
              "                        <td id=\"T_f7deda2a_84da_11eb_bd38_0242ac1c0002row10_col4\" class=\"data row10 col4\" >1876943</td>\n",
              "            </tr>\n",
              "            <tr>\n",
              "                        <th id=\"T_f7deda2a_84da_11eb_bd38_0242ac1c0002level0_row11\" class=\"row_heading level0 row11\" >11</th>\n",
              "                        <td id=\"T_f7deda2a_84da_11eb_bd38_0242ac1c0002row11_col0\" class=\"data row11 col0\" >GA</td>\n",
              "                        <td id=\"T_f7deda2a_84da_11eb_bd38_0242ac1c0002row11_col1\" class=\"data row11 col1\" >1023487</td>\n",
              "                        <td id=\"T_f7deda2a_84da_11eb_bd38_0242ac1c0002row11_col2\" class=\"data row11 col2\" >0</td>\n",
              "                        <td id=\"T_f7deda2a_84da_11eb_bd38_0242ac1c0002row11_col3\" class=\"data row11 col3\" >17906</td>\n",
              "                        <td id=\"T_f7deda2a_84da_11eb_bd38_0242ac1c0002row11_col4\" class=\"data row11 col4\" >1005581</td>\n",
              "            </tr>\n",
              "            <tr>\n",
              "                        <th id=\"T_f7deda2a_84da_11eb_bd38_0242ac1c0002level0_row12\" class=\"row_heading level0 row12\" >12</th>\n",
              "                        <td id=\"T_f7deda2a_84da_11eb_bd38_0242ac1c0002row12_col0\" class=\"data row12 col0\" >GU</td>\n",
              "                        <td id=\"T_f7deda2a_84da_11eb_bd38_0242ac1c0002row12_col1\" class=\"data row12 col1\" >7749</td>\n",
              "                        <td id=\"T_f7deda2a_84da_11eb_bd38_0242ac1c0002row12_col2\" class=\"data row12 col2\" >7590</td>\n",
              "                        <td id=\"T_f7deda2a_84da_11eb_bd38_0242ac1c0002row12_col3\" class=\"data row12 col3\" >133</td>\n",
              "                        <td id=\"T_f7deda2a_84da_11eb_bd38_0242ac1c0002row12_col4\" class=\"data row12 col4\" >26</td>\n",
              "            </tr>\n",
              "            <tr>\n",
              "                        <th id=\"T_f7deda2a_84da_11eb_bd38_0242ac1c0002level0_row13\" class=\"row_heading level0 row13\" >13</th>\n",
              "                        <td id=\"T_f7deda2a_84da_11eb_bd38_0242ac1c0002row13_col0\" class=\"data row13 col0\" >HI</td>\n",
              "                        <td id=\"T_f7deda2a_84da_11eb_bd38_0242ac1c0002row13_col1\" class=\"data row13 col1\" >28699</td>\n",
              "                        <td id=\"T_f7deda2a_84da_11eb_bd38_0242ac1c0002row13_col2\" class=\"data row13 col2\" >0</td>\n",
              "                        <td id=\"T_f7deda2a_84da_11eb_bd38_0242ac1c0002row13_col3\" class=\"data row13 col3\" >445</td>\n",
              "                        <td id=\"T_f7deda2a_84da_11eb_bd38_0242ac1c0002row13_col4\" class=\"data row13 col4\" >28254</td>\n",
              "            </tr>\n",
              "            <tr>\n",
              "                        <th id=\"T_f7deda2a_84da_11eb_bd38_0242ac1c0002level0_row14\" class=\"row_heading level0 row14\" >14</th>\n",
              "                        <td id=\"T_f7deda2a_84da_11eb_bd38_0242ac1c0002row14_col0\" class=\"data row14 col0\" >IA</td>\n",
              "                        <td id=\"T_f7deda2a_84da_11eb_bd38_0242ac1c0002row14_col1\" class=\"data row14 col1\" >282384</td>\n",
              "                        <td id=\"T_f7deda2a_84da_11eb_bd38_0242ac1c0002row14_col2\" class=\"data row14 col2\" >320054</td>\n",
              "                        <td id=\"T_f7deda2a_84da_11eb_bd38_0242ac1c0002row14_col3\" class=\"data row14 col3\" >5558</td>\n",
              "                        <td id=\"T_f7deda2a_84da_11eb_bd38_0242ac1c0002row14_col4\" class=\"data row14 col4\" >-43228</td>\n",
              "            </tr>\n",
              "            <tr>\n",
              "                        <th id=\"T_f7deda2a_84da_11eb_bd38_0242ac1c0002level0_row15\" class=\"row_heading level0 row15\" >15</th>\n",
              "                        <td id=\"T_f7deda2a_84da_11eb_bd38_0242ac1c0002row15_col0\" class=\"data row15 col0\" >ID</td>\n",
              "                        <td id=\"T_f7deda2a_84da_11eb_bd38_0242ac1c0002row15_col1\" class=\"data row15 col1\" >172931</td>\n",
              "                        <td id=\"T_f7deda2a_84da_11eb_bd38_0242ac1c0002row15_col2\" class=\"data row15 col2\" >96017</td>\n",
              "                        <td id=\"T_f7deda2a_84da_11eb_bd38_0242ac1c0002row15_col3\" class=\"data row15 col3\" >1879</td>\n",
              "                        <td id=\"T_f7deda2a_84da_11eb_bd38_0242ac1c0002row15_col4\" class=\"data row15 col4\" >75035</td>\n",
              "            </tr>\n",
              "            <tr>\n",
              "                        <th id=\"T_f7deda2a_84da_11eb_bd38_0242ac1c0002level0_row16\" class=\"row_heading level0 row16\" >16</th>\n",
              "                        <td id=\"T_f7deda2a_84da_11eb_bd38_0242ac1c0002row16_col0\" class=\"data row16 col0\" >IL</td>\n",
              "                        <td id=\"T_f7deda2a_84da_11eb_bd38_0242ac1c0002row16_col1\" class=\"data row16 col1\" >1198335</td>\n",
              "                        <td id=\"T_f7deda2a_84da_11eb_bd38_0242ac1c0002row16_col2\" class=\"data row16 col2\" >0</td>\n",
              "                        <td id=\"T_f7deda2a_84da_11eb_bd38_0242ac1c0002row16_col3\" class=\"data row16 col3\" >23014</td>\n",
              "                        <td id=\"T_f7deda2a_84da_11eb_bd38_0242ac1c0002row16_col4\" class=\"data row16 col4\" >1175321</td>\n",
              "            </tr>\n",
              "            <tr>\n",
              "                        <th id=\"T_f7deda2a_84da_11eb_bd38_0242ac1c0002level0_row17\" class=\"row_heading level0 row17\" >17</th>\n",
              "                        <td id=\"T_f7deda2a_84da_11eb_bd38_0242ac1c0002row17_col0\" class=\"data row17 col0\" >IN</td>\n",
              "                        <td id=\"T_f7deda2a_84da_11eb_bd38_0242ac1c0002row17_col1\" class=\"data row17 col1\" >667262</td>\n",
              "                        <td id=\"T_f7deda2a_84da_11eb_bd38_0242ac1c0002row17_col2\" class=\"data row17 col2\" >0</td>\n",
              "                        <td id=\"T_f7deda2a_84da_11eb_bd38_0242ac1c0002row17_col3\" class=\"data row17 col3\" >12737</td>\n",
              "                        <td id=\"T_f7deda2a_84da_11eb_bd38_0242ac1c0002row17_col4\" class=\"data row17 col4\" >654525</td>\n",
              "            </tr>\n",
              "            <tr>\n",
              "                        <th id=\"T_f7deda2a_84da_11eb_bd38_0242ac1c0002level0_row18\" class=\"row_heading level0 row18\" >18</th>\n",
              "                        <td id=\"T_f7deda2a_84da_11eb_bd38_0242ac1c0002row18_col0\" class=\"data row18 col0\" >KS</td>\n",
              "                        <td id=\"T_f7deda2a_84da_11eb_bd38_0242ac1c0002row18_col1\" class=\"data row18 col1\" >295861</td>\n",
              "                        <td id=\"T_f7deda2a_84da_11eb_bd38_0242ac1c0002row18_col2\" class=\"data row18 col2\" >0</td>\n",
              "                        <td id=\"T_f7deda2a_84da_11eb_bd38_0242ac1c0002row18_col3\" class=\"data row18 col3\" >4812</td>\n",
              "                        <td id=\"T_f7deda2a_84da_11eb_bd38_0242ac1c0002row18_col4\" class=\"data row18 col4\" >291049</td>\n",
              "            </tr>\n",
              "            <tr>\n",
              "                        <th id=\"T_f7deda2a_84da_11eb_bd38_0242ac1c0002level0_row19\" class=\"row_heading level0 row19\" >19</th>\n",
              "                        <td id=\"T_f7deda2a_84da_11eb_bd38_0242ac1c0002row19_col0\" class=\"data row19 col0\" >KY</td>\n",
              "                        <td id=\"T_f7deda2a_84da_11eb_bd38_0242ac1c0002row19_col1\" class=\"data row19 col1\" >410709</td>\n",
              "                        <td id=\"T_f7deda2a_84da_11eb_bd38_0242ac1c0002row19_col2\" class=\"data row19 col2\" >48145</td>\n",
              "                        <td id=\"T_f7deda2a_84da_11eb_bd38_0242ac1c0002row19_col3\" class=\"data row19 col3\" >4819</td>\n",
              "                        <td id=\"T_f7deda2a_84da_11eb_bd38_0242ac1c0002row19_col4\" class=\"data row19 col4\" >357745</td>\n",
              "            </tr>\n",
              "            <tr>\n",
              "                        <th id=\"T_f7deda2a_84da_11eb_bd38_0242ac1c0002level0_row20\" class=\"row_heading level0 row20\" >20</th>\n",
              "                        <td id=\"T_f7deda2a_84da_11eb_bd38_0242ac1c0002row20_col0\" class=\"data row20 col0\" >LA</td>\n",
              "                        <td id=\"T_f7deda2a_84da_11eb_bd38_0242ac1c0002row20_col1\" class=\"data row20 col1\" >433785</td>\n",
              "                        <td id=\"T_f7deda2a_84da_11eb_bd38_0242ac1c0002row20_col2\" class=\"data row20 col2\" >415954</td>\n",
              "                        <td id=\"T_f7deda2a_84da_11eb_bd38_0242ac1c0002row20_col3\" class=\"data row20 col3\" >9748</td>\n",
              "                        <td id=\"T_f7deda2a_84da_11eb_bd38_0242ac1c0002row20_col4\" class=\"data row20 col4\" >8083</td>\n",
              "            </tr>\n",
              "            <tr>\n",
              "                        <th id=\"T_f7deda2a_84da_11eb_bd38_0242ac1c0002level0_row21\" class=\"row_heading level0 row21\" >21</th>\n",
              "                        <td id=\"T_f7deda2a_84da_11eb_bd38_0242ac1c0002row21_col0\" class=\"data row21 col0\" >MA</td>\n",
              "                        <td id=\"T_f7deda2a_84da_11eb_bd38_0242ac1c0002row21_col1\" class=\"data row21 col1\" >591356</td>\n",
              "                        <td id=\"T_f7deda2a_84da_11eb_bd38_0242ac1c0002row21_col2\" class=\"data row21 col2\" >508745</td>\n",
              "                        <td id=\"T_f7deda2a_84da_11eb_bd38_0242ac1c0002row21_col3\" class=\"data row21 col3\" >16417</td>\n",
              "                        <td id=\"T_f7deda2a_84da_11eb_bd38_0242ac1c0002row21_col4\" class=\"data row21 col4\" >66194</td>\n",
              "            </tr>\n",
              "            <tr>\n",
              "                        <th id=\"T_f7deda2a_84da_11eb_bd38_0242ac1c0002level0_row22\" class=\"row_heading level0 row22\" >22</th>\n",
              "                        <td id=\"T_f7deda2a_84da_11eb_bd38_0242ac1c0002row22_col0\" class=\"data row22 col0\" >MD</td>\n",
              "                        <td id=\"T_f7deda2a_84da_11eb_bd38_0242ac1c0002row22_col1\" class=\"data row22 col1\" >387319</td>\n",
              "                        <td id=\"T_f7deda2a_84da_11eb_bd38_0242ac1c0002row22_col2\" class=\"data row22 col2\" >9703</td>\n",
              "                        <td id=\"T_f7deda2a_84da_11eb_bd38_0242ac1c0002row22_col3\" class=\"data row22 col3\" >7955</td>\n",
              "                        <td id=\"T_f7deda2a_84da_11eb_bd38_0242ac1c0002row22_col4\" class=\"data row22 col4\" >369661</td>\n",
              "            </tr>\n",
              "            <tr>\n",
              "                        <th id=\"T_f7deda2a_84da_11eb_bd38_0242ac1c0002level0_row23\" class=\"row_heading level0 row23\" >23</th>\n",
              "                        <td id=\"T_f7deda2a_84da_11eb_bd38_0242ac1c0002row23_col0\" class=\"data row23 col0\" >ME</td>\n",
              "                        <td id=\"T_f7deda2a_84da_11eb_bd38_0242ac1c0002row23_col1\" class=\"data row23 col1\" >45794</td>\n",
              "                        <td id=\"T_f7deda2a_84da_11eb_bd38_0242ac1c0002row23_col2\" class=\"data row23 col2\" >12840</td>\n",
              "                        <td id=\"T_f7deda2a_84da_11eb_bd38_0242ac1c0002row23_col3\" class=\"data row23 col3\" >706</td>\n",
              "                        <td id=\"T_f7deda2a_84da_11eb_bd38_0242ac1c0002row23_col4\" class=\"data row23 col4\" >32248</td>\n",
              "            </tr>\n",
              "            <tr>\n",
              "                        <th id=\"T_f7deda2a_84da_11eb_bd38_0242ac1c0002level0_row24\" class=\"row_heading level0 row24\" >24</th>\n",
              "                        <td id=\"T_f7deda2a_84da_11eb_bd38_0242ac1c0002row24_col0\" class=\"data row24 col0\" >MI</td>\n",
              "                        <td id=\"T_f7deda2a_84da_11eb_bd38_0242ac1c0002row24_col1\" class=\"data row24 col1\" >656072</td>\n",
              "                        <td id=\"T_f7deda2a_84da_11eb_bd38_0242ac1c0002row24_col2\" class=\"data row24 col2\" >549881</td>\n",
              "                        <td id=\"T_f7deda2a_84da_11eb_bd38_0242ac1c0002row24_col3\" class=\"data row24 col3\" >16658</td>\n",
              "                        <td id=\"T_f7deda2a_84da_11eb_bd38_0242ac1c0002row24_col4\" class=\"data row24 col4\" >89533</td>\n",
              "            </tr>\n",
              "            <tr>\n",
              "                        <th id=\"T_f7deda2a_84da_11eb_bd38_0242ac1c0002level0_row25\" class=\"row_heading level0 row25\" >25</th>\n",
              "                        <td id=\"T_f7deda2a_84da_11eb_bd38_0242ac1c0002row25_col0\" class=\"data row25 col0\" >MN</td>\n",
              "                        <td id=\"T_f7deda2a_84da_11eb_bd38_0242ac1c0002row25_col1\" class=\"data row25 col1\" >490011</td>\n",
              "                        <td id=\"T_f7deda2a_84da_11eb_bd38_0242ac1c0002row25_col2\" class=\"data row25 col2\" >476055</td>\n",
              "                        <td id=\"T_f7deda2a_84da_11eb_bd38_0242ac1c0002row25_col3\" class=\"data row25 col3\" >6550</td>\n",
              "                        <td id=\"T_f7deda2a_84da_11eb_bd38_0242ac1c0002row25_col4\" class=\"data row25 col4\" >7406</td>\n",
              "            </tr>\n",
              "            <tr>\n",
              "                        <th id=\"T_f7deda2a_84da_11eb_bd38_0242ac1c0002level0_row26\" class=\"row_heading level0 row26\" >26</th>\n",
              "                        <td id=\"T_f7deda2a_84da_11eb_bd38_0242ac1c0002row26_col0\" class=\"data row26 col0\" >MO</td>\n",
              "                        <td id=\"T_f7deda2a_84da_11eb_bd38_0242ac1c0002row26_col1\" class=\"data row26 col1\" >480643</td>\n",
              "                        <td id=\"T_f7deda2a_84da_11eb_bd38_0242ac1c0002row26_col2\" class=\"data row26 col2\" >0</td>\n",
              "                        <td id=\"T_f7deda2a_84da_11eb_bd38_0242ac1c0002row26_col3\" class=\"data row26 col3\" >8161</td>\n",
              "                        <td id=\"T_f7deda2a_84da_11eb_bd38_0242ac1c0002row26_col4\" class=\"data row26 col4\" >472482</td>\n",
              "            </tr>\n",
              "            <tr>\n",
              "                        <th id=\"T_f7deda2a_84da_11eb_bd38_0242ac1c0002level0_row27\" class=\"row_heading level0 row27\" >27</th>\n",
              "                        <td id=\"T_f7deda2a_84da_11eb_bd38_0242ac1c0002row27_col0\" class=\"data row27 col0\" >MP</td>\n",
              "                        <td id=\"T_f7deda2a_84da_11eb_bd38_0242ac1c0002row27_col1\" class=\"data row27 col1\" >145</td>\n",
              "                        <td id=\"T_f7deda2a_84da_11eb_bd38_0242ac1c0002row27_col2\" class=\"data row27 col2\" >29</td>\n",
              "                        <td id=\"T_f7deda2a_84da_11eb_bd38_0242ac1c0002row27_col3\" class=\"data row27 col3\" >2</td>\n",
              "                        <td id=\"T_f7deda2a_84da_11eb_bd38_0242ac1c0002row27_col4\" class=\"data row27 col4\" >114</td>\n",
              "            </tr>\n",
              "            <tr>\n",
              "                        <th id=\"T_f7deda2a_84da_11eb_bd38_0242ac1c0002level0_row28\" class=\"row_heading level0 row28\" >28</th>\n",
              "                        <td id=\"T_f7deda2a_84da_11eb_bd38_0242ac1c0002row28_col0\" class=\"data row28 col0\" >MS</td>\n",
              "                        <td id=\"T_f7deda2a_84da_11eb_bd38_0242ac1c0002row28_col1\" class=\"data row28 col1\" >297581</td>\n",
              "                        <td id=\"T_f7deda2a_84da_11eb_bd38_0242ac1c0002row28_col2\" class=\"data row28 col2\" >278162</td>\n",
              "                        <td id=\"T_f7deda2a_84da_11eb_bd38_0242ac1c0002row28_col3\" class=\"data row28 col3\" >6808</td>\n",
              "                        <td id=\"T_f7deda2a_84da_11eb_bd38_0242ac1c0002row28_col4\" class=\"data row28 col4\" >12611</td>\n",
              "            </tr>\n",
              "            <tr>\n",
              "                        <th id=\"T_f7deda2a_84da_11eb_bd38_0242ac1c0002level0_row29\" class=\"row_heading level0 row29\" >29</th>\n",
              "                        <td id=\"T_f7deda2a_84da_11eb_bd38_0242ac1c0002row29_col0\" class=\"data row29 col0\" >MT</td>\n",
              "                        <td id=\"T_f7deda2a_84da_11eb_bd38_0242ac1c0002row29_col1\" class=\"data row29 col1\" >100914</td>\n",
              "                        <td id=\"T_f7deda2a_84da_11eb_bd38_0242ac1c0002row29_col2\" class=\"data row29 col2\" >97943</td>\n",
              "                        <td id=\"T_f7deda2a_84da_11eb_bd38_0242ac1c0002row29_col3\" class=\"data row29 col3\" >1381</td>\n",
              "                        <td id=\"T_f7deda2a_84da_11eb_bd38_0242ac1c0002row29_col4\" class=\"data row29 col4\" >1590</td>\n",
              "            </tr>\n",
              "    </tbody></table>"
            ],
            "text/plain": [
              "<pandas.io.formats.style.Styler at 0x7f790b6dbd50>"
            ]
          },
          "metadata": {
            "tags": []
          },
          "execution_count": 81
        }
      ]
    },
    {
      "cell_type": "markdown",
      "metadata": {
        "id": "XAYwGG6ljgcN"
      },
      "source": [
        "**Visualization Inference:** \n",
        "...\n",
        "...\n",
        "..."
      ]
    },
    {
      "cell_type": "markdown",
      "metadata": {
        "id": "4imKOeZFdhDy"
      },
      "source": [
        "## 1.3 Number of Active COVID-19 cases in affected State/Union Territories   "
      ]
    },
    {
      "cell_type": "code",
      "metadata": {
        "_kg_hide-input": true,
        "_kg_hide-output": false,
        "id": "GPBIP4-mdhD6",
        "colab": {
          "base_uri": "https://localhost:8080/",
          "height": 1000
        },
        "outputId": "f41f9b44-6794-4a68-e16d-20c410eef125"
      },
      "source": [
        "#Total Active  is the Total cases - (Number of death + Cured)\n",
        "df['Total Active'] = df['positive'] - (df['death'] + df['recovered'])\n",
        "total_active = df['Total Active'].sum()\n",
        "print('Total number of active COVID 19 cases across US:', total_active)\n",
        "Tot_Cases = df.groupby('state')['Total Active'].sum().sort_values(ascending=False).to_frame()\n",
        "Tot_Cases.style.background_gradient(cmap='Reds')"
      ],
      "execution_count": null,
      "outputs": [
        {
          "output_type": "stream",
          "text": [
            "Total number of active COVID 19 cases across US: 17307094\n"
          ],
          "name": "stdout"
        },
        {
          "output_type": "execute_result",
          "data": {
            "text/html": [
              "<style  type=\"text/css\" >\n",
              "#T_b46a354e_a368_11eb_b993_0242ac1c0002row0_col0{\n",
              "            background-color:  #67000d;\n",
              "            color:  #f1f1f1;\n",
              "        }#T_b46a354e_a368_11eb_b993_0242ac1c0002row1_col0{\n",
              "            background-color:  #f6583e;\n",
              "            color:  #000000;\n",
              "        }#T_b46a354e_a368_11eb_b993_0242ac1c0002row2_col0{\n",
              "            background-color:  #fb7050;\n",
              "            color:  #000000;\n",
              "        }#T_b46a354e_a368_11eb_b993_0242ac1c0002row3_col0{\n",
              "            background-color:  #fc9b7c;\n",
              "            color:  #000000;\n",
              "        }#T_b46a354e_a368_11eb_b993_0242ac1c0002row4_col0{\n",
              "            background-color:  #fcab8f;\n",
              "            color:  #000000;\n",
              "        }#T_b46a354e_a368_11eb_b993_0242ac1c0002row5_col0{\n",
              "            background-color:  #fcb89e;\n",
              "            color:  #000000;\n",
              "        }#T_b46a354e_a368_11eb_b993_0242ac1c0002row6_col0{\n",
              "            background-color:  #fcbda4;\n",
              "            color:  #000000;\n",
              "        }#T_b46a354e_a368_11eb_b993_0242ac1c0002row7_col0{\n",
              "            background-color:  #fcbea5;\n",
              "            color:  #000000;\n",
              "        }#T_b46a354e_a368_11eb_b993_0242ac1c0002row8_col0{\n",
              "            background-color:  #fdcab5;\n",
              "            color:  #000000;\n",
              "        }#T_b46a354e_a368_11eb_b993_0242ac1c0002row9_col0{\n",
              "            background-color:  #fdd1be;\n",
              "            color:  #000000;\n",
              "        }#T_b46a354e_a368_11eb_b993_0242ac1c0002row10_col0{\n",
              "            background-color:  #fedaca;\n",
              "            color:  #000000;\n",
              "        }#T_b46a354e_a368_11eb_b993_0242ac1c0002row11_col0{\n",
              "            background-color:  #fedecf;\n",
              "            color:  #000000;\n",
              "        }#T_b46a354e_a368_11eb_b993_0242ac1c0002row12_col0{\n",
              "            background-color:  #fee1d4;\n",
              "            color:  #000000;\n",
              "        }#T_b46a354e_a368_11eb_b993_0242ac1c0002row13_col0{\n",
              "            background-color:  #fee2d5;\n",
              "            color:  #000000;\n",
              "        }#T_b46a354e_a368_11eb_b993_0242ac1c0002row14_col0{\n",
              "            background-color:  #fee3d6;\n",
              "            color:  #000000;\n",
              "        }#T_b46a354e_a368_11eb_b993_0242ac1c0002row15_col0{\n",
              "            background-color:  #fee5d8;\n",
              "            color:  #000000;\n",
              "        }#T_b46a354e_a368_11eb_b993_0242ac1c0002row16_col0,#T_b46a354e_a368_11eb_b993_0242ac1c0002row17_col0{\n",
              "            background-color:  #fee5d9;\n",
              "            color:  #000000;\n",
              "        }#T_b46a354e_a368_11eb_b993_0242ac1c0002row18_col0{\n",
              "            background-color:  #fee6da;\n",
              "            color:  #000000;\n",
              "        }#T_b46a354e_a368_11eb_b993_0242ac1c0002row19_col0{\n",
              "            background-color:  #feeae0;\n",
              "            color:  #000000;\n",
              "        }#T_b46a354e_a368_11eb_b993_0242ac1c0002row20_col0{\n",
              "            background-color:  #ffece3;\n",
              "            color:  #000000;\n",
              "        }#T_b46a354e_a368_11eb_b993_0242ac1c0002row21_col0{\n",
              "            background-color:  #ffece4;\n",
              "            color:  #000000;\n",
              "        }#T_b46a354e_a368_11eb_b993_0242ac1c0002row22_col0{\n",
              "            background-color:  #ffede5;\n",
              "            color:  #000000;\n",
              "        }#T_b46a354e_a368_11eb_b993_0242ac1c0002row23_col0,#T_b46a354e_a368_11eb_b993_0242ac1c0002row24_col0{\n",
              "            background-color:  #ffefe8;\n",
              "            color:  #000000;\n",
              "        }#T_b46a354e_a368_11eb_b993_0242ac1c0002row25_col0,#T_b46a354e_a368_11eb_b993_0242ac1c0002row26_col0{\n",
              "            background-color:  #fff0e8;\n",
              "            color:  #000000;\n",
              "        }#T_b46a354e_a368_11eb_b993_0242ac1c0002row27_col0,#T_b46a354e_a368_11eb_b993_0242ac1c0002row28_col0,#T_b46a354e_a368_11eb_b993_0242ac1c0002row29_col0{\n",
              "            background-color:  #fff0e9;\n",
              "            color:  #000000;\n",
              "        }#T_b46a354e_a368_11eb_b993_0242ac1c0002row30_col0{\n",
              "            background-color:  #fff1ea;\n",
              "            color:  #000000;\n",
              "        }#T_b46a354e_a368_11eb_b993_0242ac1c0002row31_col0,#T_b46a354e_a368_11eb_b993_0242ac1c0002row32_col0,#T_b46a354e_a368_11eb_b993_0242ac1c0002row33_col0,#T_b46a354e_a368_11eb_b993_0242ac1c0002row34_col0{\n",
              "            background-color:  #fff2eb;\n",
              "            color:  #000000;\n",
              "        }#T_b46a354e_a368_11eb_b993_0242ac1c0002row35_col0,#T_b46a354e_a368_11eb_b993_0242ac1c0002row36_col0,#T_b46a354e_a368_11eb_b993_0242ac1c0002row37_col0,#T_b46a354e_a368_11eb_b993_0242ac1c0002row38_col0{\n",
              "            background-color:  #fff2ec;\n",
              "            color:  #000000;\n",
              "        }#T_b46a354e_a368_11eb_b993_0242ac1c0002row39_col0,#T_b46a354e_a368_11eb_b993_0242ac1c0002row40_col0,#T_b46a354e_a368_11eb_b993_0242ac1c0002row41_col0,#T_b46a354e_a368_11eb_b993_0242ac1c0002row42_col0,#T_b46a354e_a368_11eb_b993_0242ac1c0002row43_col0,#T_b46a354e_a368_11eb_b993_0242ac1c0002row44_col0,#T_b46a354e_a368_11eb_b993_0242ac1c0002row45_col0,#T_b46a354e_a368_11eb_b993_0242ac1c0002row46_col0,#T_b46a354e_a368_11eb_b993_0242ac1c0002row47_col0,#T_b46a354e_a368_11eb_b993_0242ac1c0002row48_col0,#T_b46a354e_a368_11eb_b993_0242ac1c0002row49_col0,#T_b46a354e_a368_11eb_b993_0242ac1c0002row50_col0,#T_b46a354e_a368_11eb_b993_0242ac1c0002row51_col0,#T_b46a354e_a368_11eb_b993_0242ac1c0002row52_col0,#T_b46a354e_a368_11eb_b993_0242ac1c0002row53_col0,#T_b46a354e_a368_11eb_b993_0242ac1c0002row54_col0{\n",
              "            background-color:  #fff3ed;\n",
              "            color:  #000000;\n",
              "        }#T_b46a354e_a368_11eb_b993_0242ac1c0002row55_col0{\n",
              "            background-color:  #fff5f0;\n",
              "            color:  #000000;\n",
              "        }</style><table id=\"T_b46a354e_a368_11eb_b993_0242ac1c0002\" ><thead>    <tr>        <th class=\"blank level0\" ></th>        <th class=\"col_heading level0 col0\" >Total Active</th>    </tr>    <tr>        <th class=\"index_name level0\" >state</th>        <th class=\"blank\" ></th>    </tr></thead><tbody>\n",
              "                <tr>\n",
              "                        <th id=\"T_b46a354e_a368_11eb_b993_0242ac1c0002level0_row0\" class=\"row_heading level0 row0\" >CA</th>\n",
              "                        <td id=\"T_b46a354e_a368_11eb_b993_0242ac1c0002row0_col0\" class=\"data row0 col0\" >3447270</td>\n",
              "            </tr>\n",
              "            <tr>\n",
              "                        <th id=\"T_b46a354e_a368_11eb_b993_0242ac1c0002level0_row1\" class=\"row_heading level0 row1\" >FL</th>\n",
              "                        <td id=\"T_b46a354e_a368_11eb_b993_0242ac1c0002row1_col0\" class=\"data row1 col0\" >1876943</td>\n",
              "            </tr>\n",
              "            <tr>\n",
              "                        <th id=\"T_b46a354e_a368_11eb_b993_0242ac1c0002level0_row2\" class=\"row_heading level0 row2\" >NY</th>\n",
              "                        <td id=\"T_b46a354e_a368_11eb_b993_0242ac1c0002row2_col0\" class=\"data row2 col0\" >1642140</td>\n",
              "            </tr>\n",
              "            <tr>\n",
              "                        <th id=\"T_b46a354e_a368_11eb_b993_0242ac1c0002level0_row3\" class=\"row_heading level0 row3\" >IL</th>\n",
              "                        <td id=\"T_b46a354e_a368_11eb_b993_0242ac1c0002row3_col0\" class=\"data row3 col0\" >1175321</td>\n",
              "            </tr>\n",
              "            <tr>\n",
              "                        <th id=\"T_b46a354e_a368_11eb_b993_0242ac1c0002level0_row4\" class=\"row_heading level0 row4\" >GA</th>\n",
              "                        <td id=\"T_b46a354e_a368_11eb_b993_0242ac1c0002row4_col0\" class=\"data row4 col0\" >1005581</td>\n",
              "            </tr>\n",
              "            <tr>\n",
              "                        <th id=\"T_b46a354e_a368_11eb_b993_0242ac1c0002level0_row5\" class=\"row_heading level0 row5\" >NC</th>\n",
              "                        <td id=\"T_b46a354e_a368_11eb_b993_0242ac1c0002row5_col0\" class=\"data row5 col0\" >860674</td>\n",
              "            </tr>\n",
              "            <tr>\n",
              "                        <th id=\"T_b46a354e_a368_11eb_b993_0242ac1c0002level0_row6\" class=\"row_heading level0 row6\" >AZ</th>\n",
              "                        <td id=\"T_b46a354e_a368_11eb_b993_0242ac1c0002row6_col0\" class=\"data row6 col0\" >810126</td>\n",
              "            </tr>\n",
              "            <tr>\n",
              "                        <th id=\"T_b46a354e_a368_11eb_b993_0242ac1c0002level0_row7\" class=\"row_heading level0 row7\" >NJ</th>\n",
              "                        <td id=\"T_b46a354e_a368_11eb_b993_0242ac1c0002row7_col0\" class=\"data row7 col0\" >789035</td>\n",
              "            </tr>\n",
              "            <tr>\n",
              "                        <th id=\"T_b46a354e_a368_11eb_b993_0242ac1c0002level0_row8\" class=\"row_heading level0 row8\" >IN</th>\n",
              "                        <td id=\"T_b46a354e_a368_11eb_b993_0242ac1c0002row8_col0\" class=\"data row8 col0\" >654525</td>\n",
              "            </tr>\n",
              "            <tr>\n",
              "                        <th id=\"T_b46a354e_a368_11eb_b993_0242ac1c0002level0_row9\" class=\"row_heading level0 row9\" >VA</th>\n",
              "                        <td id=\"T_b46a354e_a368_11eb_b993_0242ac1c0002row9_col0\" class=\"data row9 col0\" >576104</td>\n",
              "            </tr>\n",
              "            <tr>\n",
              "                        <th id=\"T_b46a354e_a368_11eb_b993_0242ac1c0002level0_row10\" class=\"row_heading level0 row10\" >MO</th>\n",
              "                        <td id=\"T_b46a354e_a368_11eb_b993_0242ac1c0002row10_col0\" class=\"data row10 col0\" >472482</td>\n",
              "            </tr>\n",
              "            <tr>\n",
              "                        <th id=\"T_b46a354e_a368_11eb_b993_0242ac1c0002level0_row11\" class=\"row_heading level0 row11\" >CO</th>\n",
              "                        <td id=\"T_b46a354e_a368_11eb_b993_0242ac1c0002row11_col0\" class=\"data row11 col0\" >430613</td>\n",
              "            </tr>\n",
              "            <tr>\n",
              "                        <th id=\"T_b46a354e_a368_11eb_b993_0242ac1c0002level0_row12\" class=\"row_heading level0 row12\" >MD</th>\n",
              "                        <td id=\"T_b46a354e_a368_11eb_b993_0242ac1c0002row12_col0\" class=\"data row12 col0\" >369661</td>\n",
              "            </tr>\n",
              "            <tr>\n",
              "                        <th id=\"T_b46a354e_a368_11eb_b993_0242ac1c0002level0_row13\" class=\"row_heading level0 row13\" >KY</th>\n",
              "                        <td id=\"T_b46a354e_a368_11eb_b993_0242ac1c0002row13_col0\" class=\"data row13 col0\" >357745</td>\n",
              "            </tr>\n",
              "            <tr>\n",
              "                        <th id=\"T_b46a354e_a368_11eb_b993_0242ac1c0002level0_row14\" class=\"row_heading level0 row14\" >WA</th>\n",
              "                        <td id=\"T_b46a354e_a368_11eb_b993_0242ac1c0002row14_col0\" class=\"data row14 col0\" >339491</td>\n",
              "            </tr>\n",
              "            <tr>\n",
              "                        <th id=\"T_b46a354e_a368_11eb_b993_0242ac1c0002level0_row15\" class=\"row_heading level0 row15\" >SC</th>\n",
              "                        <td id=\"T_b46a354e_a368_11eb_b993_0242ac1c0002row15_col0\" class=\"data row15 col0\" >298248</td>\n",
              "            </tr>\n",
              "            <tr>\n",
              "                        <th id=\"T_b46a354e_a368_11eb_b993_0242ac1c0002level0_row16\" class=\"row_heading level0 row16\" >NV</th>\n",
              "                        <td id=\"T_b46a354e_a368_11eb_b993_0242ac1c0002row16_col0\" class=\"data row16 col0\" >291153</td>\n",
              "            </tr>\n",
              "            <tr>\n",
              "                        <th id=\"T_b46a354e_a368_11eb_b993_0242ac1c0002level0_row17\" class=\"row_heading level0 row17\" >KS</th>\n",
              "                        <td id=\"T_b46a354e_a368_11eb_b993_0242ac1c0002row17_col0\" class=\"data row17 col0\" >291049</td>\n",
              "            </tr>\n",
              "            <tr>\n",
              "                        <th id=\"T_b46a354e_a368_11eb_b993_0242ac1c0002level0_row18\" class=\"row_heading level0 row18\" >CT</th>\n",
              "                        <td id=\"T_b46a354e_a368_11eb_b993_0242ac1c0002row18_col0\" class=\"data row18 col0\" >277626</td>\n",
              "            </tr>\n",
              "            <tr>\n",
              "                        <th id=\"T_b46a354e_a368_11eb_b993_0242ac1c0002level0_row19\" class=\"row_heading level0 row19\" >AL</th>\n",
              "                        <td id=\"T_b46a354e_a368_11eb_b993_0242ac1c0002row19_col0\" class=\"data row19 col0\" >193981</td>\n",
              "            </tr>\n",
              "            <tr>\n",
              "                        <th id=\"T_b46a354e_a368_11eb_b993_0242ac1c0002level0_row20\" class=\"row_heading level0 row20\" >OR</th>\n",
              "                        <td id=\"T_b46a354e_a368_11eb_b993_0242ac1c0002row20_col0\" class=\"data row20 col0\" >154783</td>\n",
              "            </tr>\n",
              "            <tr>\n",
              "                        <th id=\"T_b46a354e_a368_11eb_b993_0242ac1c0002level0_row21\" class=\"row_heading level0 row21\" >TX</th>\n",
              "                        <td id=\"T_b46a354e_a368_11eb_b993_0242ac1c0002row21_col0\" class=\"data row21 col0\" >139758</td>\n",
              "            </tr>\n",
              "            <tr>\n",
              "                        <th id=\"T_b46a354e_a368_11eb_b993_0242ac1c0002level0_row22\" class=\"row_heading level0 row22\" >RI</th>\n",
              "                        <td id=\"T_b46a354e_a368_11eb_b993_0242ac1c0002row22_col0\" class=\"data row22 col0\" >126234</td>\n",
              "            </tr>\n",
              "            <tr>\n",
              "                        <th id=\"T_b46a354e_a368_11eb_b993_0242ac1c0002level0_row23\" class=\"row_heading level0 row23\" >MI</th>\n",
              "                        <td id=\"T_b46a354e_a368_11eb_b993_0242ac1c0002row23_col0\" class=\"data row23 col0\" >89533</td>\n",
              "            </tr>\n",
              "            <tr>\n",
              "                        <th id=\"T_b46a354e_a368_11eb_b993_0242ac1c0002level0_row24\" class=\"row_heading level0 row24\" >DE</th>\n",
              "                        <td id=\"T_b46a354e_a368_11eb_b993_0242ac1c0002row24_col0\" class=\"data row24 col0\" >86881</td>\n",
              "            </tr>\n",
              "            <tr>\n",
              "                        <th id=\"T_b46a354e_a368_11eb_b993_0242ac1c0002level0_row25\" class=\"row_heading level0 row25\" >ID</th>\n",
              "                        <td id=\"T_b46a354e_a368_11eb_b993_0242ac1c0002row25_col0\" class=\"data row25 col0\" >75035</td>\n",
              "            </tr>\n",
              "            <tr>\n",
              "                        <th id=\"T_b46a354e_a368_11eb_b993_0242ac1c0002level0_row26\" class=\"row_heading level0 row26\" >MA</th>\n",
              "                        <td id=\"T_b46a354e_a368_11eb_b993_0242ac1c0002row26_col0\" class=\"data row26 col0\" >66194</td>\n",
              "            </tr>\n",
              "            <tr>\n",
              "                        <th id=\"T_b46a354e_a368_11eb_b993_0242ac1c0002level0_row27\" class=\"row_heading level0 row27\" >PA</th>\n",
              "                        <td id=\"T_b46a354e_a368_11eb_b993_0242ac1c0002row27_col0\" class=\"data row27 col0\" >62538</td>\n",
              "            </tr>\n",
              "            <tr>\n",
              "                        <th id=\"T_b46a354e_a368_11eb_b993_0242ac1c0002level0_row28\" class=\"row_heading level0 row28\" >WI</th>\n",
              "                        <td id=\"T_b46a354e_a368_11eb_b993_0242ac1c0002row28_col0\" class=\"data row28 col0\" >61345</td>\n",
              "            </tr>\n",
              "            <tr>\n",
              "                        <th id=\"T_b46a354e_a368_11eb_b993_0242ac1c0002level0_row29\" class=\"row_heading level0 row29\" >AK</th>\n",
              "                        <td id=\"T_b46a354e_a368_11eb_b993_0242ac1c0002row29_col0\" class=\"data row29 col0\" >56581</td>\n",
              "            </tr>\n",
              "            <tr>\n",
              "                        <th id=\"T_b46a354e_a368_11eb_b993_0242ac1c0002level0_row30\" class=\"row_heading level0 row30\" >NE</th>\n",
              "                        <td id=\"T_b46a354e_a368_11eb_b993_0242ac1c0002row30_col0\" class=\"data row30 col0\" >43769</td>\n",
              "            </tr>\n",
              "            <tr>\n",
              "                        <th id=\"T_b46a354e_a368_11eb_b993_0242ac1c0002level0_row31\" class=\"row_heading level0 row31\" >OH</th>\n",
              "                        <td id=\"T_b46a354e_a368_11eb_b993_0242ac1c0002row31_col0\" class=\"data row31 col0\" >35160</td>\n",
              "            </tr>\n",
              "            <tr>\n",
              "                        <th id=\"T_b46a354e_a368_11eb_b993_0242ac1c0002level0_row32\" class=\"row_heading level0 row32\" >ME</th>\n",
              "                        <td id=\"T_b46a354e_a368_11eb_b993_0242ac1c0002row32_col0\" class=\"data row32 col0\" >32248</td>\n",
              "            </tr>\n",
              "            <tr>\n",
              "                        <th id=\"T_b46a354e_a368_11eb_b993_0242ac1c0002level0_row33\" class=\"row_heading level0 row33\" >HI</th>\n",
              "                        <td id=\"T_b46a354e_a368_11eb_b993_0242ac1c0002row33_col0\" class=\"data row33 col0\" >28254</td>\n",
              "            </tr>\n",
              "            <tr>\n",
              "                        <th id=\"T_b46a354e_a368_11eb_b993_0242ac1c0002level0_row34\" class=\"row_heading level0 row34\" >NM</th>\n",
              "                        <td id=\"T_b46a354e_a368_11eb_b993_0242ac1c0002row34_col0\" class=\"data row34 col0\" >26560</td>\n",
              "            </tr>\n",
              "            <tr>\n",
              "                        <th id=\"T_b46a354e_a368_11eb_b993_0242ac1c0002level0_row35\" class=\"row_heading level0 row35\" >UT</th>\n",
              "                        <td id=\"T_b46a354e_a368_11eb_b993_0242ac1c0002row35_col0\" class=\"data row35 col0\" >13916</td>\n",
              "            </tr>\n",
              "            <tr>\n",
              "                        <th id=\"T_b46a354e_a368_11eb_b993_0242ac1c0002level0_row36\" class=\"row_heading level0 row36\" >TN</th>\n",
              "                        <td id=\"T_b46a354e_a368_11eb_b993_0242ac1c0002row36_col0\" class=\"data row36 col0\" >13870</td>\n",
              "            </tr>\n",
              "            <tr>\n",
              "                        <th id=\"T_b46a354e_a368_11eb_b993_0242ac1c0002level0_row37\" class=\"row_heading level0 row37\" >MS</th>\n",
              "                        <td id=\"T_b46a354e_a368_11eb_b993_0242ac1c0002row37_col0\" class=\"data row37 col0\" >12611</td>\n",
              "            </tr>\n",
              "            <tr>\n",
              "                        <th id=\"T_b46a354e_a368_11eb_b993_0242ac1c0002level0_row38\" class=\"row_heading level0 row38\" >OK</th>\n",
              "                        <td id=\"T_b46a354e_a368_11eb_b993_0242ac1c0002row38_col0\" class=\"data row38 col0\" >12286</td>\n",
              "            </tr>\n",
              "            <tr>\n",
              "                        <th id=\"T_b46a354e_a368_11eb_b993_0242ac1c0002level0_row39\" class=\"row_heading level0 row39\" >DC</th>\n",
              "                        <td id=\"T_b46a354e_a368_11eb_b993_0242ac1c0002row39_col0\" class=\"data row39 col0\" >10819</td>\n",
              "            </tr>\n",
              "            <tr>\n",
              "                        <th id=\"T_b46a354e_a368_11eb_b993_0242ac1c0002level0_row40\" class=\"row_heading level0 row40\" >LA</th>\n",
              "                        <td id=\"T_b46a354e_a368_11eb_b993_0242ac1c0002row40_col0\" class=\"data row40 col0\" >8083</td>\n",
              "            </tr>\n",
              "            <tr>\n",
              "                        <th id=\"T_b46a354e_a368_11eb_b993_0242ac1c0002level0_row41\" class=\"row_heading level0 row41\" >MN</th>\n",
              "                        <td id=\"T_b46a354e_a368_11eb_b993_0242ac1c0002row41_col0\" class=\"data row41 col0\" >7406</td>\n",
              "            </tr>\n",
              "            <tr>\n",
              "                        <th id=\"T_b46a354e_a368_11eb_b993_0242ac1c0002level0_row42\" class=\"row_heading level0 row42\" >PR</th>\n",
              "                        <td id=\"T_b46a354e_a368_11eb_b993_0242ac1c0002row42_col0\" class=\"data row42 col0\" >7281</td>\n",
              "            </tr>\n",
              "            <tr>\n",
              "                        <th id=\"T_b46a354e_a368_11eb_b993_0242ac1c0002level0_row43\" class=\"row_heading level0 row43\" >WV</th>\n",
              "                        <td id=\"T_b46a354e_a368_11eb_b993_0242ac1c0002row43_col0\" class=\"data row43 col0\" >5737</td>\n",
              "            </tr>\n",
              "            <tr>\n",
              "                        <th id=\"T_b46a354e_a368_11eb_b993_0242ac1c0002level0_row44\" class=\"row_heading level0 row44\" >AR</th>\n",
              "                        <td id=\"T_b46a354e_a368_11eb_b993_0242ac1c0002row44_col0\" class=\"data row44 col0\" >3982</td>\n",
              "            </tr>\n",
              "            <tr>\n",
              "                        <th id=\"T_b46a354e_a368_11eb_b993_0242ac1c0002level0_row45\" class=\"row_heading level0 row45\" >VT</th>\n",
              "                        <td id=\"T_b46a354e_a368_11eb_b993_0242ac1c0002row45_col0\" class=\"data row45 col0\" >2491</td>\n",
              "            </tr>\n",
              "            <tr>\n",
              "                        <th id=\"T_b46a354e_a368_11eb_b993_0242ac1c0002level0_row46\" class=\"row_heading level0 row46\" >SD</th>\n",
              "                        <td id=\"T_b46a354e_a368_11eb_b993_0242ac1c0002row46_col0\" class=\"data row46 col0\" >2158</td>\n",
              "            </tr>\n",
              "            <tr>\n",
              "                        <th id=\"T_b46a354e_a368_11eb_b993_0242ac1c0002level0_row47\" class=\"row_heading level0 row47\" >NH</th>\n",
              "                        <td id=\"T_b46a354e_a368_11eb_b993_0242ac1c0002row47_col0\" class=\"data row47 col0\" >2062</td>\n",
              "            </tr>\n",
              "            <tr>\n",
              "                        <th id=\"T_b46a354e_a368_11eb_b993_0242ac1c0002level0_row48\" class=\"row_heading level0 row48\" >MT</th>\n",
              "                        <td id=\"T_b46a354e_a368_11eb_b993_0242ac1c0002row48_col0\" class=\"data row48 col0\" >1590</td>\n",
              "            </tr>\n",
              "            <tr>\n",
              "                        <th id=\"T_b46a354e_a368_11eb_b993_0242ac1c0002level0_row49\" class=\"row_heading level0 row49\" >ND</th>\n",
              "                        <td id=\"T_b46a354e_a368_11eb_b993_0242ac1c0002row49_col0\" class=\"data row49 col0\" >587</td>\n",
              "            </tr>\n",
              "            <tr>\n",
              "                        <th id=\"T_b46a354e_a368_11eb_b993_0242ac1c0002level0_row50\" class=\"row_heading level0 row50\" >WY</th>\n",
              "                        <td id=\"T_b46a354e_a368_11eb_b993_0242ac1c0002row50_col0\" class=\"data row50 col0\" >532</td>\n",
              "            </tr>\n",
              "            <tr>\n",
              "                        <th id=\"T_b46a354e_a368_11eb_b993_0242ac1c0002level0_row51\" class=\"row_heading level0 row51\" >VI</th>\n",
              "                        <td id=\"T_b46a354e_a368_11eb_b993_0242ac1c0002row51_col0\" class=\"data row51 col0\" >130</td>\n",
              "            </tr>\n",
              "            <tr>\n",
              "                        <th id=\"T_b46a354e_a368_11eb_b993_0242ac1c0002level0_row52\" class=\"row_heading level0 row52\" >MP</th>\n",
              "                        <td id=\"T_b46a354e_a368_11eb_b993_0242ac1c0002row52_col0\" class=\"data row52 col0\" >114</td>\n",
              "            </tr>\n",
              "            <tr>\n",
              "                        <th id=\"T_b46a354e_a368_11eb_b993_0242ac1c0002level0_row53\" class=\"row_heading level0 row53\" >GU</th>\n",
              "                        <td id=\"T_b46a354e_a368_11eb_b993_0242ac1c0002row53_col0\" class=\"data row53 col0\" >26</td>\n",
              "            </tr>\n",
              "            <tr>\n",
              "                        <th id=\"T_b46a354e_a368_11eb_b993_0242ac1c0002level0_row54\" class=\"row_heading level0 row54\" >AS</th>\n",
              "                        <td id=\"T_b46a354e_a368_11eb_b993_0242ac1c0002row54_col0\" class=\"data row54 col0\" >0</td>\n",
              "            </tr>\n",
              "            <tr>\n",
              "                        <th id=\"T_b46a354e_a368_11eb_b993_0242ac1c0002level0_row55\" class=\"row_heading level0 row55\" >IA</th>\n",
              "                        <td id=\"T_b46a354e_a368_11eb_b993_0242ac1c0002row55_col0\" class=\"data row55 col0\" >-43228</td>\n",
              "            </tr>\n",
              "    </tbody></table>"
            ],
            "text/plain": [
              "<pandas.io.formats.style.Styler at 0x7f8951f6ae90>"
            ]
          },
          "metadata": {
            "tags": []
          },
          "execution_count": 3
        }
      ]
    },
    {
      "cell_type": "markdown",
      "metadata": {
        "id": "0q44og8xdhE1"
      },
      "source": [
        "## 1.4 Visualising the spread geographically"
      ]
    },
    {
      "cell_type": "code",
      "metadata": {
        "id": "eagHHq5qHfAc"
      },
      "source": [
        "US_coor = pd.read_excel('US_coor.xlsx')"
      ],
      "execution_count": null,
      "outputs": []
    },
    {
      "cell_type": "code",
      "metadata": {
        "_kg_hide-input": true,
        "_kg_hide-output": false,
        "id": "d6_6oRNadhE5",
        "colab": {
          "base_uri": "https://localhost:8080/",
          "height": 763
        },
        "outputId": "534df347-3f6c-4aa9-8d6c-be628c92c287"
      },
      "source": [
        "# Learn how to use folium to create a zoomable map\n",
        "df_full = pd.merge(US_coor,df,on='state')\n",
        "map = folium.Map(location=[48, -102], zoom_start=4,tiles='Stamen Terrain')\n",
        "\n",
        "for lat, lon, value, name in zip(df_full['latitude'], df_full['longitude'], df_full['positive'], df_full['state']):\n",
        "    folium.CircleMarker([lat, lon], radius=value*0.00004+5, popup = ('<strong>State</strong>: ' + str(name).capitalize() + '<br>''<strong>Total Cases</strong>: ' + str(value) + '<br>'),color='red',fill_color='red',fill_opacity=0.3 ).add_to(map)\n",
        "map"
      ],
      "execution_count": null,
      "outputs": [
        {
          "output_type": "execute_result",
          "data": {
            "text/html": [
              "<div style=\"width:100%;\"><div style=\"position:relative;width:100%;height:0;padding-bottom:60%;\"><span style=\"color:#565656\">Make this Notebook Trusted to load map: File -> Trust Notebook</span><iframe src=\"about:blank\" style=\"position:absolute;width:100%;height:100%;left:0;top:0;border:none !important;\" data-html=%3C%21DOCTYPE%20html%3E%0A%3Chead%3E%20%20%20%20%0A%20%20%20%20%3Cmeta%20http-equiv%3D%22content-type%22%20content%3D%22text/html%3B%20charset%3DUTF-8%22%20/%3E%0A%20%20%20%20%3Cscript%3EL_PREFER_CANVAS%3Dfalse%3B%20L_NO_TOUCH%3Dfalse%3B%20L_DISABLE_3D%3Dfalse%3B%3C/script%3E%0A%20%20%20%20%3Cscript%20src%3D%22https%3A//cdn.jsdelivr.net/npm/leaflet%401.4.0/dist/leaflet.js%22%3E%3C/script%3E%0A%20%20%20%20%3Cscript%20src%3D%22https%3A//code.jquery.com/jquery-1.12.4.min.js%22%3E%3C/script%3E%0A%20%20%20%20%3Cscript%20src%3D%22https%3A//maxcdn.bootstrapcdn.com/bootstrap/3.2.0/js/bootstrap.min.js%22%3E%3C/script%3E%0A%20%20%20%20%3Cscript%20src%3D%22https%3A//cdnjs.cloudflare.com/ajax/libs/Leaflet.awesome-markers/2.0.2/leaflet.awesome-markers.js%22%3E%3C/script%3E%0A%20%20%20%20%3Clink%20rel%3D%22stylesheet%22%20href%3D%22https%3A//cdn.jsdelivr.net/npm/leaflet%401.4.0/dist/leaflet.css%22/%3E%0A%20%20%20%20%3Clink%20rel%3D%22stylesheet%22%20href%3D%22https%3A//maxcdn.bootstrapcdn.com/bootstrap/3.2.0/css/bootstrap.min.css%22/%3E%0A%20%20%20%20%3Clink%20rel%3D%22stylesheet%22%20href%3D%22https%3A//maxcdn.bootstrapcdn.com/bootstrap/3.2.0/css/bootstrap-theme.min.css%22/%3E%0A%20%20%20%20%3Clink%20rel%3D%22stylesheet%22%20href%3D%22https%3A//maxcdn.bootstrapcdn.com/font-awesome/4.6.3/css/font-awesome.min.css%22/%3E%0A%20%20%20%20%3Clink%20rel%3D%22stylesheet%22%20href%3D%22https%3A//cdnjs.cloudflare.com/ajax/libs/Leaflet.awesome-markers/2.0.2/leaflet.awesome-markers.css%22/%3E%0A%20%20%20%20%3Clink%20rel%3D%22stylesheet%22%20href%3D%22https%3A//rawcdn.githack.com/python-visualization/folium/master/folium/templates/leaflet.awesome.rotate.css%22/%3E%0A%20%20%20%20%3Cstyle%3Ehtml%2C%20body%20%7Bwidth%3A%20100%25%3Bheight%3A%20100%25%3Bmargin%3A%200%3Bpadding%3A%200%3B%7D%3C/style%3E%0A%20%20%20%20%3Cstyle%3E%23map%20%7Bposition%3Aabsolute%3Btop%3A0%3Bbottom%3A0%3Bright%3A0%3Bleft%3A0%3B%7D%3C/style%3E%0A%20%20%20%20%0A%20%20%20%20%3Cmeta%20name%3D%22viewport%22%20content%3D%22width%3Ddevice-width%2C%0A%20%20%20%20%20%20%20%20initial-scale%3D1.0%2C%20maximum-scale%3D1.0%2C%20user-scalable%3Dno%22%20/%3E%0A%20%20%20%20%3Cstyle%3E%23map_06c78ff1e55844d183a6735723b95cfe%20%7B%0A%20%20%20%20%20%20%20%20position%3A%20relative%3B%0A%20%20%20%20%20%20%20%20width%3A%20100.0%25%3B%0A%20%20%20%20%20%20%20%20height%3A%20100.0%25%3B%0A%20%20%20%20%20%20%20%20left%3A%200.0%25%3B%0A%20%20%20%20%20%20%20%20top%3A%200.0%25%3B%0A%20%20%20%20%20%20%20%20%7D%0A%20%20%20%20%3C/style%3E%0A%3C/head%3E%0A%3Cbody%3E%20%20%20%20%0A%20%20%20%20%0A%20%20%20%20%3Cdiv%20class%3D%22folium-map%22%20id%3D%22map_06c78ff1e55844d183a6735723b95cfe%22%20%3E%3C/div%3E%0A%3C/body%3E%0A%3Cscript%3E%20%20%20%20%0A%20%20%20%20%0A%20%20%20%20%0A%20%20%20%20%20%20%20%20var%20bounds%20%3D%20null%3B%0A%20%20%20%20%0A%0A%20%20%20%20var%20map_06c78ff1e55844d183a6735723b95cfe%20%3D%20L.map%28%0A%20%20%20%20%20%20%20%20%27map_06c78ff1e55844d183a6735723b95cfe%27%2C%20%7B%0A%20%20%20%20%20%20%20%20center%3A%20%5B48%2C%20-102%5D%2C%0A%20%20%20%20%20%20%20%20zoom%3A%204%2C%0A%20%20%20%20%20%20%20%20maxBounds%3A%20bounds%2C%0A%20%20%20%20%20%20%20%20layers%3A%20%5B%5D%2C%0A%20%20%20%20%20%20%20%20worldCopyJump%3A%20false%2C%0A%20%20%20%20%20%20%20%20crs%3A%20L.CRS.EPSG3857%2C%0A%20%20%20%20%20%20%20%20zoomControl%3A%20true%2C%0A%20%20%20%20%20%20%20%20%7D%29%3B%0A%0A%0A%20%20%20%20%0A%20%20%20%20var%20tile_layer_af206aed026c4a0ba1be41ac5e94a3d0%20%3D%20L.tileLayer%28%0A%20%20%20%20%20%20%20%20%27https%3A//stamen-tiles-%7Bs%7D.a.ssl.fastly.net/terrain/%7Bz%7D/%7Bx%7D/%7By%7D.jpg%27%2C%0A%20%20%20%20%20%20%20%20%7B%0A%20%20%20%20%20%20%20%20%22attribution%22%3A%20null%2C%0A%20%20%20%20%20%20%20%20%22detectRetina%22%3A%20false%2C%0A%20%20%20%20%20%20%20%20%22maxNativeZoom%22%3A%2018%2C%0A%20%20%20%20%20%20%20%20%22maxZoom%22%3A%2018%2C%0A%20%20%20%20%20%20%20%20%22minZoom%22%3A%200%2C%0A%20%20%20%20%20%20%20%20%22noWrap%22%3A%20false%2C%0A%20%20%20%20%20%20%20%20%22opacity%22%3A%201%2C%0A%20%20%20%20%20%20%20%20%22subdomains%22%3A%20%22abc%22%2C%0A%20%20%20%20%20%20%20%20%22tms%22%3A%20false%0A%7D%29.addTo%28map_06c78ff1e55844d183a6735723b95cfe%29%3B%0A%20%20%20%20%0A%20%20%20%20%20%20%20%20%20%20%20%20var%20circle_marker_15ba9024a184430e8e439328db6cc90e%20%3D%20L.circleMarker%28%0A%20%20%20%20%20%20%20%20%20%20%20%20%20%20%20%20%5B63.588753%2C%20-154.493062%5D%2C%0A%20%20%20%20%20%20%20%20%20%20%20%20%20%20%20%20%7B%0A%20%20%22bubblingMouseEvents%22%3A%20true%2C%0A%20%20%22color%22%3A%20%22red%22%2C%0A%20%20%22dashArray%22%3A%20null%2C%0A%20%20%22dashOffset%22%3A%20null%2C%0A%20%20%22fill%22%3A%20true%2C%0A%20%20%22fillColor%22%3A%20%22red%22%2C%0A%20%20%22fillOpacity%22%3A%200.3%2C%0A%20%20%22fillRule%22%3A%20%22evenodd%22%2C%0A%20%20%22lineCap%22%3A%20%22round%22%2C%0A%20%20%22lineJoin%22%3A%20%22round%22%2C%0A%20%20%22opacity%22%3A%201.0%2C%0A%20%20%22radius%22%3A%207.27544%2C%0A%20%20%22stroke%22%3A%20true%2C%0A%20%20%22weight%22%3A%203%0A%7D%0A%20%20%20%20%20%20%20%20%20%20%20%20%20%20%20%20%29%0A%20%20%20%20%20%20%20%20%20%20%20%20%20%20%20%20.addTo%28map_06c78ff1e55844d183a6735723b95cfe%29%3B%0A%20%20%20%20%20%20%20%20%20%20%20%20%0A%20%20%20%20%0A%20%20%20%20%20%20%20%20%20%20%20%20var%20popup_fdb6839f088d48779f3dd3d6a8ca3397%20%3D%20L.popup%28%7BmaxWidth%3A%20%27100%25%27%0A%20%20%20%20%20%20%20%20%20%20%20%20%0A%20%20%20%20%20%20%20%20%20%20%20%20%7D%29%3B%0A%0A%20%20%20%20%20%20%20%20%20%20%20%20%0A%20%20%20%20%20%20%20%20%20%20%20%20%20%20%20%20var%20html_036c2cfa3db74b8f9c02ecd5e1e231c1%20%3D%20%24%28%60%3Cdiv%20id%3D%22html_036c2cfa3db74b8f9c02ecd5e1e231c1%22%20style%3D%22width%3A%20100.0%25%3B%20height%3A%20100.0%25%3B%22%3E%3Cstrong%3EState%3C/strong%3E%3A%20Ak%3Cbr%3E%3Cstrong%3ETotal%20Cases%3C/strong%3E%3A%2056886%3Cbr%3E%3C/div%3E%60%29%5B0%5D%3B%0A%20%20%20%20%20%20%20%20%20%20%20%20%20%20%20%20popup_fdb6839f088d48779f3dd3d6a8ca3397.setContent%28html_036c2cfa3db74b8f9c02ecd5e1e231c1%29%3B%0A%20%20%20%20%20%20%20%20%20%20%20%20%0A%0A%20%20%20%20%20%20%20%20%20%20%20%20circle_marker_15ba9024a184430e8e439328db6cc90e.bindPopup%28popup_fdb6839f088d48779f3dd3d6a8ca3397%29%0A%20%20%20%20%20%20%20%20%20%20%20%20%3B%0A%0A%20%20%20%20%20%20%20%20%20%20%20%20%0A%20%20%20%20%20%20%20%20%0A%20%20%20%20%0A%20%20%20%20%20%20%20%20%20%20%20%20var%20circle_marker_5f322ea3d29f4cbf8206c0a859e5e1b7%20%3D%20L.circleMarker%28%0A%20%20%20%20%20%20%20%20%20%20%20%20%20%20%20%20%5B32.318231%2C%20-86.902298%5D%2C%0A%20%20%20%20%20%20%20%20%20%20%20%20%20%20%20%20%7B%0A%20%20%22bubblingMouseEvents%22%3A%20true%2C%0A%20%20%22color%22%3A%20%22red%22%2C%0A%20%20%22dashArray%22%3A%20null%2C%0A%20%20%22dashOffset%22%3A%20null%2C%0A%20%20%22fill%22%3A%20true%2C%0A%20%20%22fillColor%22%3A%20%22red%22%2C%0A%20%20%22fillOpacity%22%3A%200.3%2C%0A%20%20%22fillRule%22%3A%20%22evenodd%22%2C%0A%20%20%22lineCap%22%3A%20%22round%22%2C%0A%20%20%22lineJoin%22%3A%20%22round%22%2C%0A%20%20%22opacity%22%3A%201.0%2C%0A%20%20%22radius%22%3A%2024.99276%2C%0A%20%20%22stroke%22%3A%20true%2C%0A%20%20%22weight%22%3A%203%0A%7D%0A%20%20%20%20%20%20%20%20%20%20%20%20%20%20%20%20%29%0A%20%20%20%20%20%20%20%20%20%20%20%20%20%20%20%20.addTo%28map_06c78ff1e55844d183a6735723b95cfe%29%3B%0A%20%20%20%20%20%20%20%20%20%20%20%20%0A%20%20%20%20%0A%20%20%20%20%20%20%20%20%20%20%20%20var%20popup_fa1bdeb03ed44f469fa4f41711a2e6da%20%3D%20L.popup%28%7BmaxWidth%3A%20%27100%25%27%0A%20%20%20%20%20%20%20%20%20%20%20%20%0A%20%20%20%20%20%20%20%20%20%20%20%20%7D%29%3B%0A%0A%20%20%20%20%20%20%20%20%20%20%20%20%0A%20%20%20%20%20%20%20%20%20%20%20%20%20%20%20%20var%20html_79dd5bf7766b483f89317140023a2079%20%3D%20%24%28%60%3Cdiv%20id%3D%22html_79dd5bf7766b483f89317140023a2079%22%20style%3D%22width%3A%20100.0%25%3B%20height%3A%20100.0%25%3B%22%3E%3Cstrong%3EState%3C/strong%3E%3A%20Al%3Cbr%3E%3Cstrong%3ETotal%20Cases%3C/strong%3E%3A%20499819%3Cbr%3E%3C/div%3E%60%29%5B0%5D%3B%0A%20%20%20%20%20%20%20%20%20%20%20%20%20%20%20%20popup_fa1bdeb03ed44f469fa4f41711a2e6da.setContent%28html_79dd5bf7766b483f89317140023a2079%29%3B%0A%20%20%20%20%20%20%20%20%20%20%20%20%0A%0A%20%20%20%20%20%20%20%20%20%20%20%20circle_marker_5f322ea3d29f4cbf8206c0a859e5e1b7.bindPopup%28popup_fa1bdeb03ed44f469fa4f41711a2e6da%29%0A%20%20%20%20%20%20%20%20%20%20%20%20%3B%0A%0A%20%20%20%20%20%20%20%20%20%20%20%20%0A%20%20%20%20%20%20%20%20%0A%20%20%20%20%0A%20%20%20%20%20%20%20%20%20%20%20%20var%20circle_marker_030aee6b0df445d2bb14515b558d14c1%20%3D%20L.circleMarker%28%0A%20%20%20%20%20%20%20%20%20%20%20%20%20%20%20%20%5B35.20105%2C%20-91.831833%5D%2C%0A%20%20%20%20%20%20%20%20%20%20%20%20%20%20%20%20%7B%0A%20%20%22bubblingMouseEvents%22%3A%20true%2C%0A%20%20%22color%22%3A%20%22red%22%2C%0A%20%20%22dashArray%22%3A%20null%2C%0A%20%20%22dashOffset%22%3A%20null%2C%0A%20%20%22fill%22%3A%20true%2C%0A%20%20%22fillColor%22%3A%20%22red%22%2C%0A%20%20%22fillOpacity%22%3A%200.3%2C%0A%20%20%22fillRule%22%3A%20%22evenodd%22%2C%0A%20%20%22lineCap%22%3A%20%22round%22%2C%0A%20%20%22lineJoin%22%3A%20%22round%22%2C%0A%20%20%22opacity%22%3A%201.0%2C%0A%20%20%22radius%22%3A%2017.99272%2C%0A%20%20%22stroke%22%3A%20true%2C%0A%20%20%22weight%22%3A%203%0A%7D%0A%20%20%20%20%20%20%20%20%20%20%20%20%20%20%20%20%29%0A%20%20%20%20%20%20%20%20%20%20%20%20%20%20%20%20.addTo%28map_06c78ff1e55844d183a6735723b95cfe%29%3B%0A%20%20%20%20%20%20%20%20%20%20%20%20%0A%20%20%20%20%0A%20%20%20%20%20%20%20%20%20%20%20%20var%20popup_2835480ea35e491d8bc0974938e9d7ec%20%3D%20L.popup%28%7BmaxWidth%3A%20%27100%25%27%0A%20%20%20%20%20%20%20%20%20%20%20%20%0A%20%20%20%20%20%20%20%20%20%20%20%20%7D%29%3B%0A%0A%20%20%20%20%20%20%20%20%20%20%20%20%0A%20%20%20%20%20%20%20%20%20%20%20%20%20%20%20%20var%20html_562e3880e4d143a7b1b12d86d9e48edf%20%3D%20%24%28%60%3Cdiv%20id%3D%22html_562e3880e4d143a7b1b12d86d9e48edf%22%20style%3D%22width%3A%20100.0%25%3B%20height%3A%20100.0%25%3B%22%3E%3Cstrong%3EState%3C/strong%3E%3A%20Ar%3Cbr%3E%3Cstrong%3ETotal%20Cases%3C/strong%3E%3A%20324818%3Cbr%3E%3C/div%3E%60%29%5B0%5D%3B%0A%20%20%20%20%20%20%20%20%20%20%20%20%20%20%20%20popup_2835480ea35e491d8bc0974938e9d7ec.setContent%28html_562e3880e4d143a7b1b12d86d9e48edf%29%3B%0A%20%20%20%20%20%20%20%20%20%20%20%20%0A%0A%20%20%20%20%20%20%20%20%20%20%20%20circle_marker_030aee6b0df445d2bb14515b558d14c1.bindPopup%28popup_2835480ea35e491d8bc0974938e9d7ec%29%0A%20%20%20%20%20%20%20%20%20%20%20%20%3B%0A%0A%20%20%20%20%20%20%20%20%20%20%20%20%0A%20%20%20%20%20%20%20%20%0A%20%20%20%20%0A%20%20%20%20%20%20%20%20%20%20%20%20var%20circle_marker_94fd889800654ce3a1a012f714d5185d%20%3D%20L.circleMarker%28%0A%20%20%20%20%20%20%20%20%20%20%20%20%20%20%20%20%5B34.048928%2C%20-111.093731%5D%2C%0A%20%20%20%20%20%20%20%20%20%20%20%20%20%20%20%20%7B%0A%20%20%22bubblingMouseEvents%22%3A%20true%2C%0A%20%20%22color%22%3A%20%22red%22%2C%0A%20%20%22dashArray%22%3A%20null%2C%0A%20%20%22dashOffset%22%3A%20null%2C%0A%20%20%22fill%22%3A%20true%2C%0A%20%20%22fillColor%22%3A%20%22red%22%2C%0A%20%20%22fillOpacity%22%3A%200.3%2C%0A%20%20%22fillRule%22%3A%20%22evenodd%22%2C%0A%20%20%22lineCap%22%3A%20%22round%22%2C%0A%20%20%22lineJoin%22%3A%20%22round%22%2C%0A%20%20%22opacity%22%3A%201.0%2C%0A%20%20%22radius%22%3A%2038.05816%2C%0A%20%20%22stroke%22%3A%20true%2C%0A%20%20%22weight%22%3A%203%0A%7D%0A%20%20%20%20%20%20%20%20%20%20%20%20%20%20%20%20%29%0A%20%20%20%20%20%20%20%20%20%20%20%20%20%20%20%20.addTo%28map_06c78ff1e55844d183a6735723b95cfe%29%3B%0A%20%20%20%20%20%20%20%20%20%20%20%20%0A%20%20%20%20%0A%20%20%20%20%20%20%20%20%20%20%20%20var%20popup_6ef499d290114c769f772601ce890ae7%20%3D%20L.popup%28%7BmaxWidth%3A%20%27100%25%27%0A%20%20%20%20%20%20%20%20%20%20%20%20%0A%20%20%20%20%20%20%20%20%20%20%20%20%7D%29%3B%0A%0A%20%20%20%20%20%20%20%20%20%20%20%20%0A%20%20%20%20%20%20%20%20%20%20%20%20%20%20%20%20var%20html_f2ace4eaa48543e0953eeca149dcfac7%20%3D%20%24%28%60%3Cdiv%20id%3D%22html_f2ace4eaa48543e0953eeca149dcfac7%22%20style%3D%22width%3A%20100.0%25%3B%20height%3A%20100.0%25%3B%22%3E%3Cstrong%3EState%3C/strong%3E%3A%20Az%3Cbr%3E%3Cstrong%3ETotal%20Cases%3C/strong%3E%3A%20826454%3Cbr%3E%3C/div%3E%60%29%5B0%5D%3B%0A%20%20%20%20%20%20%20%20%20%20%20%20%20%20%20%20popup_6ef499d290114c769f772601ce890ae7.setContent%28html_f2ace4eaa48543e0953eeca149dcfac7%29%3B%0A%20%20%20%20%20%20%20%20%20%20%20%20%0A%0A%20%20%20%20%20%20%20%20%20%20%20%20circle_marker_94fd889800654ce3a1a012f714d5185d.bindPopup%28popup_6ef499d290114c769f772601ce890ae7%29%0A%20%20%20%20%20%20%20%20%20%20%20%20%3B%0A%0A%20%20%20%20%20%20%20%20%20%20%20%20%0A%20%20%20%20%20%20%20%20%0A%20%20%20%20%0A%20%20%20%20%20%20%20%20%20%20%20%20var%20circle_marker_4ee41e1c20e84371aaf6e3470336cf4a%20%3D%20L.circleMarker%28%0A%20%20%20%20%20%20%20%20%20%20%20%20%20%20%20%20%5B36.778261%2C%20-119.417932%5D%2C%0A%20%20%20%20%20%20%20%20%20%20%20%20%20%20%20%20%7B%0A%20%20%22bubblingMouseEvents%22%3A%20true%2C%0A%20%20%22color%22%3A%20%22red%22%2C%0A%20%20%22dashArray%22%3A%20null%2C%0A%20%20%22dashOffset%22%3A%20null%2C%0A%20%20%22fill%22%3A%20true%2C%0A%20%20%22fillColor%22%3A%20%22red%22%2C%0A%20%20%22fillOpacity%22%3A%200.3%2C%0A%20%20%22fillRule%22%3A%20%22evenodd%22%2C%0A%20%20%22lineCap%22%3A%20%22round%22%2C%0A%20%20%22lineJoin%22%3A%20%22round%22%2C%0A%20%20%22opacity%22%3A%201.0%2C%0A%20%20%22radius%22%3A%20145.05576000000002%2C%0A%20%20%22stroke%22%3A%20true%2C%0A%20%20%22weight%22%3A%203%0A%7D%0A%20%20%20%20%20%20%20%20%20%20%20%20%20%20%20%20%29%0A%20%20%20%20%20%20%20%20%20%20%20%20%20%20%20%20.addTo%28map_06c78ff1e55844d183a6735723b95cfe%29%3B%0A%20%20%20%20%20%20%20%20%20%20%20%20%0A%20%20%20%20%0A%20%20%20%20%20%20%20%20%20%20%20%20var%20popup_eb9db555ec464d70b6c2237843e7419b%20%3D%20L.popup%28%7BmaxWidth%3A%20%27100%25%27%0A%20%20%20%20%20%20%20%20%20%20%20%20%0A%20%20%20%20%20%20%20%20%20%20%20%20%7D%29%3B%0A%0A%20%20%20%20%20%20%20%20%20%20%20%20%0A%20%20%20%20%20%20%20%20%20%20%20%20%20%20%20%20var%20html_1169d1b7b9084443be6183b7fb9a6477%20%3D%20%24%28%60%3Cdiv%20id%3D%22html_1169d1b7b9084443be6183b7fb9a6477%22%20style%3D%22width%3A%20100.0%25%3B%20height%3A%20100.0%25%3B%22%3E%3Cstrong%3EState%3C/strong%3E%3A%20Ca%3Cbr%3E%3Cstrong%3ETotal%20Cases%3C/strong%3E%3A%203501394%3Cbr%3E%3C/div%3E%60%29%5B0%5D%3B%0A%20%20%20%20%20%20%20%20%20%20%20%20%20%20%20%20popup_eb9db555ec464d70b6c2237843e7419b.setContent%28html_1169d1b7b9084443be6183b7fb9a6477%29%3B%0A%20%20%20%20%20%20%20%20%20%20%20%20%0A%0A%20%20%20%20%20%20%20%20%20%20%20%20circle_marker_4ee41e1c20e84371aaf6e3470336cf4a.bindPopup%28popup_eb9db555ec464d70b6c2237843e7419b%29%0A%20%20%20%20%20%20%20%20%20%20%20%20%3B%0A%0A%20%20%20%20%20%20%20%20%20%20%20%20%0A%20%20%20%20%20%20%20%20%0A%20%20%20%20%0A%20%20%20%20%20%20%20%20%20%20%20%20var%20circle_marker_9c4c3fd7180145e8be00c34e85598d2d%20%3D%20L.circleMarker%28%0A%20%20%20%20%20%20%20%20%20%20%20%20%20%20%20%20%5B39.550051%2C%20-105.782067%5D%2C%0A%20%20%20%20%20%20%20%20%20%20%20%20%20%20%20%20%7B%0A%20%20%22bubblingMouseEvents%22%3A%20true%2C%0A%20%20%22color%22%3A%20%22red%22%2C%0A%20%20%22dashArray%22%3A%20null%2C%0A%20%20%22dashOffset%22%3A%20null%2C%0A%20%20%22fill%22%3A%20true%2C%0A%20%20%22fillColor%22%3A%20%22red%22%2C%0A%20%20%22fillOpacity%22%3A%200.3%2C%0A%20%20%22fillRule%22%3A%20%22evenodd%22%2C%0A%20%20%22lineCap%22%3A%20%22round%22%2C%0A%20%20%22lineJoin%22%3A%20%22round%22%2C%0A%20%20%22opacity%22%3A%201.0%2C%0A%20%20%22radius%22%3A%2022.464080000000003%2C%0A%20%20%22stroke%22%3A%20true%2C%0A%20%20%22weight%22%3A%203%0A%7D%0A%20%20%20%20%20%20%20%20%20%20%20%20%20%20%20%20%29%0A%20%20%20%20%20%20%20%20%20%20%20%20%20%20%20%20.addTo%28map_06c78ff1e55844d183a6735723b95cfe%29%3B%0A%20%20%20%20%20%20%20%20%20%20%20%20%0A%20%20%20%20%0A%20%20%20%20%20%20%20%20%20%20%20%20var%20popup_8ed5c444135b487d878b26dd21606e08%20%3D%20L.popup%28%7BmaxWidth%3A%20%27100%25%27%0A%20%20%20%20%20%20%20%20%20%20%20%20%0A%20%20%20%20%20%20%20%20%20%20%20%20%7D%29%3B%0A%0A%20%20%20%20%20%20%20%20%20%20%20%20%0A%20%20%20%20%20%20%20%20%20%20%20%20%20%20%20%20var%20html_ef6a2d18ed5240c584f45f162a8fb8d2%20%3D%20%24%28%60%3Cdiv%20id%3D%22html_ef6a2d18ed5240c584f45f162a8fb8d2%22%20style%3D%22width%3A%20100.0%25%3B%20height%3A%20100.0%25%3B%22%3E%3Cstrong%3EState%3C/strong%3E%3A%20Co%3Cbr%3E%3Cstrong%3ETotal%20Cases%3C/strong%3E%3A%20436602%3Cbr%3E%3C/div%3E%60%29%5B0%5D%3B%0A%20%20%20%20%20%20%20%20%20%20%20%20%20%20%20%20popup_8ed5c444135b487d878b26dd21606e08.setContent%28html_ef6a2d18ed5240c584f45f162a8fb8d2%29%3B%0A%20%20%20%20%20%20%20%20%20%20%20%20%0A%0A%20%20%20%20%20%20%20%20%20%20%20%20circle_marker_9c4c3fd7180145e8be00c34e85598d2d.bindPopup%28popup_8ed5c444135b487d878b26dd21606e08%29%0A%20%20%20%20%20%20%20%20%20%20%20%20%3B%0A%0A%20%20%20%20%20%20%20%20%20%20%20%20%0A%20%20%20%20%20%20%20%20%0A%20%20%20%20%0A%20%20%20%20%20%20%20%20%20%20%20%20var%20circle_marker_0cd9ea3c8f7848978c2e0cafb4c64815%20%3D%20L.circleMarker%28%0A%20%20%20%20%20%20%20%20%20%20%20%20%20%20%20%20%5B41.603221%2C%20-73.087749%5D%2C%0A%20%20%20%20%20%20%20%20%20%20%20%20%20%20%20%20%7B%0A%20%20%22bubblingMouseEvents%22%3A%20true%2C%0A%20%20%22color%22%3A%20%22red%22%2C%0A%20%20%22dashArray%22%3A%20null%2C%0A%20%20%22dashOffset%22%3A%20null%2C%0A%20%20%22fill%22%3A%20true%2C%0A%20%20%22fillColor%22%3A%20%22red%22%2C%0A%20%20%22fillOpacity%22%3A%200.3%2C%0A%20%20%22fillRule%22%3A%20%22evenodd%22%2C%0A%20%20%22lineCap%22%3A%20%22round%22%2C%0A%20%20%22lineJoin%22%3A%20%22round%22%2C%0A%20%20%22opacity%22%3A%201.0%2C%0A%20%20%22radius%22%3A%2016.413200000000003%2C%0A%20%20%22stroke%22%3A%20true%2C%0A%20%20%22weight%22%3A%203%0A%7D%0A%20%20%20%20%20%20%20%20%20%20%20%20%20%20%20%20%29%0A%20%20%20%20%20%20%20%20%20%20%20%20%20%20%20%20.addTo%28map_06c78ff1e55844d183a6735723b95cfe%29%3B%0A%20%20%20%20%20%20%20%20%20%20%20%20%0A%20%20%20%20%0A%20%20%20%20%20%20%20%20%20%20%20%20var%20popup_57338a86bf4c45cfa62017fd2f214cb0%20%3D%20L.popup%28%7BmaxWidth%3A%20%27100%25%27%0A%20%20%20%20%20%20%20%20%20%20%20%20%0A%20%20%20%20%20%20%20%20%20%20%20%20%7D%29%3B%0A%0A%20%20%20%20%20%20%20%20%20%20%20%20%0A%20%20%20%20%20%20%20%20%20%20%20%20%20%20%20%20var%20html_949cf55107d0462383e0797aaf27b90f%20%3D%20%24%28%60%3Cdiv%20id%3D%22html_949cf55107d0462383e0797aaf27b90f%22%20style%3D%22width%3A%20100.0%25%3B%20height%3A%20100.0%25%3B%22%3E%3Cstrong%3EState%3C/strong%3E%3A%20Ct%3Cbr%3E%3Cstrong%3ETotal%20Cases%3C/strong%3E%3A%20285330%3Cbr%3E%3C/div%3E%60%29%5B0%5D%3B%0A%20%20%20%20%20%20%20%20%20%20%20%20%20%20%20%20popup_57338a86bf4c45cfa62017fd2f214cb0.setContent%28html_949cf55107d0462383e0797aaf27b90f%29%3B%0A%20%20%20%20%20%20%20%20%20%20%20%20%0A%0A%20%20%20%20%20%20%20%20%20%20%20%20circle_marker_0cd9ea3c8f7848978c2e0cafb4c64815.bindPopup%28popup_57338a86bf4c45cfa62017fd2f214cb0%29%0A%20%20%20%20%20%20%20%20%20%20%20%20%3B%0A%0A%20%20%20%20%20%20%20%20%20%20%20%20%0A%20%20%20%20%20%20%20%20%0A%20%20%20%20%0A%20%20%20%20%20%20%20%20%20%20%20%20var%20circle_marker_cddbbd3a12af4aaeba497654406358b4%20%3D%20L.circleMarker%28%0A%20%20%20%20%20%20%20%20%20%20%20%20%20%20%20%20%5B38.905985%2C%20-77.033418%5D%2C%0A%20%20%20%20%20%20%20%20%20%20%20%20%20%20%20%20%7B%0A%20%20%22bubblingMouseEvents%22%3A%20true%2C%0A%20%20%22color%22%3A%20%22red%22%2C%0A%20%20%22dashArray%22%3A%20null%2C%0A%20%20%22dashOffset%22%3A%20null%2C%0A%20%20%22fill%22%3A%20true%2C%0A%20%20%22fillColor%22%3A%20%22red%22%2C%0A%20%20%22fillOpacity%22%3A%200.3%2C%0A%20%20%22fillRule%22%3A%20%22evenodd%22%2C%0A%20%20%22lineCap%22%3A%20%22round%22%2C%0A%20%20%22lineJoin%22%3A%20%22round%22%2C%0A%20%20%22opacity%22%3A%201.0%2C%0A%20%20%22radius%22%3A%206.65676%2C%0A%20%20%22stroke%22%3A%20true%2C%0A%20%20%22weight%22%3A%203%0A%7D%0A%20%20%20%20%20%20%20%20%20%20%20%20%20%20%20%20%29%0A%20%20%20%20%20%20%20%20%20%20%20%20%20%20%20%20.addTo%28map_06c78ff1e55844d183a6735723b95cfe%29%3B%0A%20%20%20%20%20%20%20%20%20%20%20%20%0A%20%20%20%20%0A%20%20%20%20%20%20%20%20%20%20%20%20var%20popup_7a95e2082f9f48dcb7313ccc8a142f40%20%3D%20L.popup%28%7BmaxWidth%3A%20%27100%25%27%0A%20%20%20%20%20%20%20%20%20%20%20%20%0A%20%20%20%20%20%20%20%20%20%20%20%20%7D%29%3B%0A%0A%20%20%20%20%20%20%20%20%20%20%20%20%0A%20%20%20%20%20%20%20%20%20%20%20%20%20%20%20%20var%20html_41cc079bbfa74234a817fa258b0a6774%20%3D%20%24%28%60%3Cdiv%20id%3D%22html_41cc079bbfa74234a817fa258b0a6774%22%20style%3D%22width%3A%20100.0%25%3B%20height%3A%20100.0%25%3B%22%3E%3Cstrong%3EState%3C/strong%3E%3A%20Dc%3Cbr%3E%3Cstrong%3ETotal%20Cases%3C/strong%3E%3A%2041419%3Cbr%3E%3C/div%3E%60%29%5B0%5D%3B%0A%20%20%20%20%20%20%20%20%20%20%20%20%20%20%20%20popup_7a95e2082f9f48dcb7313ccc8a142f40.setContent%28html_41cc079bbfa74234a817fa258b0a6774%29%3B%0A%20%20%20%20%20%20%20%20%20%20%20%20%0A%0A%20%20%20%20%20%20%20%20%20%20%20%20circle_marker_cddbbd3a12af4aaeba497654406358b4.bindPopup%28popup_7a95e2082f9f48dcb7313ccc8a142f40%29%0A%20%20%20%20%20%20%20%20%20%20%20%20%3B%0A%0A%20%20%20%20%20%20%20%20%20%20%20%20%0A%20%20%20%20%20%20%20%20%0A%20%20%20%20%0A%20%20%20%20%20%20%20%20%20%20%20%20var%20circle_marker_bacb60d8add045588a08cf632cf2b947%20%3D%20L.circleMarker%28%0A%20%20%20%20%20%20%20%20%20%20%20%20%20%20%20%20%5B38.910832%2C%20-75.52767%5D%2C%0A%20%20%20%20%20%20%20%20%20%20%20%20%20%20%20%20%7B%0A%20%20%22bubblingMouseEvents%22%3A%20true%2C%0A%20%20%22color%22%3A%20%22red%22%2C%0A%20%20%22dashArray%22%3A%20null%2C%0A%20%20%22dashOffset%22%3A%20null%2C%0A%20%20%22fill%22%3A%20true%2C%0A%20%20%22fillColor%22%3A%20%22red%22%2C%0A%20%20%22fillOpacity%22%3A%200.3%2C%0A%20%20%22fillRule%22%3A%20%22evenodd%22%2C%0A%20%20%22lineCap%22%3A%20%22round%22%2C%0A%20%20%22lineJoin%22%3A%20%22round%22%2C%0A%20%20%22opacity%22%3A%201.0%2C%0A%20%20%22radius%22%3A%208.53416%2C%0A%20%20%22stroke%22%3A%20true%2C%0A%20%20%22weight%22%3A%203%0A%7D%0A%20%20%20%20%20%20%20%20%20%20%20%20%20%20%20%20%29%0A%20%20%20%20%20%20%20%20%20%20%20%20%20%20%20%20.addTo%28map_06c78ff1e55844d183a6735723b95cfe%29%3B%0A%20%20%20%20%20%20%20%20%20%20%20%20%0A%20%20%20%20%0A%20%20%20%20%20%20%20%20%20%20%20%20var%20popup_aa31d2b29e684be08cde324376434a06%20%3D%20L.popup%28%7BmaxWidth%3A%20%27100%25%27%0A%20%20%20%20%20%20%20%20%20%20%20%20%0A%20%20%20%20%20%20%20%20%20%20%20%20%7D%29%3B%0A%0A%20%20%20%20%20%20%20%20%20%20%20%20%0A%20%20%20%20%20%20%20%20%20%20%20%20%20%20%20%20var%20html_33800d95beb9470380d44cf38cc2b5b1%20%3D%20%24%28%60%3Cdiv%20id%3D%22html_33800d95beb9470380d44cf38cc2b5b1%22%20style%3D%22width%3A%20100.0%25%3B%20height%3A%20100.0%25%3B%22%3E%3Cstrong%3EState%3C/strong%3E%3A%20De%3Cbr%3E%3Cstrong%3ETotal%20Cases%3C/strong%3E%3A%2088354%3Cbr%3E%3C/div%3E%60%29%5B0%5D%3B%0A%20%20%20%20%20%20%20%20%20%20%20%20%20%20%20%20popup_aa31d2b29e684be08cde324376434a06.setContent%28html_33800d95beb9470380d44cf38cc2b5b1%29%3B%0A%20%20%20%20%20%20%20%20%20%20%20%20%0A%0A%20%20%20%20%20%20%20%20%20%20%20%20circle_marker_bacb60d8add045588a08cf632cf2b947.bindPopup%28popup_aa31d2b29e684be08cde324376434a06%29%0A%20%20%20%20%20%20%20%20%20%20%20%20%3B%0A%0A%20%20%20%20%20%20%20%20%20%20%20%20%0A%20%20%20%20%20%20%20%20%0A%20%20%20%20%0A%20%20%20%20%20%20%20%20%20%20%20%20var%20circle_marker_e9aa20c132674a3d960da8f050b50ac4%20%3D%20L.circleMarker%28%0A%20%20%20%20%20%20%20%20%20%20%20%20%20%20%20%20%5B27.664827%2C%20-81.515754%5D%2C%0A%20%20%20%20%20%20%20%20%20%20%20%20%20%20%20%20%7B%0A%20%20%22bubblingMouseEvents%22%3A%20true%2C%0A%20%20%22color%22%3A%20%22red%22%2C%0A%20%20%22dashArray%22%3A%20null%2C%0A%20%20%22dashOffset%22%3A%20null%2C%0A%20%20%22fill%22%3A%20true%2C%0A%20%20%22fillColor%22%3A%20%22red%22%2C%0A%20%20%22fillOpacity%22%3A%200.3%2C%0A%20%20%22fillRule%22%3A%20%22evenodd%22%2C%0A%20%20%22lineCap%22%3A%20%22round%22%2C%0A%20%20%22lineJoin%22%3A%20%22round%22%2C%0A%20%20%22opacity%22%3A%201.0%2C%0A%20%20%22radius%22%3A%2081.36836000000001%2C%0A%20%20%22stroke%22%3A%20true%2C%0A%20%20%22weight%22%3A%203%0A%7D%0A%20%20%20%20%20%20%20%20%20%20%20%20%20%20%20%20%29%0A%20%20%20%20%20%20%20%20%20%20%20%20%20%20%20%20.addTo%28map_06c78ff1e55844d183a6735723b95cfe%29%3B%0A%20%20%20%20%20%20%20%20%20%20%20%20%0A%20%20%20%20%0A%20%20%20%20%20%20%20%20%20%20%20%20var%20popup_08f608e0ab3840adb806973384d2cf4f%20%3D%20L.popup%28%7BmaxWidth%3A%20%27100%25%27%0A%20%20%20%20%20%20%20%20%20%20%20%20%0A%20%20%20%20%20%20%20%20%20%20%20%20%7D%29%3B%0A%0A%20%20%20%20%20%20%20%20%20%20%20%20%0A%20%20%20%20%20%20%20%20%20%20%20%20%20%20%20%20var%20html_fedad549ecdd451d89c8718eedb8c96b%20%3D%20%24%28%60%3Cdiv%20id%3D%22html_fedad549ecdd451d89c8718eedb8c96b%22%20style%3D%22width%3A%20100.0%25%3B%20height%3A%20100.0%25%3B%22%3E%3Cstrong%3EState%3C/strong%3E%3A%20Fl%3Cbr%3E%3Cstrong%3ETotal%20Cases%3C/strong%3E%3A%201909209%3Cbr%3E%3C/div%3E%60%29%5B0%5D%3B%0A%20%20%20%20%20%20%20%20%20%20%20%20%20%20%20%20popup_08f608e0ab3840adb806973384d2cf4f.setContent%28html_fedad549ecdd451d89c8718eedb8c96b%29%3B%0A%20%20%20%20%20%20%20%20%20%20%20%20%0A%0A%20%20%20%20%20%20%20%20%20%20%20%20circle_marker_e9aa20c132674a3d960da8f050b50ac4.bindPopup%28popup_08f608e0ab3840adb806973384d2cf4f%29%0A%20%20%20%20%20%20%20%20%20%20%20%20%3B%0A%0A%20%20%20%20%20%20%20%20%20%20%20%20%0A%20%20%20%20%20%20%20%20%0A%20%20%20%20%0A%20%20%20%20%20%20%20%20%20%20%20%20var%20circle_marker_7d179e1c4fcc49be8164d30b8146f5a1%20%3D%20L.circleMarker%28%0A%20%20%20%20%20%20%20%20%20%20%20%20%20%20%20%20%5B32.157435%2C%20-82.907123%5D%2C%0A%20%20%20%20%20%20%20%20%20%20%20%20%20%20%20%20%7B%0A%20%20%22bubblingMouseEvents%22%3A%20true%2C%0A%20%20%22color%22%3A%20%22red%22%2C%0A%20%20%22dashArray%22%3A%20null%2C%0A%20%20%22dashOffset%22%3A%20null%2C%0A%20%20%22fill%22%3A%20true%2C%0A%20%20%22fillColor%22%3A%20%22red%22%2C%0A%20%20%22fillOpacity%22%3A%200.3%2C%0A%20%20%22fillRule%22%3A%20%22evenodd%22%2C%0A%20%20%22lineCap%22%3A%20%22round%22%2C%0A%20%20%22lineJoin%22%3A%20%22round%22%2C%0A%20%20%22opacity%22%3A%201.0%2C%0A%20%20%22radius%22%3A%2045.93948%2C%0A%20%20%22stroke%22%3A%20true%2C%0A%20%20%22weight%22%3A%203%0A%7D%0A%20%20%20%20%20%20%20%20%20%20%20%20%20%20%20%20%29%0A%20%20%20%20%20%20%20%20%20%20%20%20%20%20%20%20.addTo%28map_06c78ff1e55844d183a6735723b95cfe%29%3B%0A%20%20%20%20%20%20%20%20%20%20%20%20%0A%20%20%20%20%0A%20%20%20%20%20%20%20%20%20%20%20%20var%20popup_f335b8c579294ef29d197372d990bd09%20%3D%20L.popup%28%7BmaxWidth%3A%20%27100%25%27%0A%20%20%20%20%20%20%20%20%20%20%20%20%0A%20%20%20%20%20%20%20%20%20%20%20%20%7D%29%3B%0A%0A%20%20%20%20%20%20%20%20%20%20%20%20%0A%20%20%20%20%20%20%20%20%20%20%20%20%20%20%20%20var%20html_eb26ef1ba35042ae82404147b3679cb1%20%3D%20%24%28%60%3Cdiv%20id%3D%22html_eb26ef1ba35042ae82404147b3679cb1%22%20style%3D%22width%3A%20100.0%25%3B%20height%3A%20100.0%25%3B%22%3E%3Cstrong%3EState%3C/strong%3E%3A%20Ga%3Cbr%3E%3Cstrong%3ETotal%20Cases%3C/strong%3E%3A%201023487%3Cbr%3E%3C/div%3E%60%29%5B0%5D%3B%0A%20%20%20%20%20%20%20%20%20%20%20%20%20%20%20%20popup_f335b8c579294ef29d197372d990bd09.setContent%28html_eb26ef1ba35042ae82404147b3679cb1%29%3B%0A%20%20%20%20%20%20%20%20%20%20%20%20%0A%0A%20%20%20%20%20%20%20%20%20%20%20%20circle_marker_7d179e1c4fcc49be8164d30b8146f5a1.bindPopup%28popup_f335b8c579294ef29d197372d990bd09%29%0A%20%20%20%20%20%20%20%20%20%20%20%20%3B%0A%0A%20%20%20%20%20%20%20%20%20%20%20%20%0A%20%20%20%20%20%20%20%20%0A%20%20%20%20%0A%20%20%20%20%20%20%20%20%20%20%20%20var%20circle_marker_133fa4a5be814e5caf089f1fd68ec9bc%20%3D%20L.circleMarker%28%0A%20%20%20%20%20%20%20%20%20%20%20%20%20%20%20%20%5B19.898682%2C%20-155.665857%5D%2C%0A%20%20%20%20%20%20%20%20%20%20%20%20%20%20%20%20%7B%0A%20%20%22bubblingMouseEvents%22%3A%20true%2C%0A%20%20%22color%22%3A%20%22red%22%2C%0A%20%20%22dashArray%22%3A%20null%2C%0A%20%20%22dashOffset%22%3A%20null%2C%0A%20%20%22fill%22%3A%20true%2C%0A%20%20%22fillColor%22%3A%20%22red%22%2C%0A%20%20%22fillOpacity%22%3A%200.3%2C%0A%20%20%22fillRule%22%3A%20%22evenodd%22%2C%0A%20%20%22lineCap%22%3A%20%22round%22%2C%0A%20%20%22lineJoin%22%3A%20%22round%22%2C%0A%20%20%22opacity%22%3A%201.0%2C%0A%20%20%22radius%22%3A%206.14796%2C%0A%20%20%22stroke%22%3A%20true%2C%0A%20%20%22weight%22%3A%203%0A%7D%0A%20%20%20%20%20%20%20%20%20%20%20%20%20%20%20%20%29%0A%20%20%20%20%20%20%20%20%20%20%20%20%20%20%20%20.addTo%28map_06c78ff1e55844d183a6735723b95cfe%29%3B%0A%20%20%20%20%20%20%20%20%20%20%20%20%0A%20%20%20%20%0A%20%20%20%20%20%20%20%20%20%20%20%20var%20popup_daa0643f65ea463a91c2fff38b6bd1e4%20%3D%20L.popup%28%7BmaxWidth%3A%20%27100%25%27%0A%20%20%20%20%20%20%20%20%20%20%20%20%0A%20%20%20%20%20%20%20%20%20%20%20%20%7D%29%3B%0A%0A%20%20%20%20%20%20%20%20%20%20%20%20%0A%20%20%20%20%20%20%20%20%20%20%20%20%20%20%20%20var%20html_414cf45b81a54d298b82be21cdd318e8%20%3D%20%24%28%60%3Cdiv%20id%3D%22html_414cf45b81a54d298b82be21cdd318e8%22%20style%3D%22width%3A%20100.0%25%3B%20height%3A%20100.0%25%3B%22%3E%3Cstrong%3EState%3C/strong%3E%3A%20Hi%3Cbr%3E%3Cstrong%3ETotal%20Cases%3C/strong%3E%3A%2028699%3Cbr%3E%3C/div%3E%60%29%5B0%5D%3B%0A%20%20%20%20%20%20%20%20%20%20%20%20%20%20%20%20popup_daa0643f65ea463a91c2fff38b6bd1e4.setContent%28html_414cf45b81a54d298b82be21cdd318e8%29%3B%0A%20%20%20%20%20%20%20%20%20%20%20%20%0A%0A%20%20%20%20%20%20%20%20%20%20%20%20circle_marker_133fa4a5be814e5caf089f1fd68ec9bc.bindPopup%28popup_daa0643f65ea463a91c2fff38b6bd1e4%29%0A%20%20%20%20%20%20%20%20%20%20%20%20%3B%0A%0A%20%20%20%20%20%20%20%20%20%20%20%20%0A%20%20%20%20%20%20%20%20%0A%20%20%20%20%0A%20%20%20%20%20%20%20%20%20%20%20%20var%20circle_marker_5dd8e48e46224339b7d7f51f1391ee86%20%3D%20L.circleMarker%28%0A%20%20%20%20%20%20%20%20%20%20%20%20%20%20%20%20%5B41.878003%2C%20-93.097702%5D%2C%0A%20%20%20%20%20%20%20%20%20%20%20%20%20%20%20%20%7B%0A%20%20%22bubblingMouseEvents%22%3A%20true%2C%0A%20%20%22color%22%3A%20%22red%22%2C%0A%20%20%22dashArray%22%3A%20null%2C%0A%20%20%22dashOffset%22%3A%20null%2C%0A%20%20%22fill%22%3A%20true%2C%0A%20%20%22fillColor%22%3A%20%22red%22%2C%0A%20%20%22fillOpacity%22%3A%200.3%2C%0A%20%20%22fillRule%22%3A%20%22evenodd%22%2C%0A%20%20%22lineCap%22%3A%20%22round%22%2C%0A%20%20%22lineJoin%22%3A%20%22round%22%2C%0A%20%20%22opacity%22%3A%201.0%2C%0A%20%20%22radius%22%3A%2016.295360000000002%2C%0A%20%20%22stroke%22%3A%20true%2C%0A%20%20%22weight%22%3A%203%0A%7D%0A%20%20%20%20%20%20%20%20%20%20%20%20%20%20%20%20%29%0A%20%20%20%20%20%20%20%20%20%20%20%20%20%20%20%20.addTo%28map_06c78ff1e55844d183a6735723b95cfe%29%3B%0A%20%20%20%20%20%20%20%20%20%20%20%20%0A%20%20%20%20%0A%20%20%20%20%20%20%20%20%20%20%20%20var%20popup_79e0d0ebf4444f5b959cef553031eca5%20%3D%20L.popup%28%7BmaxWidth%3A%20%27100%25%27%0A%20%20%20%20%20%20%20%20%20%20%20%20%0A%20%20%20%20%20%20%20%20%20%20%20%20%7D%29%3B%0A%0A%20%20%20%20%20%20%20%20%20%20%20%20%0A%20%20%20%20%20%20%20%20%20%20%20%20%20%20%20%20var%20html_45c1c28a55bf4b8bb40a29cbbf60ad02%20%3D%20%24%28%60%3Cdiv%20id%3D%22html_45c1c28a55bf4b8bb40a29cbbf60ad02%22%20style%3D%22width%3A%20100.0%25%3B%20height%3A%20100.0%25%3B%22%3E%3Cstrong%3EState%3C/strong%3E%3A%20Ia%3Cbr%3E%3Cstrong%3ETotal%20Cases%3C/strong%3E%3A%20282384%3Cbr%3E%3C/div%3E%60%29%5B0%5D%3B%0A%20%20%20%20%20%20%20%20%20%20%20%20%20%20%20%20popup_79e0d0ebf4444f5b959cef553031eca5.setContent%28html_45c1c28a55bf4b8bb40a29cbbf60ad02%29%3B%0A%20%20%20%20%20%20%20%20%20%20%20%20%0A%0A%20%20%20%20%20%20%20%20%20%20%20%20circle_marker_5dd8e48e46224339b7d7f51f1391ee86.bindPopup%28popup_79e0d0ebf4444f5b959cef553031eca5%29%0A%20%20%20%20%20%20%20%20%20%20%20%20%3B%0A%0A%20%20%20%20%20%20%20%20%20%20%20%20%0A%20%20%20%20%20%20%20%20%0A%20%20%20%20%0A%20%20%20%20%20%20%20%20%20%20%20%20var%20circle_marker_d579b01ebb194f7394102930f3e93634%20%3D%20L.circleMarker%28%0A%20%20%20%20%20%20%20%20%20%20%20%20%20%20%20%20%5B44.068202%2C%20-114.742041%5D%2C%0A%20%20%20%20%20%20%20%20%20%20%20%20%20%20%20%20%7B%0A%20%20%22bubblingMouseEvents%22%3A%20true%2C%0A%20%20%22color%22%3A%20%22red%22%2C%0A%20%20%22dashArray%22%3A%20null%2C%0A%20%20%22dashOffset%22%3A%20null%2C%0A%20%20%22fill%22%3A%20true%2C%0A%20%20%22fillColor%22%3A%20%22red%22%2C%0A%20%20%22fillOpacity%22%3A%200.3%2C%0A%20%20%22fillRule%22%3A%20%22evenodd%22%2C%0A%20%20%22lineCap%22%3A%20%22round%22%2C%0A%20%20%22lineJoin%22%3A%20%22round%22%2C%0A%20%20%22opacity%22%3A%201.0%2C%0A%20%20%22radius%22%3A%2011.91724%2C%0A%20%20%22stroke%22%3A%20true%2C%0A%20%20%22weight%22%3A%203%0A%7D%0A%20%20%20%20%20%20%20%20%20%20%20%20%20%20%20%20%29%0A%20%20%20%20%20%20%20%20%20%20%20%20%20%20%20%20.addTo%28map_06c78ff1e55844d183a6735723b95cfe%29%3B%0A%20%20%20%20%20%20%20%20%20%20%20%20%0A%20%20%20%20%0A%20%20%20%20%20%20%20%20%20%20%20%20var%20popup_2cc231330d43404ba57575c1397a5c1a%20%3D%20L.popup%28%7BmaxWidth%3A%20%27100%25%27%0A%20%20%20%20%20%20%20%20%20%20%20%20%0A%20%20%20%20%20%20%20%20%20%20%20%20%7D%29%3B%0A%0A%20%20%20%20%20%20%20%20%20%20%20%20%0A%20%20%20%20%20%20%20%20%20%20%20%20%20%20%20%20var%20html_a4c3879a819d4853b59fa2f9c9d81574%20%3D%20%24%28%60%3Cdiv%20id%3D%22html_a4c3879a819d4853b59fa2f9c9d81574%22%20style%3D%22width%3A%20100.0%25%3B%20height%3A%20100.0%25%3B%22%3E%3Cstrong%3EState%3C/strong%3E%3A%20Id%3Cbr%3E%3Cstrong%3ETotal%20Cases%3C/strong%3E%3A%20172931%3Cbr%3E%3C/div%3E%60%29%5B0%5D%3B%0A%20%20%20%20%20%20%20%20%20%20%20%20%20%20%20%20popup_2cc231330d43404ba57575c1397a5c1a.setContent%28html_a4c3879a819d4853b59fa2f9c9d81574%29%3B%0A%20%20%20%20%20%20%20%20%20%20%20%20%0A%0A%20%20%20%20%20%20%20%20%20%20%20%20circle_marker_d579b01ebb194f7394102930f3e93634.bindPopup%28popup_2cc231330d43404ba57575c1397a5c1a%29%0A%20%20%20%20%20%20%20%20%20%20%20%20%3B%0A%0A%20%20%20%20%20%20%20%20%20%20%20%20%0A%20%20%20%20%20%20%20%20%0A%20%20%20%20%0A%20%20%20%20%20%20%20%20%20%20%20%20var%20circle_marker_dd0cc95b50a44788bd997cdb1ee9fd66%20%3D%20L.circleMarker%28%0A%20%20%20%20%20%20%20%20%20%20%20%20%20%20%20%20%5B40.633125%2C%20-89.398528%5D%2C%0A%20%20%20%20%20%20%20%20%20%20%20%20%20%20%20%20%7B%0A%20%20%22bubblingMouseEvents%22%3A%20true%2C%0A%20%20%22color%22%3A%20%22red%22%2C%0A%20%20%22dashArray%22%3A%20null%2C%0A%20%20%22dashOffset%22%3A%20null%2C%0A%20%20%22fill%22%3A%20true%2C%0A%20%20%22fillColor%22%3A%20%22red%22%2C%0A%20%20%22fillOpacity%22%3A%200.3%2C%0A%20%20%22fillRule%22%3A%20%22evenodd%22%2C%0A%20%20%22lineCap%22%3A%20%22round%22%2C%0A%20%20%22lineJoin%22%3A%20%22round%22%2C%0A%20%20%22opacity%22%3A%201.0%2C%0A%20%20%22radius%22%3A%2052.933400000000006%2C%0A%20%20%22stroke%22%3A%20true%2C%0A%20%20%22weight%22%3A%203%0A%7D%0A%20%20%20%20%20%20%20%20%20%20%20%20%20%20%20%20%29%0A%20%20%20%20%20%20%20%20%20%20%20%20%20%20%20%20.addTo%28map_06c78ff1e55844d183a6735723b95cfe%29%3B%0A%20%20%20%20%20%20%20%20%20%20%20%20%0A%20%20%20%20%0A%20%20%20%20%20%20%20%20%20%20%20%20var%20popup_34a595befab34c1c833e76530e579683%20%3D%20L.popup%28%7BmaxWidth%3A%20%27100%25%27%0A%20%20%20%20%20%20%20%20%20%20%20%20%0A%20%20%20%20%20%20%20%20%20%20%20%20%7D%29%3B%0A%0A%20%20%20%20%20%20%20%20%20%20%20%20%0A%20%20%20%20%20%20%20%20%20%20%20%20%20%20%20%20var%20html_7bb1166909e84d16a90ca801c7423ac2%20%3D%20%24%28%60%3Cdiv%20id%3D%22html_7bb1166909e84d16a90ca801c7423ac2%22%20style%3D%22width%3A%20100.0%25%3B%20height%3A%20100.0%25%3B%22%3E%3Cstrong%3EState%3C/strong%3E%3A%20Il%3Cbr%3E%3Cstrong%3ETotal%20Cases%3C/strong%3E%3A%201198335%3Cbr%3E%3C/div%3E%60%29%5B0%5D%3B%0A%20%20%20%20%20%20%20%20%20%20%20%20%20%20%20%20popup_34a595befab34c1c833e76530e579683.setContent%28html_7bb1166909e84d16a90ca801c7423ac2%29%3B%0A%20%20%20%20%20%20%20%20%20%20%20%20%0A%0A%20%20%20%20%20%20%20%20%20%20%20%20circle_marker_dd0cc95b50a44788bd997cdb1ee9fd66.bindPopup%28popup_34a595befab34c1c833e76530e579683%29%0A%20%20%20%20%20%20%20%20%20%20%20%20%3B%0A%0A%20%20%20%20%20%20%20%20%20%20%20%20%0A%20%20%20%20%20%20%20%20%0A%20%20%20%20%0A%20%20%20%20%20%20%20%20%20%20%20%20var%20circle_marker_8693f88d55874a2b81168a91a0305808%20%3D%20L.circleMarker%28%0A%20%20%20%20%20%20%20%20%20%20%20%20%20%20%20%20%5B40.551217%2C%20-85.602364%5D%2C%0A%20%20%20%20%20%20%20%20%20%20%20%20%20%20%20%20%7B%0A%20%20%22bubblingMouseEvents%22%3A%20true%2C%0A%20%20%22color%22%3A%20%22red%22%2C%0A%20%20%22dashArray%22%3A%20null%2C%0A%20%20%22dashOffset%22%3A%20null%2C%0A%20%20%22fill%22%3A%20true%2C%0A%20%20%22fillColor%22%3A%20%22red%22%2C%0A%20%20%22fillOpacity%22%3A%200.3%2C%0A%20%20%22fillRule%22%3A%20%22evenodd%22%2C%0A%20%20%22lineCap%22%3A%20%22round%22%2C%0A%20%20%22lineJoin%22%3A%20%22round%22%2C%0A%20%20%22opacity%22%3A%201.0%2C%0A%20%20%22radius%22%3A%2031.69048%2C%0A%20%20%22stroke%22%3A%20true%2C%0A%20%20%22weight%22%3A%203%0A%7D%0A%20%20%20%20%20%20%20%20%20%20%20%20%20%20%20%20%29%0A%20%20%20%20%20%20%20%20%20%20%20%20%20%20%20%20.addTo%28map_06c78ff1e55844d183a6735723b95cfe%29%3B%0A%20%20%20%20%20%20%20%20%20%20%20%20%0A%20%20%20%20%0A%20%20%20%20%20%20%20%20%20%20%20%20var%20popup_59e55b4e226a4257b31d3d7a6f945ac4%20%3D%20L.popup%28%7BmaxWidth%3A%20%27100%25%27%0A%20%20%20%20%20%20%20%20%20%20%20%20%0A%20%20%20%20%20%20%20%20%20%20%20%20%7D%29%3B%0A%0A%20%20%20%20%20%20%20%20%20%20%20%20%0A%20%20%20%20%20%20%20%20%20%20%20%20%20%20%20%20var%20html_5d8a29cd82c640238fad508985f5d44b%20%3D%20%24%28%60%3Cdiv%20id%3D%22html_5d8a29cd82c640238fad508985f5d44b%22%20style%3D%22width%3A%20100.0%25%3B%20height%3A%20100.0%25%3B%22%3E%3Cstrong%3EState%3C/strong%3E%3A%20In%3Cbr%3E%3Cstrong%3ETotal%20Cases%3C/strong%3E%3A%20667262%3Cbr%3E%3C/div%3E%60%29%5B0%5D%3B%0A%20%20%20%20%20%20%20%20%20%20%20%20%20%20%20%20popup_59e55b4e226a4257b31d3d7a6f945ac4.setContent%28html_5d8a29cd82c640238fad508985f5d44b%29%3B%0A%20%20%20%20%20%20%20%20%20%20%20%20%0A%0A%20%20%20%20%20%20%20%20%20%20%20%20circle_marker_8693f88d55874a2b81168a91a0305808.bindPopup%28popup_59e55b4e226a4257b31d3d7a6f945ac4%29%0A%20%20%20%20%20%20%20%20%20%20%20%20%3B%0A%0A%20%20%20%20%20%20%20%20%20%20%20%20%0A%20%20%20%20%20%20%20%20%0A%20%20%20%20%0A%20%20%20%20%20%20%20%20%20%20%20%20var%20circle_marker_e11a619a66d94702ab8dad1ed21bf313%20%3D%20L.circleMarker%28%0A%20%20%20%20%20%20%20%20%20%20%20%20%20%20%20%20%5B39.011902%2C%20-98.484246%5D%2C%0A%20%20%20%20%20%20%20%20%20%20%20%20%20%20%20%20%7B%0A%20%20%22bubblingMouseEvents%22%3A%20true%2C%0A%20%20%22color%22%3A%20%22red%22%2C%0A%20%20%22dashArray%22%3A%20null%2C%0A%20%20%22dashOffset%22%3A%20null%2C%0A%20%20%22fill%22%3A%20true%2C%0A%20%20%22fillColor%22%3A%20%22red%22%2C%0A%20%20%22fillOpacity%22%3A%200.3%2C%0A%20%20%22fillRule%22%3A%20%22evenodd%22%2C%0A%20%20%22lineCap%22%3A%20%22round%22%2C%0A%20%20%22lineJoin%22%3A%20%22round%22%2C%0A%20%20%22opacity%22%3A%201.0%2C%0A%20%20%22radius%22%3A%2016.83444%2C%0A%20%20%22stroke%22%3A%20true%2C%0A%20%20%22weight%22%3A%203%0A%7D%0A%20%20%20%20%20%20%20%20%20%20%20%20%20%20%20%20%29%0A%20%20%20%20%20%20%20%20%20%20%20%20%20%20%20%20.addTo%28map_06c78ff1e55844d183a6735723b95cfe%29%3B%0A%20%20%20%20%20%20%20%20%20%20%20%20%0A%20%20%20%20%0A%20%20%20%20%20%20%20%20%20%20%20%20var%20popup_815fd3cd94ba4ab690f45cd52e3e4594%20%3D%20L.popup%28%7BmaxWidth%3A%20%27100%25%27%0A%20%20%20%20%20%20%20%20%20%20%20%20%0A%20%20%20%20%20%20%20%20%20%20%20%20%7D%29%3B%0A%0A%20%20%20%20%20%20%20%20%20%20%20%20%0A%20%20%20%20%20%20%20%20%20%20%20%20%20%20%20%20var%20html_57cc5221922f428dad0ffa7e13e534b8%20%3D%20%24%28%60%3Cdiv%20id%3D%22html_57cc5221922f428dad0ffa7e13e534b8%22%20style%3D%22width%3A%20100.0%25%3B%20height%3A%20100.0%25%3B%22%3E%3Cstrong%3EState%3C/strong%3E%3A%20Ks%3Cbr%3E%3Cstrong%3ETotal%20Cases%3C/strong%3E%3A%20295861%3Cbr%3E%3C/div%3E%60%29%5B0%5D%3B%0A%20%20%20%20%20%20%20%20%20%20%20%20%20%20%20%20popup_815fd3cd94ba4ab690f45cd52e3e4594.setContent%28html_57cc5221922f428dad0ffa7e13e534b8%29%3B%0A%20%20%20%20%20%20%20%20%20%20%20%20%0A%0A%20%20%20%20%20%20%20%20%20%20%20%20circle_marker_e11a619a66d94702ab8dad1ed21bf313.bindPopup%28popup_815fd3cd94ba4ab690f45cd52e3e4594%29%0A%20%20%20%20%20%20%20%20%20%20%20%20%3B%0A%0A%20%20%20%20%20%20%20%20%20%20%20%20%0A%20%20%20%20%20%20%20%20%0A%20%20%20%20%0A%20%20%20%20%20%20%20%20%20%20%20%20var%20circle_marker_779d6e43fde948e392463e64fb14ecd4%20%3D%20L.circleMarker%28%0A%20%20%20%20%20%20%20%20%20%20%20%20%20%20%20%20%5B37.839333%2C%20-84.270018%5D%2C%0A%20%20%20%20%20%20%20%20%20%20%20%20%20%20%20%20%7B%0A%20%20%22bubblingMouseEvents%22%3A%20true%2C%0A%20%20%22color%22%3A%20%22red%22%2C%0A%20%20%22dashArray%22%3A%20null%2C%0A%20%20%22dashOffset%22%3A%20null%2C%0A%20%20%22fill%22%3A%20true%2C%0A%20%20%22fillColor%22%3A%20%22red%22%2C%0A%20%20%22fillOpacity%22%3A%200.3%2C%0A%20%20%22fillRule%22%3A%20%22evenodd%22%2C%0A%20%20%22lineCap%22%3A%20%22round%22%2C%0A%20%20%22lineJoin%22%3A%20%22round%22%2C%0A%20%20%22opacity%22%3A%201.0%2C%0A%20%20%22radius%22%3A%2021.42836%2C%0A%20%20%22stroke%22%3A%20true%2C%0A%20%20%22weight%22%3A%203%0A%7D%0A%20%20%20%20%20%20%20%20%20%20%20%20%20%20%20%20%29%0A%20%20%20%20%20%20%20%20%20%20%20%20%20%20%20%20.addTo%28map_06c78ff1e55844d183a6735723b95cfe%29%3B%0A%20%20%20%20%20%20%20%20%20%20%20%20%0A%20%20%20%20%0A%20%20%20%20%20%20%20%20%20%20%20%20var%20popup_1a46b63df78147bba786d0a231941a13%20%3D%20L.popup%28%7BmaxWidth%3A%20%27100%25%27%0A%20%20%20%20%20%20%20%20%20%20%20%20%0A%20%20%20%20%20%20%20%20%20%20%20%20%7D%29%3B%0A%0A%20%20%20%20%20%20%20%20%20%20%20%20%0A%20%20%20%20%20%20%20%20%20%20%20%20%20%20%20%20var%20html_e760372dfbca4c5db2a8768c4bc0f4cd%20%3D%20%24%28%60%3Cdiv%20id%3D%22html_e760372dfbca4c5db2a8768c4bc0f4cd%22%20style%3D%22width%3A%20100.0%25%3B%20height%3A%20100.0%25%3B%22%3E%3Cstrong%3EState%3C/strong%3E%3A%20Ky%3Cbr%3E%3Cstrong%3ETotal%20Cases%3C/strong%3E%3A%20410709%3Cbr%3E%3C/div%3E%60%29%5B0%5D%3B%0A%20%20%20%20%20%20%20%20%20%20%20%20%20%20%20%20popup_1a46b63df78147bba786d0a231941a13.setContent%28html_e760372dfbca4c5db2a8768c4bc0f4cd%29%3B%0A%20%20%20%20%20%20%20%20%20%20%20%20%0A%0A%20%20%20%20%20%20%20%20%20%20%20%20circle_marker_779d6e43fde948e392463e64fb14ecd4.bindPopup%28popup_1a46b63df78147bba786d0a231941a13%29%0A%20%20%20%20%20%20%20%20%20%20%20%20%3B%0A%0A%20%20%20%20%20%20%20%20%20%20%20%20%0A%20%20%20%20%20%20%20%20%0A%20%20%20%20%0A%20%20%20%20%20%20%20%20%20%20%20%20var%20circle_marker_7cb01f65410344279873045cc6fd4090%20%3D%20L.circleMarker%28%0A%20%20%20%20%20%20%20%20%20%20%20%20%20%20%20%20%5B31.244823%2C%20-92.145024%5D%2C%0A%20%20%20%20%20%20%20%20%20%20%20%20%20%20%20%20%7B%0A%20%20%22bubblingMouseEvents%22%3A%20true%2C%0A%20%20%22color%22%3A%20%22red%22%2C%0A%20%20%22dashArray%22%3A%20null%2C%0A%20%20%22dashOffset%22%3A%20null%2C%0A%20%20%22fill%22%3A%20true%2C%0A%20%20%22fillColor%22%3A%20%22red%22%2C%0A%20%20%22fillOpacity%22%3A%200.3%2C%0A%20%20%22fillRule%22%3A%20%22evenodd%22%2C%0A%20%20%22lineCap%22%3A%20%22round%22%2C%0A%20%20%22lineJoin%22%3A%20%22round%22%2C%0A%20%20%22opacity%22%3A%201.0%2C%0A%20%20%22radius%22%3A%2022.3514%2C%0A%20%20%22stroke%22%3A%20true%2C%0A%20%20%22weight%22%3A%203%0A%7D%0A%20%20%20%20%20%20%20%20%20%20%20%20%20%20%20%20%29%0A%20%20%20%20%20%20%20%20%20%20%20%20%20%20%20%20.addTo%28map_06c78ff1e55844d183a6735723b95cfe%29%3B%0A%20%20%20%20%20%20%20%20%20%20%20%20%0A%20%20%20%20%0A%20%20%20%20%20%20%20%20%20%20%20%20var%20popup_c82d6944c57e4b719529cffc66b7dd17%20%3D%20L.popup%28%7BmaxWidth%3A%20%27100%25%27%0A%20%20%20%20%20%20%20%20%20%20%20%20%0A%20%20%20%20%20%20%20%20%20%20%20%20%7D%29%3B%0A%0A%20%20%20%20%20%20%20%20%20%20%20%20%0A%20%20%20%20%20%20%20%20%20%20%20%20%20%20%20%20var%20html_30bc037609a447f995a067daa63e30ed%20%3D%20%24%28%60%3Cdiv%20id%3D%22html_30bc037609a447f995a067daa63e30ed%22%20style%3D%22width%3A%20100.0%25%3B%20height%3A%20100.0%25%3B%22%3E%3Cstrong%3EState%3C/strong%3E%3A%20La%3Cbr%3E%3Cstrong%3ETotal%20Cases%3C/strong%3E%3A%20433785%3Cbr%3E%3C/div%3E%60%29%5B0%5D%3B%0A%20%20%20%20%20%20%20%20%20%20%20%20%20%20%20%20popup_c82d6944c57e4b719529cffc66b7dd17.setContent%28html_30bc037609a447f995a067daa63e30ed%29%3B%0A%20%20%20%20%20%20%20%20%20%20%20%20%0A%0A%20%20%20%20%20%20%20%20%20%20%20%20circle_marker_7cb01f65410344279873045cc6fd4090.bindPopup%28popup_c82d6944c57e4b719529cffc66b7dd17%29%0A%20%20%20%20%20%20%20%20%20%20%20%20%3B%0A%0A%20%20%20%20%20%20%20%20%20%20%20%20%0A%20%20%20%20%20%20%20%20%0A%20%20%20%20%0A%20%20%20%20%20%20%20%20%20%20%20%20var%20circle_marker_50438f17618e4717a600eded491c5336%20%3D%20L.circleMarker%28%0A%20%20%20%20%20%20%20%20%20%20%20%20%20%20%20%20%5B42.407211%2C%20-71.382437%5D%2C%0A%20%20%20%20%20%20%20%20%20%20%20%20%20%20%20%20%7B%0A%20%20%22bubblingMouseEvents%22%3A%20true%2C%0A%20%20%22color%22%3A%20%22red%22%2C%0A%20%20%22dashArray%22%3A%20null%2C%0A%20%20%22dashOffset%22%3A%20null%2C%0A%20%20%22fill%22%3A%20true%2C%0A%20%20%22fillColor%22%3A%20%22red%22%2C%0A%20%20%22fillOpacity%22%3A%200.3%2C%0A%20%20%22fillRule%22%3A%20%22evenodd%22%2C%0A%20%20%22lineCap%22%3A%20%22round%22%2C%0A%20%20%22lineJoin%22%3A%20%22round%22%2C%0A%20%20%22opacity%22%3A%201.0%2C%0A%20%20%22radius%22%3A%2028.65424%2C%0A%20%20%22stroke%22%3A%20true%2C%0A%20%20%22weight%22%3A%203%0A%7D%0A%20%20%20%20%20%20%20%20%20%20%20%20%20%20%20%20%29%0A%20%20%20%20%20%20%20%20%20%20%20%20%20%20%20%20.addTo%28map_06c78ff1e55844d183a6735723b95cfe%29%3B%0A%20%20%20%20%20%20%20%20%20%20%20%20%0A%20%20%20%20%0A%20%20%20%20%20%20%20%20%20%20%20%20var%20popup_ee7a020679344b08ad3f1d2e2408f672%20%3D%20L.popup%28%7BmaxWidth%3A%20%27100%25%27%0A%20%20%20%20%20%20%20%20%20%20%20%20%0A%20%20%20%20%20%20%20%20%20%20%20%20%7D%29%3B%0A%0A%20%20%20%20%20%20%20%20%20%20%20%20%0A%20%20%20%20%20%20%20%20%20%20%20%20%20%20%20%20var%20html_5c0ca7b012a241af895ea98a9629f286%20%3D%20%24%28%60%3Cdiv%20id%3D%22html_5c0ca7b012a241af895ea98a9629f286%22%20style%3D%22width%3A%20100.0%25%3B%20height%3A%20100.0%25%3B%22%3E%3Cstrong%3EState%3C/strong%3E%3A%20Ma%3Cbr%3E%3Cstrong%3ETotal%20Cases%3C/strong%3E%3A%20591356%3Cbr%3E%3C/div%3E%60%29%5B0%5D%3B%0A%20%20%20%20%20%20%20%20%20%20%20%20%20%20%20%20popup_ee7a020679344b08ad3f1d2e2408f672.setContent%28html_5c0ca7b012a241af895ea98a9629f286%29%3B%0A%20%20%20%20%20%20%20%20%20%20%20%20%0A%0A%20%20%20%20%20%20%20%20%20%20%20%20circle_marker_50438f17618e4717a600eded491c5336.bindPopup%28popup_ee7a020679344b08ad3f1d2e2408f672%29%0A%20%20%20%20%20%20%20%20%20%20%20%20%3B%0A%0A%20%20%20%20%20%20%20%20%20%20%20%20%0A%20%20%20%20%20%20%20%20%0A%20%20%20%20%0A%20%20%20%20%20%20%20%20%20%20%20%20var%20circle_marker_0a2c553d99684acb9b343f67f53c2025%20%3D%20L.circleMarker%28%0A%20%20%20%20%20%20%20%20%20%20%20%20%20%20%20%20%5B39.045755%2C%20-76.641271%5D%2C%0A%20%20%20%20%20%20%20%20%20%20%20%20%20%20%20%20%7B%0A%20%20%22bubblingMouseEvents%22%3A%20true%2C%0A%20%20%22color%22%3A%20%22red%22%2C%0A%20%20%22dashArray%22%3A%20null%2C%0A%20%20%22dashOffset%22%3A%20null%2C%0A%20%20%22fill%22%3A%20true%2C%0A%20%20%22fillColor%22%3A%20%22red%22%2C%0A%20%20%22fillOpacity%22%3A%200.3%2C%0A%20%20%22fillRule%22%3A%20%22evenodd%22%2C%0A%20%20%22lineCap%22%3A%20%22round%22%2C%0A%20%20%22lineJoin%22%3A%20%22round%22%2C%0A%20%20%22opacity%22%3A%201.0%2C%0A%20%20%22radius%22%3A%2020.49276%2C%0A%20%20%22stroke%22%3A%20true%2C%0A%20%20%22weight%22%3A%203%0A%7D%0A%20%20%20%20%20%20%20%20%20%20%20%20%20%20%20%20%29%0A%20%20%20%20%20%20%20%20%20%20%20%20%20%20%20%20.addTo%28map_06c78ff1e55844d183a6735723b95cfe%29%3B%0A%20%20%20%20%20%20%20%20%20%20%20%20%0A%20%20%20%20%0A%20%20%20%20%20%20%20%20%20%20%20%20var%20popup_6fbcb4c4fd114b748f310a09be2f9720%20%3D%20L.popup%28%7BmaxWidth%3A%20%27100%25%27%0A%20%20%20%20%20%20%20%20%20%20%20%20%0A%20%20%20%20%20%20%20%20%20%20%20%20%7D%29%3B%0A%0A%20%20%20%20%20%20%20%20%20%20%20%20%0A%20%20%20%20%20%20%20%20%20%20%20%20%20%20%20%20var%20html_63e4cc86981f4a38b342c8ce83b66fad%20%3D%20%24%28%60%3Cdiv%20id%3D%22html_63e4cc86981f4a38b342c8ce83b66fad%22%20style%3D%22width%3A%20100.0%25%3B%20height%3A%20100.0%25%3B%22%3E%3Cstrong%3EState%3C/strong%3E%3A%20Md%3Cbr%3E%3Cstrong%3ETotal%20Cases%3C/strong%3E%3A%20387319%3Cbr%3E%3C/div%3E%60%29%5B0%5D%3B%0A%20%20%20%20%20%20%20%20%20%20%20%20%20%20%20%20popup_6fbcb4c4fd114b748f310a09be2f9720.setContent%28html_63e4cc86981f4a38b342c8ce83b66fad%29%3B%0A%20%20%20%20%20%20%20%20%20%20%20%20%0A%0A%20%20%20%20%20%20%20%20%20%20%20%20circle_marker_0a2c553d99684acb9b343f67f53c2025.bindPopup%28popup_6fbcb4c4fd114b748f310a09be2f9720%29%0A%20%20%20%20%20%20%20%20%20%20%20%20%3B%0A%0A%20%20%20%20%20%20%20%20%20%20%20%20%0A%20%20%20%20%20%20%20%20%0A%20%20%20%20%0A%20%20%20%20%20%20%20%20%20%20%20%20var%20circle_marker_7f167ba36863433b897bbb9d47065ca5%20%3D%20L.circleMarker%28%0A%20%20%20%20%20%20%20%20%20%20%20%20%20%20%20%20%5B45.253783%2C%20-69.445469%5D%2C%0A%20%20%20%20%20%20%20%20%20%20%20%20%20%20%20%20%7B%0A%20%20%22bubblingMouseEvents%22%3A%20true%2C%0A%20%20%22color%22%3A%20%22red%22%2C%0A%20%20%22dashArray%22%3A%20null%2C%0A%20%20%22dashOffset%22%3A%20null%2C%0A%20%20%22fill%22%3A%20true%2C%0A%20%20%22fillColor%22%3A%20%22red%22%2C%0A%20%20%22fillOpacity%22%3A%200.3%2C%0A%20%20%22fillRule%22%3A%20%22evenodd%22%2C%0A%20%20%22lineCap%22%3A%20%22round%22%2C%0A%20%20%22lineJoin%22%3A%20%22round%22%2C%0A%20%20%22opacity%22%3A%201.0%2C%0A%20%20%22radius%22%3A%206.83176%2C%0A%20%20%22stroke%22%3A%20true%2C%0A%20%20%22weight%22%3A%203%0A%7D%0A%20%20%20%20%20%20%20%20%20%20%20%20%20%20%20%20%29%0A%20%20%20%20%20%20%20%20%20%20%20%20%20%20%20%20.addTo%28map_06c78ff1e55844d183a6735723b95cfe%29%3B%0A%20%20%20%20%20%20%20%20%20%20%20%20%0A%20%20%20%20%0A%20%20%20%20%20%20%20%20%20%20%20%20var%20popup_2a53e3bd59d34bc3b91072133bba8b56%20%3D%20L.popup%28%7BmaxWidth%3A%20%27100%25%27%0A%20%20%20%20%20%20%20%20%20%20%20%20%0A%20%20%20%20%20%20%20%20%20%20%20%20%7D%29%3B%0A%0A%20%20%20%20%20%20%20%20%20%20%20%20%0A%20%20%20%20%20%20%20%20%20%20%20%20%20%20%20%20var%20html_490cc5a2185246739c59f153757c9557%20%3D%20%24%28%60%3Cdiv%20id%3D%22html_490cc5a2185246739c59f153757c9557%22%20style%3D%22width%3A%20100.0%25%3B%20height%3A%20100.0%25%3B%22%3E%3Cstrong%3EState%3C/strong%3E%3A%20Me%3Cbr%3E%3Cstrong%3ETotal%20Cases%3C/strong%3E%3A%2045794%3Cbr%3E%3C/div%3E%60%29%5B0%5D%3B%0A%20%20%20%20%20%20%20%20%20%20%20%20%20%20%20%20popup_2a53e3bd59d34bc3b91072133bba8b56.setContent%28html_490cc5a2185246739c59f153757c9557%29%3B%0A%20%20%20%20%20%20%20%20%20%20%20%20%0A%0A%20%20%20%20%20%20%20%20%20%20%20%20circle_marker_7f167ba36863433b897bbb9d47065ca5.bindPopup%28popup_2a53e3bd59d34bc3b91072133bba8b56%29%0A%20%20%20%20%20%20%20%20%20%20%20%20%3B%0A%0A%20%20%20%20%20%20%20%20%20%20%20%20%0A%20%20%20%20%20%20%20%20%0A%20%20%20%20%0A%20%20%20%20%20%20%20%20%20%20%20%20var%20circle_marker_20771198568540aebe454854819cbdba%20%3D%20L.circleMarker%28%0A%20%20%20%20%20%20%20%20%20%20%20%20%20%20%20%20%5B44.314844%2C%20-85.602364%5D%2C%0A%20%20%20%20%20%20%20%20%20%20%20%20%20%20%20%20%7B%0A%20%20%22bubblingMouseEvents%22%3A%20true%2C%0A%20%20%22color%22%3A%20%22red%22%2C%0A%20%20%22dashArray%22%3A%20null%2C%0A%20%20%22dashOffset%22%3A%20null%2C%0A%20%20%22fill%22%3A%20true%2C%0A%20%20%22fillColor%22%3A%20%22red%22%2C%0A%20%20%22fillOpacity%22%3A%200.3%2C%0A%20%20%22fillRule%22%3A%20%22evenodd%22%2C%0A%20%20%22lineCap%22%3A%20%22round%22%2C%0A%20%20%22lineJoin%22%3A%20%22round%22%2C%0A%20%20%22opacity%22%3A%201.0%2C%0A%20%20%22radius%22%3A%2031.242880000000003%2C%0A%20%20%22stroke%22%3A%20true%2C%0A%20%20%22weight%22%3A%203%0A%7D%0A%20%20%20%20%20%20%20%20%20%20%20%20%20%20%20%20%29%0A%20%20%20%20%20%20%20%20%20%20%20%20%20%20%20%20.addTo%28map_06c78ff1e55844d183a6735723b95cfe%29%3B%0A%20%20%20%20%20%20%20%20%20%20%20%20%0A%20%20%20%20%0A%20%20%20%20%20%20%20%20%20%20%20%20var%20popup_8f63f887fc1745f49c75200de09d2d53%20%3D%20L.popup%28%7BmaxWidth%3A%20%27100%25%27%0A%20%20%20%20%20%20%20%20%20%20%20%20%0A%20%20%20%20%20%20%20%20%20%20%20%20%7D%29%3B%0A%0A%20%20%20%20%20%20%20%20%20%20%20%20%0A%20%20%20%20%20%20%20%20%20%20%20%20%20%20%20%20var%20html_30f32363efdf45c4a08a341be8068167%20%3D%20%24%28%60%3Cdiv%20id%3D%22html_30f32363efdf45c4a08a341be8068167%22%20style%3D%22width%3A%20100.0%25%3B%20height%3A%20100.0%25%3B%22%3E%3Cstrong%3EState%3C/strong%3E%3A%20Mi%3Cbr%3E%3Cstrong%3ETotal%20Cases%3C/strong%3E%3A%20656072%3Cbr%3E%3C/div%3E%60%29%5B0%5D%3B%0A%20%20%20%20%20%20%20%20%20%20%20%20%20%20%20%20popup_8f63f887fc1745f49c75200de09d2d53.setContent%28html_30f32363efdf45c4a08a341be8068167%29%3B%0A%20%20%20%20%20%20%20%20%20%20%20%20%0A%0A%20%20%20%20%20%20%20%20%20%20%20%20circle_marker_20771198568540aebe454854819cbdba.bindPopup%28popup_8f63f887fc1745f49c75200de09d2d53%29%0A%20%20%20%20%20%20%20%20%20%20%20%20%3B%0A%0A%20%20%20%20%20%20%20%20%20%20%20%20%0A%20%20%20%20%20%20%20%20%0A%20%20%20%20%0A%20%20%20%20%20%20%20%20%20%20%20%20var%20circle_marker_81115b70df9f463a9e6386738600554f%20%3D%20L.circleMarker%28%0A%20%20%20%20%20%20%20%20%20%20%20%20%20%20%20%20%5B46.729553%2C%20-94.6859%5D%2C%0A%20%20%20%20%20%20%20%20%20%20%20%20%20%20%20%20%7B%0A%20%20%22bubblingMouseEvents%22%3A%20true%2C%0A%20%20%22color%22%3A%20%22red%22%2C%0A%20%20%22dashArray%22%3A%20null%2C%0A%20%20%22dashOffset%22%3A%20null%2C%0A%20%20%22fill%22%3A%20true%2C%0A%20%20%22fillColor%22%3A%20%22red%22%2C%0A%20%20%22fillOpacity%22%3A%200.3%2C%0A%20%20%22fillRule%22%3A%20%22evenodd%22%2C%0A%20%20%22lineCap%22%3A%20%22round%22%2C%0A%20%20%22lineJoin%22%3A%20%22round%22%2C%0A%20%20%22opacity%22%3A%201.0%2C%0A%20%20%22radius%22%3A%2024.600440000000003%2C%0A%20%20%22stroke%22%3A%20true%2C%0A%20%20%22weight%22%3A%203%0A%7D%0A%20%20%20%20%20%20%20%20%20%20%20%20%20%20%20%20%29%0A%20%20%20%20%20%20%20%20%20%20%20%20%20%20%20%20.addTo%28map_06c78ff1e55844d183a6735723b95cfe%29%3B%0A%20%20%20%20%20%20%20%20%20%20%20%20%0A%20%20%20%20%0A%20%20%20%20%20%20%20%20%20%20%20%20var%20popup_7e38a52d20f546399e3befd8519397e0%20%3D%20L.popup%28%7BmaxWidth%3A%20%27100%25%27%0A%20%20%20%20%20%20%20%20%20%20%20%20%0A%20%20%20%20%20%20%20%20%20%20%20%20%7D%29%3B%0A%0A%20%20%20%20%20%20%20%20%20%20%20%20%0A%20%20%20%20%20%20%20%20%20%20%20%20%20%20%20%20var%20html_c9cac169b81544988bf9ab29b5bb5e5b%20%3D%20%24%28%60%3Cdiv%20id%3D%22html_c9cac169b81544988bf9ab29b5bb5e5b%22%20style%3D%22width%3A%20100.0%25%3B%20height%3A%20100.0%25%3B%22%3E%3Cstrong%3EState%3C/strong%3E%3A%20Mn%3Cbr%3E%3Cstrong%3ETotal%20Cases%3C/strong%3E%3A%20490011%3Cbr%3E%3C/div%3E%60%29%5B0%5D%3B%0A%20%20%20%20%20%20%20%20%20%20%20%20%20%20%20%20popup_7e38a52d20f546399e3befd8519397e0.setContent%28html_c9cac169b81544988bf9ab29b5bb5e5b%29%3B%0A%20%20%20%20%20%20%20%20%20%20%20%20%0A%0A%20%20%20%20%20%20%20%20%20%20%20%20circle_marker_81115b70df9f463a9e6386738600554f.bindPopup%28popup_7e38a52d20f546399e3befd8519397e0%29%0A%20%20%20%20%20%20%20%20%20%20%20%20%3B%0A%0A%20%20%20%20%20%20%20%20%20%20%20%20%0A%20%20%20%20%20%20%20%20%0A%20%20%20%20%0A%20%20%20%20%20%20%20%20%20%20%20%20var%20circle_marker_03e25ce05c884cf08701e2c4ae2a3ffd%20%3D%20L.circleMarker%28%0A%20%20%20%20%20%20%20%20%20%20%20%20%20%20%20%20%5B37.964253%2C%20-91.831833%5D%2C%0A%20%20%20%20%20%20%20%20%20%20%20%20%20%20%20%20%7B%0A%20%20%22bubblingMouseEvents%22%3A%20true%2C%0A%20%20%22color%22%3A%20%22red%22%2C%0A%20%20%22dashArray%22%3A%20null%2C%0A%20%20%22dashOffset%22%3A%20null%2C%0A%20%20%22fill%22%3A%20true%2C%0A%20%20%22fillColor%22%3A%20%22red%22%2C%0A%20%20%22fillOpacity%22%3A%200.3%2C%0A%20%20%22fillRule%22%3A%20%22evenodd%22%2C%0A%20%20%22lineCap%22%3A%20%22round%22%2C%0A%20%20%22lineJoin%22%3A%20%22round%22%2C%0A%20%20%22opacity%22%3A%201.0%2C%0A%20%20%22radius%22%3A%2024.225720000000003%2C%0A%20%20%22stroke%22%3A%20true%2C%0A%20%20%22weight%22%3A%203%0A%7D%0A%20%20%20%20%20%20%20%20%20%20%20%20%20%20%20%20%29%0A%20%20%20%20%20%20%20%20%20%20%20%20%20%20%20%20.addTo%28map_06c78ff1e55844d183a6735723b95cfe%29%3B%0A%20%20%20%20%20%20%20%20%20%20%20%20%0A%20%20%20%20%0A%20%20%20%20%20%20%20%20%20%20%20%20var%20popup_d78036079471461dbc42049a0e21b2e5%20%3D%20L.popup%28%7BmaxWidth%3A%20%27100%25%27%0A%20%20%20%20%20%20%20%20%20%20%20%20%0A%20%20%20%20%20%20%20%20%20%20%20%20%7D%29%3B%0A%0A%20%20%20%20%20%20%20%20%20%20%20%20%0A%20%20%20%20%20%20%20%20%20%20%20%20%20%20%20%20var%20html_f8ceaf5f821a4ca69bf4de08de2bc4b2%20%3D%20%24%28%60%3Cdiv%20id%3D%22html_f8ceaf5f821a4ca69bf4de08de2bc4b2%22%20style%3D%22width%3A%20100.0%25%3B%20height%3A%20100.0%25%3B%22%3E%3Cstrong%3EState%3C/strong%3E%3A%20Mo%3Cbr%3E%3Cstrong%3ETotal%20Cases%3C/strong%3E%3A%20480643%3Cbr%3E%3C/div%3E%60%29%5B0%5D%3B%0A%20%20%20%20%20%20%20%20%20%20%20%20%20%20%20%20popup_d78036079471461dbc42049a0e21b2e5.setContent%28html_f8ceaf5f821a4ca69bf4de08de2bc4b2%29%3B%0A%20%20%20%20%20%20%20%20%20%20%20%20%0A%0A%20%20%20%20%20%20%20%20%20%20%20%20circle_marker_03e25ce05c884cf08701e2c4ae2a3ffd.bindPopup%28popup_d78036079471461dbc42049a0e21b2e5%29%0A%20%20%20%20%20%20%20%20%20%20%20%20%3B%0A%0A%20%20%20%20%20%20%20%20%20%20%20%20%0A%20%20%20%20%20%20%20%20%0A%20%20%20%20%0A%20%20%20%20%20%20%20%20%20%20%20%20var%20circle_marker_5aa98f60ae4d4cbbb98938ca36693e83%20%3D%20L.circleMarker%28%0A%20%20%20%20%20%20%20%20%20%20%20%20%20%20%20%20%5B32.354668%2C%20-89.398528%5D%2C%0A%20%20%20%20%20%20%20%20%20%20%20%20%20%20%20%20%7B%0A%20%20%22bubblingMouseEvents%22%3A%20true%2C%0A%20%20%22color%22%3A%20%22red%22%2C%0A%20%20%22dashArray%22%3A%20null%2C%0A%20%20%22dashOffset%22%3A%20null%2C%0A%20%20%22fill%22%3A%20true%2C%0A%20%20%22fillColor%22%3A%20%22red%22%2C%0A%20%20%22fillOpacity%22%3A%200.3%2C%0A%20%20%22fillRule%22%3A%20%22evenodd%22%2C%0A%20%20%22lineCap%22%3A%20%22round%22%2C%0A%20%20%22lineJoin%22%3A%20%22round%22%2C%0A%20%20%22opacity%22%3A%201.0%2C%0A%20%20%22radius%22%3A%2016.90324%2C%0A%20%20%22stroke%22%3A%20true%2C%0A%20%20%22weight%22%3A%203%0A%7D%0A%20%20%20%20%20%20%20%20%20%20%20%20%20%20%20%20%29%0A%20%20%20%20%20%20%20%20%20%20%20%20%20%20%20%20.addTo%28map_06c78ff1e55844d183a6735723b95cfe%29%3B%0A%20%20%20%20%20%20%20%20%20%20%20%20%0A%20%20%20%20%0A%20%20%20%20%20%20%20%20%20%20%20%20var%20popup_01fe259406874e5b83b3d001c99a978a%20%3D%20L.popup%28%7BmaxWidth%3A%20%27100%25%27%0A%20%20%20%20%20%20%20%20%20%20%20%20%0A%20%20%20%20%20%20%20%20%20%20%20%20%7D%29%3B%0A%0A%20%20%20%20%20%20%20%20%20%20%20%20%0A%20%20%20%20%20%20%20%20%20%20%20%20%20%20%20%20var%20html_39d9a8b5137d43ecb81ba5c710675460%20%3D%20%24%28%60%3Cdiv%20id%3D%22html_39d9a8b5137d43ecb81ba5c710675460%22%20style%3D%22width%3A%20100.0%25%3B%20height%3A%20100.0%25%3B%22%3E%3Cstrong%3EState%3C/strong%3E%3A%20Ms%3Cbr%3E%3Cstrong%3ETotal%20Cases%3C/strong%3E%3A%20297581%3Cbr%3E%3C/div%3E%60%29%5B0%5D%3B%0A%20%20%20%20%20%20%20%20%20%20%20%20%20%20%20%20popup_01fe259406874e5b83b3d001c99a978a.setContent%28html_39d9a8b5137d43ecb81ba5c710675460%29%3B%0A%20%20%20%20%20%20%20%20%20%20%20%20%0A%0A%20%20%20%20%20%20%20%20%20%20%20%20circle_marker_5aa98f60ae4d4cbbb98938ca36693e83.bindPopup%28popup_01fe259406874e5b83b3d001c99a978a%29%0A%20%20%20%20%20%20%20%20%20%20%20%20%3B%0A%0A%20%20%20%20%20%20%20%20%20%20%20%20%0A%20%20%20%20%20%20%20%20%0A%20%20%20%20%0A%20%20%20%20%20%20%20%20%20%20%20%20var%20circle_marker_cba5f30665754dbdb6df12481bc2cee3%20%3D%20L.circleMarker%28%0A%20%20%20%20%20%20%20%20%20%20%20%20%20%20%20%20%5B46.879682%2C%20-110.362566%5D%2C%0A%20%20%20%20%20%20%20%20%20%20%20%20%20%20%20%20%7B%0A%20%20%22bubblingMouseEvents%22%3A%20true%2C%0A%20%20%22color%22%3A%20%22red%22%2C%0A%20%20%22dashArray%22%3A%20null%2C%0A%20%20%22dashOffset%22%3A%20null%2C%0A%20%20%22fill%22%3A%20true%2C%0A%20%20%22fillColor%22%3A%20%22red%22%2C%0A%20%20%22fillOpacity%22%3A%200.3%2C%0A%20%20%22fillRule%22%3A%20%22evenodd%22%2C%0A%20%20%22lineCap%22%3A%20%22round%22%2C%0A%20%20%22lineJoin%22%3A%20%22round%22%2C%0A%20%20%22opacity%22%3A%201.0%2C%0A%20%20%22radius%22%3A%209.036560000000001%2C%0A%20%20%22stroke%22%3A%20true%2C%0A%20%20%22weight%22%3A%203%0A%7D%0A%20%20%20%20%20%20%20%20%20%20%20%20%20%20%20%20%29%0A%20%20%20%20%20%20%20%20%20%20%20%20%20%20%20%20.addTo%28map_06c78ff1e55844d183a6735723b95cfe%29%3B%0A%20%20%20%20%20%20%20%20%20%20%20%20%0A%20%20%20%20%0A%20%20%20%20%20%20%20%20%20%20%20%20var%20popup_19a7fcdfcb2b465ba327ab624486299a%20%3D%20L.popup%28%7BmaxWidth%3A%20%27100%25%27%0A%20%20%20%20%20%20%20%20%20%20%20%20%0A%20%20%20%20%20%20%20%20%20%20%20%20%7D%29%3B%0A%0A%20%20%20%20%20%20%20%20%20%20%20%20%0A%20%20%20%20%20%20%20%20%20%20%20%20%20%20%20%20var%20html_3bec09a1223e4b34a1a2d501049cb111%20%3D%20%24%28%60%3Cdiv%20id%3D%22html_3bec09a1223e4b34a1a2d501049cb111%22%20style%3D%22width%3A%20100.0%25%3B%20height%3A%20100.0%25%3B%22%3E%3Cstrong%3EState%3C/strong%3E%3A%20Mt%3Cbr%3E%3Cstrong%3ETotal%20Cases%3C/strong%3E%3A%20100914%3Cbr%3E%3C/div%3E%60%29%5B0%5D%3B%0A%20%20%20%20%20%20%20%20%20%20%20%20%20%20%20%20popup_19a7fcdfcb2b465ba327ab624486299a.setContent%28html_3bec09a1223e4b34a1a2d501049cb111%29%3B%0A%20%20%20%20%20%20%20%20%20%20%20%20%0A%0A%20%20%20%20%20%20%20%20%20%20%20%20circle_marker_cba5f30665754dbdb6df12481bc2cee3.bindPopup%28popup_19a7fcdfcb2b465ba327ab624486299a%29%0A%20%20%20%20%20%20%20%20%20%20%20%20%3B%0A%0A%20%20%20%20%20%20%20%20%20%20%20%20%0A%20%20%20%20%20%20%20%20%0A%20%20%20%20%0A%20%20%20%20%20%20%20%20%20%20%20%20var%20circle_marker_1a480ff260fd489480e86dfe3a5f2019%20%3D%20L.circleMarker%28%0A%20%20%20%20%20%20%20%20%20%20%20%20%20%20%20%20%5B35.759573%2C%20-79.0193%5D%2C%0A%20%20%20%20%20%20%20%20%20%20%20%20%20%20%20%20%7B%0A%20%20%22bubblingMouseEvents%22%3A%20true%2C%0A%20%20%22color%22%3A%20%22red%22%2C%0A%20%20%22dashArray%22%3A%20null%2C%0A%20%20%22dashOffset%22%3A%20null%2C%0A%20%20%22fill%22%3A%20true%2C%0A%20%20%22fillColor%22%3A%20%22red%22%2C%0A%20%20%22fillOpacity%22%3A%200.3%2C%0A%20%20%22fillRule%22%3A%20%22evenodd%22%2C%0A%20%20%22lineCap%22%3A%20%22round%22%2C%0A%20%20%22lineJoin%22%3A%20%22round%22%2C%0A%20%20%22opacity%22%3A%201.0%2C%0A%20%20%22radius%22%3A%2039.887040000000006%2C%0A%20%20%22stroke%22%3A%20true%2C%0A%20%20%22weight%22%3A%203%0A%7D%0A%20%20%20%20%20%20%20%20%20%20%20%20%20%20%20%20%29%0A%20%20%20%20%20%20%20%20%20%20%20%20%20%20%20%20.addTo%28map_06c78ff1e55844d183a6735723b95cfe%29%3B%0A%20%20%20%20%20%20%20%20%20%20%20%20%0A%20%20%20%20%0A%20%20%20%20%20%20%20%20%20%20%20%20var%20popup_f4a7f9a2de44453fb3249735383168e5%20%3D%20L.popup%28%7BmaxWidth%3A%20%27100%25%27%0A%20%20%20%20%20%20%20%20%20%20%20%20%0A%20%20%20%20%20%20%20%20%20%20%20%20%7D%29%3B%0A%0A%20%20%20%20%20%20%20%20%20%20%20%20%0A%20%20%20%20%20%20%20%20%20%20%20%20%20%20%20%20var%20html_b99a698e55e8476eb705b2dedf7fc7f0%20%3D%20%24%28%60%3Cdiv%20id%3D%22html_b99a698e55e8476eb705b2dedf7fc7f0%22%20style%3D%22width%3A%20100.0%25%3B%20height%3A%20100.0%25%3B%22%3E%3Cstrong%3EState%3C/strong%3E%3A%20Nc%3Cbr%3E%3Cstrong%3ETotal%20Cases%3C/strong%3E%3A%20872176%3Cbr%3E%3C/div%3E%60%29%5B0%5D%3B%0A%20%20%20%20%20%20%20%20%20%20%20%20%20%20%20%20popup_f4a7f9a2de44453fb3249735383168e5.setContent%28html_b99a698e55e8476eb705b2dedf7fc7f0%29%3B%0A%20%20%20%20%20%20%20%20%20%20%20%20%0A%0A%20%20%20%20%20%20%20%20%20%20%20%20circle_marker_1a480ff260fd489480e86dfe3a5f2019.bindPopup%28popup_f4a7f9a2de44453fb3249735383168e5%29%0A%20%20%20%20%20%20%20%20%20%20%20%20%3B%0A%0A%20%20%20%20%20%20%20%20%20%20%20%20%0A%20%20%20%20%20%20%20%20%0A%20%20%20%20%0A%20%20%20%20%20%20%20%20%20%20%20%20var%20circle_marker_5c3f7505a8b24886bb83798e4a2bfc0f%20%3D%20L.circleMarker%28%0A%20%20%20%20%20%20%20%20%20%20%20%20%20%20%20%20%5B47.551493%2C%20-101.002012%5D%2C%0A%20%20%20%20%20%20%20%20%20%20%20%20%20%20%20%20%7B%0A%20%20%22bubblingMouseEvents%22%3A%20true%2C%0A%20%20%22color%22%3A%20%22red%22%2C%0A%20%20%22dashArray%22%3A%20null%2C%0A%20%20%22dashOffset%22%3A%20null%2C%0A%20%20%22fill%22%3A%20true%2C%0A%20%20%22fillColor%22%3A%20%22red%22%2C%0A%20%20%22fillOpacity%22%3A%200.3%2C%0A%20%20%22fillRule%22%3A%20%22evenodd%22%2C%0A%20%20%22lineCap%22%3A%20%22round%22%2C%0A%20%20%22lineJoin%22%3A%20%22round%22%2C%0A%20%20%22opacity%22%3A%201.0%2C%0A%20%20%22radius%22%3A%209.015640000000001%2C%0A%20%20%22stroke%22%3A%20true%2C%0A%20%20%22weight%22%3A%203%0A%7D%0A%20%20%20%20%20%20%20%20%20%20%20%20%20%20%20%20%29%0A%20%20%20%20%20%20%20%20%20%20%20%20%20%20%20%20.addTo%28map_06c78ff1e55844d183a6735723b95cfe%29%3B%0A%20%20%20%20%20%20%20%20%20%20%20%20%0A%20%20%20%20%0A%20%20%20%20%20%20%20%20%20%20%20%20var%20popup_c9f93ad7b11f4dfe93543e6a7223e254%20%3D%20L.popup%28%7BmaxWidth%3A%20%27100%25%27%0A%20%20%20%20%20%20%20%20%20%20%20%20%0A%20%20%20%20%20%20%20%20%20%20%20%20%7D%29%3B%0A%0A%20%20%20%20%20%20%20%20%20%20%20%20%0A%20%20%20%20%20%20%20%20%20%20%20%20%20%20%20%20var%20html_74e074a46e58415383e7b5a556e97b75%20%3D%20%24%28%60%3Cdiv%20id%3D%22html_74e074a46e58415383e7b5a556e97b75%22%20style%3D%22width%3A%20100.0%25%3B%20height%3A%20100.0%25%3B%22%3E%3Cstrong%3EState%3C/strong%3E%3A%20Nd%3Cbr%3E%3Cstrong%3ETotal%20Cases%3C/strong%3E%3A%20100391%3Cbr%3E%3C/div%3E%60%29%5B0%5D%3B%0A%20%20%20%20%20%20%20%20%20%20%20%20%20%20%20%20popup_c9f93ad7b11f4dfe93543e6a7223e254.setContent%28html_74e074a46e58415383e7b5a556e97b75%29%3B%0A%20%20%20%20%20%20%20%20%20%20%20%20%0A%0A%20%20%20%20%20%20%20%20%20%20%20%20circle_marker_5c3f7505a8b24886bb83798e4a2bfc0f.bindPopup%28popup_c9f93ad7b11f4dfe93543e6a7223e254%29%0A%20%20%20%20%20%20%20%20%20%20%20%20%3B%0A%0A%20%20%20%20%20%20%20%20%20%20%20%20%0A%20%20%20%20%20%20%20%20%0A%20%20%20%20%0A%20%20%20%20%20%20%20%20%20%20%20%20var%20circle_marker_5689c373d56b4be39975467111957427%20%3D%20L.circleMarker%28%0A%20%20%20%20%20%20%20%20%20%20%20%20%20%20%20%20%5B41.492537%2C%20-99.901813%5D%2C%0A%20%20%20%20%20%20%20%20%20%20%20%20%20%20%20%20%7B%0A%20%20%22bubblingMouseEvents%22%3A%20true%2C%0A%20%20%22color%22%3A%20%22red%22%2C%0A%20%20%22dashArray%22%3A%20null%2C%0A%20%20%22dashOffset%22%3A%20null%2C%0A%20%20%22fill%22%3A%20true%2C%0A%20%20%22fillColor%22%3A%20%22red%22%2C%0A%20%20%22fillOpacity%22%3A%200.3%2C%0A%20%20%22fillRule%22%3A%20%22evenodd%22%2C%0A%20%20%22lineCap%22%3A%20%22round%22%2C%0A%20%20%22lineJoin%22%3A%20%22round%22%2C%0A%20%20%22opacity%22%3A%201.0%2C%0A%20%20%22radius%22%3A%2013.12104%2C%0A%20%20%22stroke%22%3A%20true%2C%0A%20%20%22weight%22%3A%203%0A%7D%0A%20%20%20%20%20%20%20%20%20%20%20%20%20%20%20%20%29%0A%20%20%20%20%20%20%20%20%20%20%20%20%20%20%20%20.addTo%28map_06c78ff1e55844d183a6735723b95cfe%29%3B%0A%20%20%20%20%20%20%20%20%20%20%20%20%0A%20%20%20%20%0A%20%20%20%20%20%20%20%20%20%20%20%20var%20popup_438328a7129c4851987fd187a9e4fd13%20%3D%20L.popup%28%7BmaxWidth%3A%20%27100%25%27%0A%20%20%20%20%20%20%20%20%20%20%20%20%0A%20%20%20%20%20%20%20%20%20%20%20%20%7D%29%3B%0A%0A%20%20%20%20%20%20%20%20%20%20%20%20%0A%20%20%20%20%20%20%20%20%20%20%20%20%20%20%20%20var%20html_51258a02017d4718b9d9e05ea907dc10%20%3D%20%24%28%60%3Cdiv%20id%3D%22html_51258a02017d4718b9d9e05ea907dc10%22%20style%3D%22width%3A%20100.0%25%3B%20height%3A%20100.0%25%3B%22%3E%3Cstrong%3EState%3C/strong%3E%3A%20Ne%3Cbr%3E%3Cstrong%3ETotal%20Cases%3C/strong%3E%3A%20203026%3Cbr%3E%3C/div%3E%60%29%5B0%5D%3B%0A%20%20%20%20%20%20%20%20%20%20%20%20%20%20%20%20popup_438328a7129c4851987fd187a9e4fd13.setContent%28html_51258a02017d4718b9d9e05ea907dc10%29%3B%0A%20%20%20%20%20%20%20%20%20%20%20%20%0A%0A%20%20%20%20%20%20%20%20%20%20%20%20circle_marker_5689c373d56b4be39975467111957427.bindPopup%28popup_438328a7129c4851987fd187a9e4fd13%29%0A%20%20%20%20%20%20%20%20%20%20%20%20%3B%0A%0A%20%20%20%20%20%20%20%20%20%20%20%20%0A%20%20%20%20%20%20%20%20%0A%20%20%20%20%0A%20%20%20%20%20%20%20%20%20%20%20%20var%20circle_marker_4e3b34566a0345b7a8946146d82e109b%20%3D%20L.circleMarker%28%0A%20%20%20%20%20%20%20%20%20%20%20%20%20%20%20%20%5B43.193852%2C%20-71.572395%5D%2C%0A%20%20%20%20%20%20%20%20%20%20%20%20%20%20%20%20%7B%0A%20%20%22bubblingMouseEvents%22%3A%20true%2C%0A%20%20%22color%22%3A%20%22red%22%2C%0A%20%20%22dashArray%22%3A%20null%2C%0A%20%20%22dashOffset%22%3A%20null%2C%0A%20%20%22fill%22%3A%20true%2C%0A%20%20%22fillColor%22%3A%20%22red%22%2C%0A%20%20%22fillOpacity%22%3A%200.3%2C%0A%20%20%22fillRule%22%3A%20%22evenodd%22%2C%0A%20%20%22lineCap%22%3A%20%22round%22%2C%0A%20%20%22lineJoin%22%3A%20%22round%22%2C%0A%20%20%22opacity%22%3A%201.0%2C%0A%20%20%22radius%22%3A%208.07444%2C%0A%20%20%22stroke%22%3A%20true%2C%0A%20%20%22weight%22%3A%203%0A%7D%0A%20%20%20%20%20%20%20%20%20%20%20%20%20%20%20%20%29%0A%20%20%20%20%20%20%20%20%20%20%20%20%20%20%20%20.addTo%28map_06c78ff1e55844d183a6735723b95cfe%29%3B%0A%20%20%20%20%20%20%20%20%20%20%20%20%0A%20%20%20%20%0A%20%20%20%20%20%20%20%20%20%20%20%20var%20popup_a83af8580b79436e9dd296aad0f8a061%20%3D%20L.popup%28%7BmaxWidth%3A%20%27100%25%27%0A%20%20%20%20%20%20%20%20%20%20%20%20%0A%20%20%20%20%20%20%20%20%20%20%20%20%7D%29%3B%0A%0A%20%20%20%20%20%20%20%20%20%20%20%20%0A%20%20%20%20%20%20%20%20%20%20%20%20%20%20%20%20var%20html_1f7e6663e69b49cbbc3404d4559cf48f%20%3D%20%24%28%60%3Cdiv%20id%3D%22html_1f7e6663e69b49cbbc3404d4559cf48f%22%20style%3D%22width%3A%20100.0%25%3B%20height%3A%20100.0%25%3B%22%3E%3Cstrong%3EState%3C/strong%3E%3A%20Nh%3Cbr%3E%3Cstrong%3ETotal%20Cases%3C/strong%3E%3A%2076861%3Cbr%3E%3C/div%3E%60%29%5B0%5D%3B%0A%20%20%20%20%20%20%20%20%20%20%20%20%20%20%20%20popup_a83af8580b79436e9dd296aad0f8a061.setContent%28html_1f7e6663e69b49cbbc3404d4559cf48f%29%3B%0A%20%20%20%20%20%20%20%20%20%20%20%20%0A%0A%20%20%20%20%20%20%20%20%20%20%20%20circle_marker_4e3b34566a0345b7a8946146d82e109b.bindPopup%28popup_a83af8580b79436e9dd296aad0f8a061%29%0A%20%20%20%20%20%20%20%20%20%20%20%20%3B%0A%0A%20%20%20%20%20%20%20%20%20%20%20%20%0A%20%20%20%20%20%20%20%20%0A%20%20%20%20%0A%20%20%20%20%20%20%20%20%20%20%20%20var%20circle_marker_a371999cc2944af7babad42abaca4e9e%20%3D%20L.circleMarker%28%0A%20%20%20%20%20%20%20%20%20%20%20%20%20%20%20%20%5B40.058324%2C%20-74.405661%5D%2C%0A%20%20%20%20%20%20%20%20%20%20%20%20%20%20%20%20%7B%0A%20%20%22bubblingMouseEvents%22%3A%20true%2C%0A%20%20%22color%22%3A%20%22red%22%2C%0A%20%20%22dashArray%22%3A%20null%2C%0A%20%20%22dashOffset%22%3A%20null%2C%0A%20%20%22fill%22%3A%20true%2C%0A%20%20%22fillColor%22%3A%20%22red%22%2C%0A%20%20%22fillOpacity%22%3A%200.3%2C%0A%20%20%22fillRule%22%3A%20%22evenodd%22%2C%0A%20%20%22lineCap%22%3A%20%22round%22%2C%0A%20%20%22lineJoin%22%3A%20%22round%22%2C%0A%20%20%22opacity%22%3A%201.0%2C%0A%20%20%22radius%22%3A%2037.504360000000005%2C%0A%20%20%22stroke%22%3A%20true%2C%0A%20%20%22weight%22%3A%203%0A%7D%0A%20%20%20%20%20%20%20%20%20%20%20%20%20%20%20%20%29%0A%20%20%20%20%20%20%20%20%20%20%20%20%20%20%20%20.addTo%28map_06c78ff1e55844d183a6735723b95cfe%29%3B%0A%20%20%20%20%20%20%20%20%20%20%20%20%0A%20%20%20%20%0A%20%20%20%20%20%20%20%20%20%20%20%20var%20popup_98a2a1c263724753acffc8577ea10125%20%3D%20L.popup%28%7BmaxWidth%3A%20%27100%25%27%0A%20%20%20%20%20%20%20%20%20%20%20%20%0A%20%20%20%20%20%20%20%20%20%20%20%20%7D%29%3B%0A%0A%20%20%20%20%20%20%20%20%20%20%20%20%0A%20%20%20%20%20%20%20%20%20%20%20%20%20%20%20%20var%20html_c09b8d8c06b540b0a33873485d122e76%20%3D%20%24%28%60%3Cdiv%20id%3D%22html_c09b8d8c06b540b0a33873485d122e76%22%20style%3D%22width%3A%20100.0%25%3B%20height%3A%20100.0%25%3B%22%3E%3Cstrong%3EState%3C/strong%3E%3A%20Nj%3Cbr%3E%3Cstrong%3ETotal%20Cases%3C/strong%3E%3A%20812609%3Cbr%3E%3C/div%3E%60%29%5B0%5D%3B%0A%20%20%20%20%20%20%20%20%20%20%20%20%20%20%20%20popup_98a2a1c263724753acffc8577ea10125.setContent%28html_c09b8d8c06b540b0a33873485d122e76%29%3B%0A%20%20%20%20%20%20%20%20%20%20%20%20%0A%0A%20%20%20%20%20%20%20%20%20%20%20%20circle_marker_a371999cc2944af7babad42abaca4e9e.bindPopup%28popup_98a2a1c263724753acffc8577ea10125%29%0A%20%20%20%20%20%20%20%20%20%20%20%20%3B%0A%0A%20%20%20%20%20%20%20%20%20%20%20%20%0A%20%20%20%20%20%20%20%20%0A%20%20%20%20%0A%20%20%20%20%20%20%20%20%20%20%20%20var%20circle_marker_1c5807bb93594c8faeaf03d2206fee07%20%3D%20L.circleMarker%28%0A%20%20%20%20%20%20%20%20%20%20%20%20%20%20%20%20%5B34.97273%2C%20-105.032363%5D%2C%0A%20%20%20%20%20%20%20%20%20%20%20%20%20%20%20%20%7B%0A%20%20%22bubblingMouseEvents%22%3A%20true%2C%0A%20%20%22color%22%3A%20%22red%22%2C%0A%20%20%22dashArray%22%3A%20null%2C%0A%20%20%22dashOffset%22%3A%20null%2C%0A%20%20%22fill%22%3A%20true%2C%0A%20%20%22fillColor%22%3A%20%22red%22%2C%0A%20%20%22fillOpacity%22%3A%200.3%2C%0A%20%20%22fillRule%22%3A%20%22evenodd%22%2C%0A%20%20%22lineCap%22%3A%20%22round%22%2C%0A%20%20%22lineJoin%22%3A%20%22round%22%2C%0A%20%20%22opacity%22%3A%201.0%2C%0A%20%20%22radius%22%3A%2012.476880000000001%2C%0A%20%20%22stroke%22%3A%20true%2C%0A%20%20%22weight%22%3A%203%0A%7D%0A%20%20%20%20%20%20%20%20%20%20%20%20%20%20%20%20%29%0A%20%20%20%20%20%20%20%20%20%20%20%20%20%20%20%20.addTo%28map_06c78ff1e55844d183a6735723b95cfe%29%3B%0A%20%20%20%20%20%20%20%20%20%20%20%20%0A%20%20%20%20%0A%20%20%20%20%20%20%20%20%20%20%20%20var%20popup_c987919ff9574497b6aa965ca0d436b3%20%3D%20L.popup%28%7BmaxWidth%3A%20%27100%25%27%0A%20%20%20%20%20%20%20%20%20%20%20%20%0A%20%20%20%20%20%20%20%20%20%20%20%20%7D%29%3B%0A%0A%20%20%20%20%20%20%20%20%20%20%20%20%0A%20%20%20%20%20%20%20%20%20%20%20%20%20%20%20%20var%20html_63c459ff22914ed6b03147ea28ad0656%20%3D%20%24%28%60%3Cdiv%20id%3D%22html_63c459ff22914ed6b03147ea28ad0656%22%20style%3D%22width%3A%20100.0%25%3B%20height%3A%20100.0%25%3B%22%3E%3Cstrong%3EState%3C/strong%3E%3A%20Nm%3Cbr%3E%3Cstrong%3ETotal%20Cases%3C/strong%3E%3A%20186922%3Cbr%3E%3C/div%3E%60%29%5B0%5D%3B%0A%20%20%20%20%20%20%20%20%20%20%20%20%20%20%20%20popup_c987919ff9574497b6aa965ca0d436b3.setContent%28html_63c459ff22914ed6b03147ea28ad0656%29%3B%0A%20%20%20%20%20%20%20%20%20%20%20%20%0A%0A%20%20%20%20%20%20%20%20%20%20%20%20circle_marker_1c5807bb93594c8faeaf03d2206fee07.bindPopup%28popup_c987919ff9574497b6aa965ca0d436b3%29%0A%20%20%20%20%20%20%20%20%20%20%20%20%3B%0A%0A%20%20%20%20%20%20%20%20%20%20%20%20%0A%20%20%20%20%20%20%20%20%0A%20%20%20%20%0A%20%20%20%20%20%20%20%20%20%20%20%20var%20circle_marker_d305b2993c164d40a2ffe22f8a0aa1aa%20%3D%20L.circleMarker%28%0A%20%20%20%20%20%20%20%20%20%20%20%20%20%20%20%20%5B38.80261%2C%20-116.419389%5D%2C%0A%20%20%20%20%20%20%20%20%20%20%20%20%20%20%20%20%7B%0A%20%20%22bubblingMouseEvents%22%3A%20true%2C%0A%20%20%22color%22%3A%20%22red%22%2C%0A%20%20%22dashArray%22%3A%20null%2C%0A%20%20%22dashOffset%22%3A%20null%2C%0A%20%20%22fill%22%3A%20true%2C%0A%20%20%22fillColor%22%3A%20%22red%22%2C%0A%20%20%22fillOpacity%22%3A%200.3%2C%0A%20%20%22fillRule%22%3A%20%22evenodd%22%2C%0A%20%20%22lineCap%22%3A%20%22round%22%2C%0A%20%20%22lineJoin%22%3A%20%22round%22%2C%0A%20%20%22opacity%22%3A%201.0%2C%0A%20%20%22radius%22%3A%2016.8476%2C%0A%20%20%22stroke%22%3A%20true%2C%0A%20%20%22weight%22%3A%203%0A%7D%0A%20%20%20%20%20%20%20%20%20%20%20%20%20%20%20%20%29%0A%20%20%20%20%20%20%20%20%20%20%20%20%20%20%20%20.addTo%28map_06c78ff1e55844d183a6735723b95cfe%29%3B%0A%20%20%20%20%20%20%20%20%20%20%20%20%0A%20%20%20%20%0A%20%20%20%20%20%20%20%20%20%20%20%20var%20popup_8c7a2f2c0c274f29ab6f8dd9f50f0ff5%20%3D%20L.popup%28%7BmaxWidth%3A%20%27100%25%27%0A%20%20%20%20%20%20%20%20%20%20%20%20%0A%20%20%20%20%20%20%20%20%20%20%20%20%7D%29%3B%0A%0A%20%20%20%20%20%20%20%20%20%20%20%20%0A%20%20%20%20%20%20%20%20%20%20%20%20%20%20%20%20var%20html_179e757d5482458dbc0d52d70667af60%20%3D%20%24%28%60%3Cdiv%20id%3D%22html_179e757d5482458dbc0d52d70667af60%22%20style%3D%22width%3A%20100.0%25%3B%20height%3A%20100.0%25%3B%22%3E%3Cstrong%3EState%3C/strong%3E%3A%20Nv%3Cbr%3E%3Cstrong%3ETotal%20Cases%3C/strong%3E%3A%20296190%3Cbr%3E%3C/div%3E%60%29%5B0%5D%3B%0A%20%20%20%20%20%20%20%20%20%20%20%20%20%20%20%20popup_8c7a2f2c0c274f29ab6f8dd9f50f0ff5.setContent%28html_179e757d5482458dbc0d52d70667af60%29%3B%0A%20%20%20%20%20%20%20%20%20%20%20%20%0A%0A%20%20%20%20%20%20%20%20%20%20%20%20circle_marker_d305b2993c164d40a2ffe22f8a0aa1aa.bindPopup%28popup_8c7a2f2c0c274f29ab6f8dd9f50f0ff5%29%0A%20%20%20%20%20%20%20%20%20%20%20%20%3B%0A%0A%20%20%20%20%20%20%20%20%20%20%20%20%0A%20%20%20%20%20%20%20%20%0A%20%20%20%20%0A%20%20%20%20%20%20%20%20%20%20%20%20var%20circle_marker_8e026949d0b04145809ddbe08fbb1799%20%3D%20L.circleMarker%28%0A%20%20%20%20%20%20%20%20%20%20%20%20%20%20%20%20%5B43.299428%2C%20-74.217933%5D%2C%0A%20%20%20%20%20%20%20%20%20%20%20%20%20%20%20%20%7B%0A%20%20%22bubblingMouseEvents%22%3A%20true%2C%0A%20%20%22color%22%3A%20%22red%22%2C%0A%20%20%22dashArray%22%3A%20null%2C%0A%20%20%22dashOffset%22%3A%20null%2C%0A%20%20%22fill%22%3A%20true%2C%0A%20%20%22fillColor%22%3A%20%22red%22%2C%0A%20%20%22fillOpacity%22%3A%200.3%2C%0A%20%20%22fillRule%22%3A%20%22evenodd%22%2C%0A%20%20%22lineCap%22%3A%20%22round%22%2C%0A%20%20%22lineJoin%22%3A%20%22round%22%2C%0A%20%20%22opacity%22%3A%201.0%2C%0A%20%20%22radius%22%3A%2072.24676000000001%2C%0A%20%20%22stroke%22%3A%20true%2C%0A%20%20%22weight%22%3A%203%0A%7D%0A%20%20%20%20%20%20%20%20%20%20%20%20%20%20%20%20%29%0A%20%20%20%20%20%20%20%20%20%20%20%20%20%20%20%20.addTo%28map_06c78ff1e55844d183a6735723b95cfe%29%3B%0A%20%20%20%20%20%20%20%20%20%20%20%20%0A%20%20%20%20%0A%20%20%20%20%20%20%20%20%20%20%20%20var%20popup_cbf07b81fe724cf5a09f165fa07a1f22%20%3D%20L.popup%28%7BmaxWidth%3A%20%27100%25%27%0A%20%20%20%20%20%20%20%20%20%20%20%20%0A%20%20%20%20%20%20%20%20%20%20%20%20%7D%29%3B%0A%0A%20%20%20%20%20%20%20%20%20%20%20%20%0A%20%20%20%20%20%20%20%20%20%20%20%20%20%20%20%20var%20html_2accf40c93bb439d8e7f4993e54f8458%20%3D%20%24%28%60%3Cdiv%20id%3D%22html_2accf40c93bb439d8e7f4993e54f8458%22%20style%3D%22width%3A%20100.0%25%3B%20height%3A%20100.0%25%3B%22%3E%3Cstrong%3EState%3C/strong%3E%3A%20Ny%3Cbr%3E%3Cstrong%3ETotal%20Cases%3C/strong%3E%3A%201681169%3Cbr%3E%3C/div%3E%60%29%5B0%5D%3B%0A%20%20%20%20%20%20%20%20%20%20%20%20%20%20%20%20popup_cbf07b81fe724cf5a09f165fa07a1f22.setContent%28html_2accf40c93bb439d8e7f4993e54f8458%29%3B%0A%20%20%20%20%20%20%20%20%20%20%20%20%0A%0A%20%20%20%20%20%20%20%20%20%20%20%20circle_marker_8e026949d0b04145809ddbe08fbb1799.bindPopup%28popup_cbf07b81fe724cf5a09f165fa07a1f22%29%0A%20%20%20%20%20%20%20%20%20%20%20%20%3B%0A%0A%20%20%20%20%20%20%20%20%20%20%20%20%0A%20%20%20%20%20%20%20%20%0A%20%20%20%20%0A%20%20%20%20%20%20%20%20%20%20%20%20var%20circle_marker_d9bb4a6013af4463b17d5a957bc22b22%20%3D%20L.circleMarker%28%0A%20%20%20%20%20%20%20%20%20%20%20%20%20%20%20%20%5B40.417287%2C%20-82.907123%5D%2C%0A%20%20%20%20%20%20%20%20%20%20%20%20%20%20%20%20%7B%0A%20%20%22bubblingMouseEvents%22%3A%20true%2C%0A%20%20%22color%22%3A%20%22red%22%2C%0A%20%20%22dashArray%22%3A%20null%2C%0A%20%20%22dashOffset%22%3A%20null%2C%0A%20%20%22fill%22%3A%20true%2C%0A%20%20%22fillColor%22%3A%20%22red%22%2C%0A%20%20%22fillOpacity%22%3A%200.3%2C%0A%20%20%22fillRule%22%3A%20%22evenodd%22%2C%0A%20%20%22lineCap%22%3A%20%22round%22%2C%0A%20%20%22lineJoin%22%3A%20%22round%22%2C%0A%20%20%22opacity%22%3A%201.0%2C%0A%20%20%22radius%22%3A%2044.13884%2C%0A%20%20%22stroke%22%3A%20true%2C%0A%20%20%22weight%22%3A%203%0A%7D%0A%20%20%20%20%20%20%20%20%20%20%20%20%20%20%20%20%29%0A%20%20%20%20%20%20%20%20%20%20%20%20%20%20%20%20.addTo%28map_06c78ff1e55844d183a6735723b95cfe%29%3B%0A%20%20%20%20%20%20%20%20%20%20%20%20%0A%20%20%20%20%0A%20%20%20%20%20%20%20%20%20%20%20%20var%20popup_d9cfd7a84dc74398ac5cf21f7c95fc88%20%3D%20L.popup%28%7BmaxWidth%3A%20%27100%25%27%0A%20%20%20%20%20%20%20%20%20%20%20%20%0A%20%20%20%20%20%20%20%20%20%20%20%20%7D%29%3B%0A%0A%20%20%20%20%20%20%20%20%20%20%20%20%0A%20%20%20%20%20%20%20%20%20%20%20%20%20%20%20%20var%20html_63c0dc8db8b6416f8a15858172c7ae94%20%3D%20%24%28%60%3Cdiv%20id%3D%22html_63c0dc8db8b6416f8a15858172c7ae94%22%20style%3D%22width%3A%20100.0%25%3B%20height%3A%20100.0%25%3B%22%3E%3Cstrong%3EState%3C/strong%3E%3A%20Oh%3Cbr%3E%3Cstrong%3ETotal%20Cases%3C/strong%3E%3A%20978471%3Cbr%3E%3C/div%3E%60%29%5B0%5D%3B%0A%20%20%20%20%20%20%20%20%20%20%20%20%20%20%20%20popup_d9cfd7a84dc74398ac5cf21f7c95fc88.setContent%28html_63c0dc8db8b6416f8a15858172c7ae94%29%3B%0A%20%20%20%20%20%20%20%20%20%20%20%20%0A%0A%20%20%20%20%20%20%20%20%20%20%20%20circle_marker_d9bb4a6013af4463b17d5a957bc22b22.bindPopup%28popup_d9cfd7a84dc74398ac5cf21f7c95fc88%29%0A%20%20%20%20%20%20%20%20%20%20%20%20%3B%0A%0A%20%20%20%20%20%20%20%20%20%20%20%20%0A%20%20%20%20%20%20%20%20%0A%20%20%20%20%0A%20%20%20%20%20%20%20%20%20%20%20%20var%20circle_marker_3699c9eedb6a4a04bb1af44e6531bff9%20%3D%20L.circleMarker%28%0A%20%20%20%20%20%20%20%20%20%20%20%20%20%20%20%20%5B35.007752%2C%20-97.092877%5D%2C%0A%20%20%20%20%20%20%20%20%20%20%20%20%20%20%20%20%7B%0A%20%20%22bubblingMouseEvents%22%3A%20true%2C%0A%20%20%22color%22%3A%20%22red%22%2C%0A%20%20%22dashArray%22%3A%20null%2C%0A%20%20%22dashOffset%22%3A%20null%2C%0A%20%20%22fill%22%3A%20true%2C%0A%20%20%22fillColor%22%3A%20%22red%22%2C%0A%20%20%22fillOpacity%22%3A%200.3%2C%0A%20%20%22fillRule%22%3A%20%22evenodd%22%2C%0A%20%20%22lineCap%22%3A%20%22round%22%2C%0A%20%20%22lineJoin%22%3A%20%22round%22%2C%0A%20%20%22opacity%22%3A%201.0%2C%0A%20%20%22radius%22%3A%2022.15988%2C%0A%20%20%22stroke%22%3A%20true%2C%0A%20%20%22weight%22%3A%203%0A%7D%0A%20%20%20%20%20%20%20%20%20%20%20%20%20%20%20%20%29%0A%20%20%20%20%20%20%20%20%20%20%20%20%20%20%20%20.addTo%28map_06c78ff1e55844d183a6735723b95cfe%29%3B%0A%20%20%20%20%20%20%20%20%20%20%20%20%0A%20%20%20%20%0A%20%20%20%20%20%20%20%20%20%20%20%20var%20popup_8f7608ac95a14c04a1fd18ac80966b0b%20%3D%20L.popup%28%7BmaxWidth%3A%20%27100%25%27%0A%20%20%20%20%20%20%20%20%20%20%20%20%0A%20%20%20%20%20%20%20%20%20%20%20%20%7D%29%3B%0A%0A%20%20%20%20%20%20%20%20%20%20%20%20%0A%20%20%20%20%20%20%20%20%20%20%20%20%20%20%20%20var%20html_aa2b5e89f3b943c9b5dc0836b27d57e8%20%3D%20%24%28%60%3Cdiv%20id%3D%22html_aa2b5e89f3b943c9b5dc0836b27d57e8%22%20style%3D%22width%3A%20100.0%25%3B%20height%3A%20100.0%25%3B%22%3E%3Cstrong%3EState%3C/strong%3E%3A%20Ok%3Cbr%3E%3Cstrong%3ETotal%20Cases%3C/strong%3E%3A%20428997%3Cbr%3E%3C/div%3E%60%29%5B0%5D%3B%0A%20%20%20%20%20%20%20%20%20%20%20%20%20%20%20%20popup_8f7608ac95a14c04a1fd18ac80966b0b.setContent%28html_aa2b5e89f3b943c9b5dc0836b27d57e8%29%3B%0A%20%20%20%20%20%20%20%20%20%20%20%20%0A%0A%20%20%20%20%20%20%20%20%20%20%20%20circle_marker_3699c9eedb6a4a04bb1af44e6531bff9.bindPopup%28popup_8f7608ac95a14c04a1fd18ac80966b0b%29%0A%20%20%20%20%20%20%20%20%20%20%20%20%3B%0A%0A%20%20%20%20%20%20%20%20%20%20%20%20%0A%20%20%20%20%20%20%20%20%0A%20%20%20%20%0A%20%20%20%20%20%20%20%20%20%20%20%20var%20circle_marker_8476b7a1f42b4536a78ea68a4610cb56%20%3D%20L.circleMarker%28%0A%20%20%20%20%20%20%20%20%20%20%20%20%20%20%20%20%5B43.804133%2C%20-120.554201%5D%2C%0A%20%20%20%20%20%20%20%20%20%20%20%20%20%20%20%20%7B%0A%20%20%22bubblingMouseEvents%22%3A%20true%2C%0A%20%20%22color%22%3A%20%22red%22%2C%0A%20%20%22dashArray%22%3A%20null%2C%0A%20%20%22dashOffset%22%3A%20null%2C%0A%20%20%22fill%22%3A%20true%2C%0A%20%20%22fillColor%22%3A%20%22red%22%2C%0A%20%20%22fillOpacity%22%3A%200.3%2C%0A%20%20%22fillRule%22%3A%20%22evenodd%22%2C%0A%20%20%22lineCap%22%3A%20%22round%22%2C%0A%20%20%22lineJoin%22%3A%20%22round%22%2C%0A%20%20%22opacity%22%3A%201.0%2C%0A%20%20%22radius%22%3A%2011.28316%2C%0A%20%20%22stroke%22%3A%20true%2C%0A%20%20%22weight%22%3A%203%0A%7D%0A%20%20%20%20%20%20%20%20%20%20%20%20%20%20%20%20%29%0A%20%20%20%20%20%20%20%20%20%20%20%20%20%20%20%20.addTo%28map_06c78ff1e55844d183a6735723b95cfe%29%3B%0A%20%20%20%20%20%20%20%20%20%20%20%20%0A%20%20%20%20%0A%20%20%20%20%20%20%20%20%20%20%20%20var%20popup_1af57176a50245c6bcf45e0c3cf2b001%20%3D%20L.popup%28%7BmaxWidth%3A%20%27100%25%27%0A%20%20%20%20%20%20%20%20%20%20%20%20%0A%20%20%20%20%20%20%20%20%20%20%20%20%7D%29%3B%0A%0A%20%20%20%20%20%20%20%20%20%20%20%20%0A%20%20%20%20%20%20%20%20%20%20%20%20%20%20%20%20var%20html_bf0c2317f3f04840a1e34455bbedf345%20%3D%20%24%28%60%3Cdiv%20id%3D%22html_bf0c2317f3f04840a1e34455bbedf345%22%20style%3D%22width%3A%20100.0%25%3B%20height%3A%20100.0%25%3B%22%3E%3Cstrong%3EState%3C/strong%3E%3A%20Or%3Cbr%3E%3Cstrong%3ETotal%20Cases%3C/strong%3E%3A%20157079%3Cbr%3E%3C/div%3E%60%29%5B0%5D%3B%0A%20%20%20%20%20%20%20%20%20%20%20%20%20%20%20%20popup_1af57176a50245c6bcf45e0c3cf2b001.setContent%28html_bf0c2317f3f04840a1e34455bbedf345%29%3B%0A%20%20%20%20%20%20%20%20%20%20%20%20%0A%0A%20%20%20%20%20%20%20%20%20%20%20%20circle_marker_8476b7a1f42b4536a78ea68a4610cb56.bindPopup%28popup_1af57176a50245c6bcf45e0c3cf2b001%29%0A%20%20%20%20%20%20%20%20%20%20%20%20%3B%0A%0A%20%20%20%20%20%20%20%20%20%20%20%20%0A%20%20%20%20%20%20%20%20%0A%20%20%20%20%0A%20%20%20%20%20%20%20%20%20%20%20%20var%20circle_marker_73d328ec54c54f799250d329cef66918%20%3D%20L.circleMarker%28%0A%20%20%20%20%20%20%20%20%20%20%20%20%20%20%20%20%5B41.203322%2C%20-77.194525%5D%2C%0A%20%20%20%20%20%20%20%20%20%20%20%20%20%20%20%20%7B%0A%20%20%22bubblingMouseEvents%22%3A%20true%2C%0A%20%20%22color%22%3A%20%22red%22%2C%0A%20%20%22dashArray%22%3A%20null%2C%0A%20%20%22dashOffset%22%3A%20null%2C%0A%20%20%22fill%22%3A%20true%2C%0A%20%20%22fillColor%22%3A%20%22red%22%2C%0A%20%20%22fillOpacity%22%3A%200.3%2C%0A%20%20%22fillRule%22%3A%20%22evenodd%22%2C%0A%20%20%22lineCap%22%3A%20%22round%22%2C%0A%20%20%22lineJoin%22%3A%20%22round%22%2C%0A%20%20%22opacity%22%3A%201.0%2C%0A%20%20%22radius%22%3A%2042.94572%2C%0A%20%20%22stroke%22%3A%20true%2C%0A%20%20%22weight%22%3A%203%0A%7D%0A%20%20%20%20%20%20%20%20%20%20%20%20%20%20%20%20%29%0A%20%20%20%20%20%20%20%20%20%20%20%20%20%20%20%20.addTo%28map_06c78ff1e55844d183a6735723b95cfe%29%3B%0A%20%20%20%20%20%20%20%20%20%20%20%20%0A%20%20%20%20%0A%20%20%20%20%20%20%20%20%20%20%20%20var%20popup_91094284e2424656a9c3caf735272a05%20%3D%20L.popup%28%7BmaxWidth%3A%20%27100%25%27%0A%20%20%20%20%20%20%20%20%20%20%20%20%0A%20%20%20%20%20%20%20%20%20%20%20%20%7D%29%3B%0A%0A%20%20%20%20%20%20%20%20%20%20%20%20%0A%20%20%20%20%20%20%20%20%20%20%20%20%20%20%20%20var%20html_e7f165de541a48d8b089135d8a4c8557%20%3D%20%24%28%60%3Cdiv%20id%3D%22html_e7f165de541a48d8b089135d8a4c8557%22%20style%3D%22width%3A%20100.0%25%3B%20height%3A%20100.0%25%3B%22%3E%3Cstrong%3EState%3C/strong%3E%3A%20Pa%3Cbr%3E%3Cstrong%3ETotal%20Cases%3C/strong%3E%3A%20948643%3Cbr%3E%3C/div%3E%60%29%5B0%5D%3B%0A%20%20%20%20%20%20%20%20%20%20%20%20%20%20%20%20popup_91094284e2424656a9c3caf735272a05.setContent%28html_e7f165de541a48d8b089135d8a4c8557%29%3B%0A%20%20%20%20%20%20%20%20%20%20%20%20%0A%0A%20%20%20%20%20%20%20%20%20%20%20%20circle_marker_73d328ec54c54f799250d329cef66918.bindPopup%28popup_91094284e2424656a9c3caf735272a05%29%0A%20%20%20%20%20%20%20%20%20%20%20%20%3B%0A%0A%20%20%20%20%20%20%20%20%20%20%20%20%0A%20%20%20%20%20%20%20%20%0A%20%20%20%20%0A%20%20%20%20%20%20%20%20%20%20%20%20var%20circle_marker_3b444d49557c4d65af5232cfdebb6566%20%3D%20L.circleMarker%28%0A%20%20%20%20%20%20%20%20%20%20%20%20%20%20%20%20%5B18.220833%2C%20-66.590149%5D%2C%0A%20%20%20%20%20%20%20%20%20%20%20%20%20%20%20%20%7B%0A%20%20%22bubblingMouseEvents%22%3A%20true%2C%0A%20%20%22color%22%3A%20%22red%22%2C%0A%20%20%22dashArray%22%3A%20null%2C%0A%20%20%22dashOffset%22%3A%20null%2C%0A%20%20%22fill%22%3A%20true%2C%0A%20%20%22fillColor%22%3A%20%22red%22%2C%0A%20%20%22fillOpacity%22%3A%200.3%2C%0A%20%20%22fillRule%22%3A%20%22evenodd%22%2C%0A%20%20%22lineCap%22%3A%20%22round%22%2C%0A%20%20%22lineJoin%22%3A%20%22round%22%2C%0A%20%20%22opacity%22%3A%201.0%2C%0A%20%20%22radius%22%3A%209.053080000000001%2C%0A%20%20%22stroke%22%3A%20true%2C%0A%20%20%22weight%22%3A%203%0A%7D%0A%20%20%20%20%20%20%20%20%20%20%20%20%20%20%20%20%29%0A%20%20%20%20%20%20%20%20%20%20%20%20%20%20%20%20.addTo%28map_06c78ff1e55844d183a6735723b95cfe%29%3B%0A%20%20%20%20%20%20%20%20%20%20%20%20%0A%20%20%20%20%0A%20%20%20%20%20%20%20%20%20%20%20%20var%20popup_0001ddd4e2cd44f9bb01b28c7115c608%20%3D%20L.popup%28%7BmaxWidth%3A%20%27100%25%27%0A%20%20%20%20%20%20%20%20%20%20%20%20%0A%20%20%20%20%20%20%20%20%20%20%20%20%7D%29%3B%0A%0A%20%20%20%20%20%20%20%20%20%20%20%20%0A%20%20%20%20%20%20%20%20%20%20%20%20%20%20%20%20var%20html_610ef60e22434988a6d210ecfa589ccf%20%3D%20%24%28%60%3Cdiv%20id%3D%22html_610ef60e22434988a6d210ecfa589ccf%22%20style%3D%22width%3A%20100.0%25%3B%20height%3A%20100.0%25%3B%22%3E%3Cstrong%3EState%3C/strong%3E%3A%20Pr%3Cbr%3E%3Cstrong%3ETotal%20Cases%3C/strong%3E%3A%20101327%3Cbr%3E%3C/div%3E%60%29%5B0%5D%3B%0A%20%20%20%20%20%20%20%20%20%20%20%20%20%20%20%20popup_0001ddd4e2cd44f9bb01b28c7115c608.setContent%28html_610ef60e22434988a6d210ecfa589ccf%29%3B%0A%20%20%20%20%20%20%20%20%20%20%20%20%0A%0A%20%20%20%20%20%20%20%20%20%20%20%20circle_marker_3b444d49557c4d65af5232cfdebb6566.bindPopup%28popup_0001ddd4e2cd44f9bb01b28c7115c608%29%0A%20%20%20%20%20%20%20%20%20%20%20%20%3B%0A%0A%20%20%20%20%20%20%20%20%20%20%20%20%0A%20%20%20%20%20%20%20%20%0A%20%20%20%20%0A%20%20%20%20%20%20%20%20%20%20%20%20var%20circle_marker_4260f731566548f8b845245fe2c6fef6%20%3D%20L.circleMarker%28%0A%20%20%20%20%20%20%20%20%20%20%20%20%20%20%20%20%5B41.580095%2C%20-71.477429%5D%2C%0A%20%20%20%20%20%20%20%20%20%20%20%20%20%20%20%20%7B%0A%20%20%22bubblingMouseEvents%22%3A%20true%2C%0A%20%20%22color%22%3A%20%22red%22%2C%0A%20%20%22dashArray%22%3A%20null%2C%0A%20%20%22dashOffset%22%3A%20null%2C%0A%20%20%22fill%22%3A%20true%2C%0A%20%20%22fillColor%22%3A%20%22red%22%2C%0A%20%20%22fillOpacity%22%3A%200.3%2C%0A%20%20%22fillRule%22%3A%20%22evenodd%22%2C%0A%20%20%22lineCap%22%3A%20%22round%22%2C%0A%20%20%22lineJoin%22%3A%20%22round%22%2C%0A%20%20%22opacity%22%3A%201.0%2C%0A%20%20%22radius%22%3A%2010.151240000000001%2C%0A%20%20%22stroke%22%3A%20true%2C%0A%20%20%22weight%22%3A%203%0A%7D%0A%20%20%20%20%20%20%20%20%20%20%20%20%20%20%20%20%29%0A%20%20%20%20%20%20%20%20%20%20%20%20%20%20%20%20.addTo%28map_06c78ff1e55844d183a6735723b95cfe%29%3B%0A%20%20%20%20%20%20%20%20%20%20%20%20%0A%20%20%20%20%0A%20%20%20%20%20%20%20%20%20%20%20%20var%20popup_0b2fa857ac684edd8cdadcf505fc2883%20%3D%20L.popup%28%7BmaxWidth%3A%20%27100%25%27%0A%20%20%20%20%20%20%20%20%20%20%20%20%0A%20%20%20%20%20%20%20%20%20%20%20%20%7D%29%3B%0A%0A%20%20%20%20%20%20%20%20%20%20%20%20%0A%20%20%20%20%20%20%20%20%20%20%20%20%20%20%20%20var%20html_fc20e7654177466b9e7f9efd2a7f6e0d%20%3D%20%24%28%60%3Cdiv%20id%3D%22html_fc20e7654177466b9e7f9efd2a7f6e0d%22%20style%3D%22width%3A%20100.0%25%3B%20height%3A%20100.0%25%3B%22%3E%3Cstrong%3EState%3C/strong%3E%3A%20Ri%3Cbr%3E%3Cstrong%3ETotal%20Cases%3C/strong%3E%3A%20128781%3Cbr%3E%3C/div%3E%60%29%5B0%5D%3B%0A%20%20%20%20%20%20%20%20%20%20%20%20%20%20%20%20popup_0b2fa857ac684edd8cdadcf505fc2883.setContent%28html_fc20e7654177466b9e7f9efd2a7f6e0d%29%3B%0A%20%20%20%20%20%20%20%20%20%20%20%20%0A%0A%20%20%20%20%20%20%20%20%20%20%20%20circle_marker_4260f731566548f8b845245fe2c6fef6.bindPopup%28popup_0b2fa857ac684edd8cdadcf505fc2883%29%0A%20%20%20%20%20%20%20%20%20%20%20%20%3B%0A%0A%20%20%20%20%20%20%20%20%20%20%20%20%0A%20%20%20%20%20%20%20%20%0A%20%20%20%20%0A%20%20%20%20%20%20%20%20%20%20%20%20var%20circle_marker_0aae57b77b304d23968ab257b84f28dd%20%3D%20L.circleMarker%28%0A%20%20%20%20%20%20%20%20%20%20%20%20%20%20%20%20%5B33.836081%2C%20-81.163725%5D%2C%0A%20%20%20%20%20%20%20%20%20%20%20%20%20%20%20%20%7B%0A%20%20%22bubblingMouseEvents%22%3A%20true%2C%0A%20%20%22color%22%3A%20%22red%22%2C%0A%20%20%22dashArray%22%3A%20null%2C%0A%20%20%22dashOffset%22%3A%20null%2C%0A%20%20%22fill%22%3A%20true%2C%0A%20%20%22fillColor%22%3A%20%22red%22%2C%0A%20%20%22fillOpacity%22%3A%200.3%2C%0A%20%20%22fillRule%22%3A%20%22evenodd%22%2C%0A%20%20%22lineCap%22%3A%20%22round%22%2C%0A%20%20%22lineJoin%22%3A%20%22round%22%2C%0A%20%20%22opacity%22%3A%201.0%2C%0A%20%20%22radius%22%3A%2026.0346%2C%0A%20%20%22stroke%22%3A%20true%2C%0A%20%20%22weight%22%3A%203%0A%7D%0A%20%20%20%20%20%20%20%20%20%20%20%20%20%20%20%20%29%0A%20%20%20%20%20%20%20%20%20%20%20%20%20%20%20%20.addTo%28map_06c78ff1e55844d183a6735723b95cfe%29%3B%0A%20%20%20%20%20%20%20%20%20%20%20%20%0A%20%20%20%20%0A%20%20%20%20%20%20%20%20%20%20%20%20var%20popup_20b78944611845e7a21fd11859a1eb65%20%3D%20L.popup%28%7BmaxWidth%3A%20%27100%25%27%0A%20%20%20%20%20%20%20%20%20%20%20%20%0A%20%20%20%20%20%20%20%20%20%20%20%20%7D%29%3B%0A%0A%20%20%20%20%20%20%20%20%20%20%20%20%0A%20%20%20%20%20%20%20%20%20%20%20%20%20%20%20%20var%20html_a0f8873b91fc4032b9126de4862ab436%20%3D%20%24%28%60%3Cdiv%20id%3D%22html_a0f8873b91fc4032b9126de4862ab436%22%20style%3D%22width%3A%20100.0%25%3B%20height%3A%20100.0%25%3B%22%3E%3Cstrong%3EState%3C/strong%3E%3A%20Sc%3Cbr%3E%3Cstrong%3ETotal%20Cases%3C/strong%3E%3A%20525865%3Cbr%3E%3C/div%3E%60%29%5B0%5D%3B%0A%20%20%20%20%20%20%20%20%20%20%20%20%20%20%20%20popup_20b78944611845e7a21fd11859a1eb65.setContent%28html_a0f8873b91fc4032b9126de4862ab436%29%3B%0A%20%20%20%20%20%20%20%20%20%20%20%20%0A%0A%20%20%20%20%20%20%20%20%20%20%20%20circle_marker_0aae57b77b304d23968ab257b84f28dd.bindPopup%28popup_20b78944611845e7a21fd11859a1eb65%29%0A%20%20%20%20%20%20%20%20%20%20%20%20%3B%0A%0A%20%20%20%20%20%20%20%20%20%20%20%20%0A%20%20%20%20%20%20%20%20%0A%20%20%20%20%0A%20%20%20%20%20%20%20%20%20%20%20%20var%20circle_marker_d3aa6ffcc9c344cb8fad10a7a1120a8f%20%3D%20L.circleMarker%28%0A%20%20%20%20%20%20%20%20%20%20%20%20%20%20%20%20%5B43.969515%2C%20-99.901813%5D%2C%0A%20%20%20%20%20%20%20%20%20%20%20%20%20%20%20%20%7B%0A%20%20%22bubblingMouseEvents%22%3A%20true%2C%0A%20%20%22color%22%3A%20%22red%22%2C%0A%20%20%22dashArray%22%3A%20null%2C%0A%20%20%22dashOffset%22%3A%20null%2C%0A%20%20%22fill%22%3A%20true%2C%0A%20%20%22fillColor%22%3A%20%22red%22%2C%0A%20%20%22fillOpacity%22%3A%200.3%2C%0A%20%20%22fillRule%22%3A%20%22evenodd%22%2C%0A%20%20%22lineCap%22%3A%20%22round%22%2C%0A%20%20%22lineJoin%22%3A%20%22round%22%2C%0A%20%20%22opacity%22%3A%201.0%2C%0A%20%20%22radius%22%3A%209.54356%2C%0A%20%20%22stroke%22%3A%20true%2C%0A%20%20%22weight%22%3A%203%0A%7D%0A%20%20%20%20%20%20%20%20%20%20%20%20%20%20%20%20%29%0A%20%20%20%20%20%20%20%20%20%20%20%20%20%20%20%20.addTo%28map_06c78ff1e55844d183a6735723b95cfe%29%3B%0A%20%20%20%20%20%20%20%20%20%20%20%20%0A%20%20%20%20%0A%20%20%20%20%20%20%20%20%20%20%20%20var%20popup_65126b9b0e2747ddb6ca6dc7b81cfa11%20%3D%20L.popup%28%7BmaxWidth%3A%20%27100%25%27%0A%20%20%20%20%20%20%20%20%20%20%20%20%0A%20%20%20%20%20%20%20%20%20%20%20%20%7D%29%3B%0A%0A%20%20%20%20%20%20%20%20%20%20%20%20%0A%20%20%20%20%20%20%20%20%20%20%20%20%20%20%20%20var%20html_a5688b044b354a1ca63d6191e5e69436%20%3D%20%24%28%60%3Cdiv%20id%3D%22html_a5688b044b354a1ca63d6191e5e69436%22%20style%3D%22width%3A%20100.0%25%3B%20height%3A%20100.0%25%3B%22%3E%3Cstrong%3EState%3C/strong%3E%3A%20Sd%3Cbr%3E%3Cstrong%3ETotal%20Cases%3C/strong%3E%3A%20113589%3Cbr%3E%3C/div%3E%60%29%5B0%5D%3B%0A%20%20%20%20%20%20%20%20%20%20%20%20%20%20%20%20popup_65126b9b0e2747ddb6ca6dc7b81cfa11.setContent%28html_a5688b044b354a1ca63d6191e5e69436%29%3B%0A%20%20%20%20%20%20%20%20%20%20%20%20%0A%0A%20%20%20%20%20%20%20%20%20%20%20%20circle_marker_d3aa6ffcc9c344cb8fad10a7a1120a8f.bindPopup%28popup_65126b9b0e2747ddb6ca6dc7b81cfa11%29%0A%20%20%20%20%20%20%20%20%20%20%20%20%3B%0A%0A%20%20%20%20%20%20%20%20%20%20%20%20%0A%20%20%20%20%20%20%20%20%0A%20%20%20%20%0A%20%20%20%20%20%20%20%20%20%20%20%20var%20circle_marker_582eb6b9abf947c09e0dba0d0b5b8523%20%3D%20L.circleMarker%28%0A%20%20%20%20%20%20%20%20%20%20%20%20%20%20%20%20%5B35.517491%2C%20-86.580447%5D%2C%0A%20%20%20%20%20%20%20%20%20%20%20%20%20%20%20%20%7B%0A%20%20%22bubblingMouseEvents%22%3A%20true%2C%0A%20%20%22color%22%3A%20%22red%22%2C%0A%20%20%22dashArray%22%3A%20null%2C%0A%20%20%22dashOffset%22%3A%20null%2C%0A%20%20%22fill%22%3A%20true%2C%0A%20%20%22fillColor%22%3A%20%22red%22%2C%0A%20%20%22fillOpacity%22%3A%200.3%2C%0A%20%20%22fillRule%22%3A%20%22evenodd%22%2C%0A%20%20%22lineCap%22%3A%20%22round%22%2C%0A%20%20%22lineJoin%22%3A%20%22round%22%2C%0A%20%20%22opacity%22%3A%201.0%2C%0A%20%20%22radius%22%3A%2036.28824%2C%0A%20%20%22stroke%22%3A%20true%2C%0A%20%20%22weight%22%3A%203%0A%7D%0A%20%20%20%20%20%20%20%20%20%20%20%20%20%20%20%20%29%0A%20%20%20%20%20%20%20%20%20%20%20%20%20%20%20%20.addTo%28map_06c78ff1e55844d183a6735723b95cfe%29%3B%0A%20%20%20%20%20%20%20%20%20%20%20%20%0A%20%20%20%20%0A%20%20%20%20%20%20%20%20%20%20%20%20var%20popup_71e1210a5c0c4b3dac09b6a3168db135%20%3D%20L.popup%28%7BmaxWidth%3A%20%27100%25%27%0A%20%20%20%20%20%20%20%20%20%20%20%20%0A%20%20%20%20%20%20%20%20%20%20%20%20%7D%29%3B%0A%0A%20%20%20%20%20%20%20%20%20%20%20%20%0A%20%20%20%20%20%20%20%20%20%20%20%20%20%20%20%20var%20html_30ac6c1f79c24e4e80abc6ba0c03d9bf%20%3D%20%24%28%60%3Cdiv%20id%3D%22html_30ac6c1f79c24e4e80abc6ba0c03d9bf%22%20style%3D%22width%3A%20100.0%25%3B%20height%3A%20100.0%25%3B%22%3E%3Cstrong%3EState%3C/strong%3E%3A%20Tn%3Cbr%3E%3Cstrong%3ETotal%20Cases%3C/strong%3E%3A%20782206%3Cbr%3E%3C/div%3E%60%29%5B0%5D%3B%0A%20%20%20%20%20%20%20%20%20%20%20%20%20%20%20%20popup_71e1210a5c0c4b3dac09b6a3168db135.setContent%28html_30ac6c1f79c24e4e80abc6ba0c03d9bf%29%3B%0A%20%20%20%20%20%20%20%20%20%20%20%20%0A%0A%20%20%20%20%20%20%20%20%20%20%20%20circle_marker_582eb6b9abf947c09e0dba0d0b5b8523.bindPopup%28popup_71e1210a5c0c4b3dac09b6a3168db135%29%0A%20%20%20%20%20%20%20%20%20%20%20%20%3B%0A%0A%20%20%20%20%20%20%20%20%20%20%20%20%0A%20%20%20%20%20%20%20%20%0A%20%20%20%20%0A%20%20%20%20%20%20%20%20%20%20%20%20var%20circle_marker_28371ce33b78402387dc2b6b4e3d3e21%20%3D%20L.circleMarker%28%0A%20%20%20%20%20%20%20%20%20%20%20%20%20%20%20%20%5B31.968599%2C%20-99.901813%5D%2C%0A%20%20%20%20%20%20%20%20%20%20%20%20%20%20%20%20%7B%0A%20%20%22bubblingMouseEvents%22%3A%20true%2C%0A%20%20%22color%22%3A%20%22red%22%2C%0A%20%20%22dashArray%22%3A%20null%2C%0A%20%20%22dashOffset%22%3A%20null%2C%0A%20%20%22fill%22%3A%20true%2C%0A%20%20%22fillColor%22%3A%20%22red%22%2C%0A%20%20%22fillOpacity%22%3A%200.3%2C%0A%20%20%22fillRule%22%3A%20%22evenodd%22%2C%0A%20%20%22lineCap%22%3A%20%22round%22%2C%0A%20%20%22lineJoin%22%3A%20%22round%22%2C%0A%20%20%22opacity%22%3A%201.0%2C%0A%20%20%22radius%22%3A%20112.47272000000001%2C%0A%20%20%22stroke%22%3A%20true%2C%0A%20%20%22weight%22%3A%203%0A%7D%0A%20%20%20%20%20%20%20%20%20%20%20%20%20%20%20%20%29%0A%20%20%20%20%20%20%20%20%20%20%20%20%20%20%20%20.addTo%28map_06c78ff1e55844d183a6735723b95cfe%29%3B%0A%20%20%20%20%20%20%20%20%20%20%20%20%0A%20%20%20%20%0A%20%20%20%20%20%20%20%20%20%20%20%20var%20popup_5d6605da0b254c6f92d32edb60e1c0fa%20%3D%20L.popup%28%7BmaxWidth%3A%20%27100%25%27%0A%20%20%20%20%20%20%20%20%20%20%20%20%0A%20%20%20%20%20%20%20%20%20%20%20%20%7D%29%3B%0A%0A%20%20%20%20%20%20%20%20%20%20%20%20%0A%20%20%20%20%20%20%20%20%20%20%20%20%20%20%20%20var%20html_2045fec4fbf243f6b6abb248e1152f8b%20%3D%20%24%28%60%3Cdiv%20id%3D%22html_2045fec4fbf243f6b6abb248e1152f8b%22%20style%3D%22width%3A%20100.0%25%3B%20height%3A%20100.0%25%3B%22%3E%3Cstrong%3EState%3C/strong%3E%3A%20Tx%3Cbr%3E%3Cstrong%3ETotal%20Cases%3C/strong%3E%3A%202686818%3Cbr%3E%3C/div%3E%60%29%5B0%5D%3B%0A%20%20%20%20%20%20%20%20%20%20%20%20%20%20%20%20popup_5d6605da0b254c6f92d32edb60e1c0fa.setContent%28html_2045fec4fbf243f6b6abb248e1152f8b%29%3B%0A%20%20%20%20%20%20%20%20%20%20%20%20%0A%0A%20%20%20%20%20%20%20%20%20%20%20%20circle_marker_28371ce33b78402387dc2b6b4e3d3e21.bindPopup%28popup_5d6605da0b254c6f92d32edb60e1c0fa%29%0A%20%20%20%20%20%20%20%20%20%20%20%20%3B%0A%0A%20%20%20%20%20%20%20%20%20%20%20%20%0A%20%20%20%20%20%20%20%20%0A%20%20%20%20%0A%20%20%20%20%20%20%20%20%20%20%20%20var%20circle_marker_b60048a90426424798ac455953aedd87%20%3D%20L.circleMarker%28%0A%20%20%20%20%20%20%20%20%20%20%20%20%20%20%20%20%5B39.32098%2C%20-111.093731%5D%2C%0A%20%20%20%20%20%20%20%20%20%20%20%20%20%20%20%20%7B%0A%20%20%22bubblingMouseEvents%22%3A%20true%2C%0A%20%20%22color%22%3A%20%22red%22%2C%0A%20%20%22dashArray%22%3A%20null%2C%0A%20%20%22dashOffset%22%3A%20null%2C%0A%20%20%22fill%22%3A%20true%2C%0A%20%20%22fillColor%22%3A%20%22red%22%2C%0A%20%20%22fillOpacity%22%3A%200.3%2C%0A%20%20%22fillRule%22%3A%20%22evenodd%22%2C%0A%20%20%22lineCap%22%3A%20%22round%22%2C%0A%20%20%22lineJoin%22%3A%20%22round%22%2C%0A%20%20%22opacity%22%3A%201.0%2C%0A%20%20%22radius%22%3A%2019.994%2C%0A%20%20%22stroke%22%3A%20true%2C%0A%20%20%22weight%22%3A%203%0A%7D%0A%20%20%20%20%20%20%20%20%20%20%20%20%20%20%20%20%29%0A%20%20%20%20%20%20%20%20%20%20%20%20%20%20%20%20.addTo%28map_06c78ff1e55844d183a6735723b95cfe%29%3B%0A%20%20%20%20%20%20%20%20%20%20%20%20%0A%20%20%20%20%0A%20%20%20%20%20%20%20%20%20%20%20%20var%20popup_9142767e74974184b3808a156d573d82%20%3D%20L.popup%28%7BmaxWidth%3A%20%27100%25%27%0A%20%20%20%20%20%20%20%20%20%20%20%20%0A%20%20%20%20%20%20%20%20%20%20%20%20%7D%29%3B%0A%0A%20%20%20%20%20%20%20%20%20%20%20%20%0A%20%20%20%20%20%20%20%20%20%20%20%20%20%20%20%20var%20html_3ad7797a11ee4ef59e3591df1e275ad5%20%3D%20%24%28%60%3Cdiv%20id%3D%22html_3ad7797a11ee4ef59e3591df1e275ad5%22%20style%3D%22width%3A%20100.0%25%3B%20height%3A%20100.0%25%3B%22%3E%3Cstrong%3EState%3C/strong%3E%3A%20Ut%3Cbr%3E%3Cstrong%3ETotal%20Cases%3C/strong%3E%3A%20374850%3Cbr%3E%3C/div%3E%60%29%5B0%5D%3B%0A%20%20%20%20%20%20%20%20%20%20%20%20%20%20%20%20popup_9142767e74974184b3808a156d573d82.setContent%28html_3ad7797a11ee4ef59e3591df1e275ad5%29%3B%0A%20%20%20%20%20%20%20%20%20%20%20%20%0A%0A%20%20%20%20%20%20%20%20%20%20%20%20circle_marker_b60048a90426424798ac455953aedd87.bindPopup%28popup_9142767e74974184b3808a156d573d82%29%0A%20%20%20%20%20%20%20%20%20%20%20%20%3B%0A%0A%20%20%20%20%20%20%20%20%20%20%20%20%0A%20%20%20%20%20%20%20%20%0A%20%20%20%20%0A%20%20%20%20%20%20%20%20%20%20%20%20var%20circle_marker_23ff138a698641cf83ce341abfbba4ba%20%3D%20L.circleMarker%28%0A%20%20%20%20%20%20%20%20%20%20%20%20%20%20%20%20%5B37.431573%2C%20-78.656894%5D%2C%0A%20%20%20%20%20%20%20%20%20%20%20%20%20%20%20%20%7B%0A%20%20%22bubblingMouseEvents%22%3A%20true%2C%0A%20%20%22color%22%3A%20%22red%22%2C%0A%20%20%22dashArray%22%3A%20null%2C%0A%20%20%22dashOffset%22%3A%20null%2C%0A%20%20%22fill%22%3A%20true%2C%0A%20%20%22fillColor%22%3A%20%22red%22%2C%0A%20%20%22fillOpacity%22%3A%200.3%2C%0A%20%20%22fillRule%22%3A%20%22evenodd%22%2C%0A%20%20%22lineCap%22%3A%20%22round%22%2C%0A%20%20%22lineJoin%22%3A%20%22round%22%2C%0A%20%20%22opacity%22%3A%201.0%2C%0A%20%20%22radius%22%3A%2028.428%2C%0A%20%20%22stroke%22%3A%20true%2C%0A%20%20%22weight%22%3A%203%0A%7D%0A%20%20%20%20%20%20%20%20%20%20%20%20%20%20%20%20%29%0A%20%20%20%20%20%20%20%20%20%20%20%20%20%20%20%20.addTo%28map_06c78ff1e55844d183a6735723b95cfe%29%3B%0A%20%20%20%20%20%20%20%20%20%20%20%20%0A%20%20%20%20%0A%20%20%20%20%20%20%20%20%20%20%20%20var%20popup_0cfb6438067748179510b2f42d095f40%20%3D%20L.popup%28%7BmaxWidth%3A%20%27100%25%27%0A%20%20%20%20%20%20%20%20%20%20%20%20%0A%20%20%20%20%20%20%20%20%20%20%20%20%7D%29%3B%0A%0A%20%20%20%20%20%20%20%20%20%20%20%20%0A%20%20%20%20%20%20%20%20%20%20%20%20%20%20%20%20var%20html_d8cce580341342c0a6af847834514396%20%3D%20%24%28%60%3Cdiv%20id%3D%22html_d8cce580341342c0a6af847834514396%22%20style%3D%22width%3A%20100.0%25%3B%20height%3A%20100.0%25%3B%22%3E%3Cstrong%3EState%3C/strong%3E%3A%20Va%3Cbr%3E%3Cstrong%3ETotal%20Cases%3C/strong%3E%3A%20585700%3Cbr%3E%3C/div%3E%60%29%5B0%5D%3B%0A%20%20%20%20%20%20%20%20%20%20%20%20%20%20%20%20popup_0cfb6438067748179510b2f42d095f40.setContent%28html_d8cce580341342c0a6af847834514396%29%3B%0A%20%20%20%20%20%20%20%20%20%20%20%20%0A%0A%20%20%20%20%20%20%20%20%20%20%20%20circle_marker_23ff138a698641cf83ce341abfbba4ba.bindPopup%28popup_0cfb6438067748179510b2f42d095f40%29%0A%20%20%20%20%20%20%20%20%20%20%20%20%3B%0A%0A%20%20%20%20%20%20%20%20%20%20%20%20%0A%20%20%20%20%20%20%20%20%0A%20%20%20%20%0A%20%20%20%20%20%20%20%20%20%20%20%20var%20circle_marker_c7c383cf780e49f5a494b3128a464fb8%20%3D%20L.circleMarker%28%0A%20%20%20%20%20%20%20%20%20%20%20%20%20%20%20%20%5B44.558803%2C%20-72.577841%5D%2C%0A%20%20%20%20%20%20%20%20%20%20%20%20%20%20%20%20%7B%0A%20%20%22bubblingMouseEvents%22%3A%20true%2C%0A%20%20%22color%22%3A%20%22red%22%2C%0A%20%20%22dashArray%22%3A%20null%2C%0A%20%20%22dashOffset%22%3A%20null%2C%0A%20%20%22fill%22%3A%20true%2C%0A%20%20%22fillColor%22%3A%20%22red%22%2C%0A%20%20%22fillOpacity%22%3A%200.3%2C%0A%20%20%22fillRule%22%3A%20%22evenodd%22%2C%0A%20%20%22lineCap%22%3A%20%22round%22%2C%0A%20%20%22lineJoin%22%3A%20%22round%22%2C%0A%20%20%22opacity%22%3A%201.0%2C%0A%20%20%22radius%22%3A%205.64332%2C%0A%20%20%22stroke%22%3A%20true%2C%0A%20%20%22weight%22%3A%203%0A%7D%0A%20%20%20%20%20%20%20%20%20%20%20%20%20%20%20%20%29%0A%20%20%20%20%20%20%20%20%20%20%20%20%20%20%20%20.addTo%28map_06c78ff1e55844d183a6735723b95cfe%29%3B%0A%20%20%20%20%20%20%20%20%20%20%20%20%0A%20%20%20%20%0A%20%20%20%20%20%20%20%20%20%20%20%20var%20popup_40f8d73a01ad41faaa3c7025da04e8e6%20%3D%20L.popup%28%7BmaxWidth%3A%20%27100%25%27%0A%20%20%20%20%20%20%20%20%20%20%20%20%0A%20%20%20%20%20%20%20%20%20%20%20%20%7D%29%3B%0A%0A%20%20%20%20%20%20%20%20%20%20%20%20%0A%20%20%20%20%20%20%20%20%20%20%20%20%20%20%20%20var%20html_9a5e242c222c45f690b2f1edf0a59293%20%3D%20%24%28%60%3Cdiv%20id%3D%22html_9a5e242c222c45f690b2f1edf0a59293%22%20style%3D%22width%3A%20100.0%25%3B%20height%3A%20100.0%25%3B%22%3E%3Cstrong%3EState%3C/strong%3E%3A%20Vt%3Cbr%3E%3Cstrong%3ETotal%20Cases%3C/strong%3E%3A%2016083%3Cbr%3E%3C/div%3E%60%29%5B0%5D%3B%0A%20%20%20%20%20%20%20%20%20%20%20%20%20%20%20%20popup_40f8d73a01ad41faaa3c7025da04e8e6.setContent%28html_9a5e242c222c45f690b2f1edf0a59293%29%3B%0A%20%20%20%20%20%20%20%20%20%20%20%20%0A%0A%20%20%20%20%20%20%20%20%20%20%20%20circle_marker_c7c383cf780e49f5a494b3128a464fb8.bindPopup%28popup_40f8d73a01ad41faaa3c7025da04e8e6%29%0A%20%20%20%20%20%20%20%20%20%20%20%20%3B%0A%0A%20%20%20%20%20%20%20%20%20%20%20%20%0A%20%20%20%20%20%20%20%20%0A%20%20%20%20%0A%20%20%20%20%20%20%20%20%20%20%20%20var%20circle_marker_dfd510d9c18e466781c640603cb596ca%20%3D%20L.circleMarker%28%0A%20%20%20%20%20%20%20%20%20%20%20%20%20%20%20%20%5B47.751074%2C%20-120.740139%5D%2C%0A%20%20%20%20%20%20%20%20%20%20%20%20%20%20%20%20%7B%0A%20%20%22bubblingMouseEvents%22%3A%20true%2C%0A%20%20%22color%22%3A%20%22red%22%2C%0A%20%20%22dashArray%22%3A%20null%2C%0A%20%20%22dashOffset%22%3A%20null%2C%0A%20%20%22fill%22%3A%20true%2C%0A%20%20%22fillColor%22%3A%20%22red%22%2C%0A%20%20%22fillOpacity%22%3A%200.3%2C%0A%20%20%22fillRule%22%3A%20%22evenodd%22%2C%0A%20%20%22lineCap%22%3A%20%22round%22%2C%0A%20%20%22lineJoin%22%3A%20%22round%22%2C%0A%20%20%22opacity%22%3A%201.0%2C%0A%20%20%22radius%22%3A%2018.781280000000002%2C%0A%20%20%22stroke%22%3A%20true%2C%0A%20%20%22weight%22%3A%203%0A%7D%0A%20%20%20%20%20%20%20%20%20%20%20%20%20%20%20%20%29%0A%20%20%20%20%20%20%20%20%20%20%20%20%20%20%20%20.addTo%28map_06c78ff1e55844d183a6735723b95cfe%29%3B%0A%20%20%20%20%20%20%20%20%20%20%20%20%0A%20%20%20%20%0A%20%20%20%20%20%20%20%20%20%20%20%20var%20popup_d5e48dd8d3df4a1ea6a9f82b8ffede7f%20%3D%20L.popup%28%7BmaxWidth%3A%20%27100%25%27%0A%20%20%20%20%20%20%20%20%20%20%20%20%0A%20%20%20%20%20%20%20%20%20%20%20%20%7D%29%3B%0A%0A%20%20%20%20%20%20%20%20%20%20%20%20%0A%20%20%20%20%20%20%20%20%20%20%20%20%20%20%20%20var%20html_6b44f2fbe90f4494949bd78e29f9b5f8%20%3D%20%24%28%60%3Cdiv%20id%3D%22html_6b44f2fbe90f4494949bd78e29f9b5f8%22%20style%3D%22width%3A%20100.0%25%3B%20height%3A%20100.0%25%3B%22%3E%3Cstrong%3EState%3C/strong%3E%3A%20Wa%3Cbr%3E%3Cstrong%3ETotal%20Cases%3C/strong%3E%3A%20344532%3Cbr%3E%3C/div%3E%60%29%5B0%5D%3B%0A%20%20%20%20%20%20%20%20%20%20%20%20%20%20%20%20popup_d5e48dd8d3df4a1ea6a9f82b8ffede7f.setContent%28html_6b44f2fbe90f4494949bd78e29f9b5f8%29%3B%0A%20%20%20%20%20%20%20%20%20%20%20%20%0A%0A%20%20%20%20%20%20%20%20%20%20%20%20circle_marker_dfd510d9c18e466781c640603cb596ca.bindPopup%28popup_d5e48dd8d3df4a1ea6a9f82b8ffede7f%29%0A%20%20%20%20%20%20%20%20%20%20%20%20%3B%0A%0A%20%20%20%20%20%20%20%20%20%20%20%20%0A%20%20%20%20%20%20%20%20%0A%20%20%20%20%0A%20%20%20%20%20%20%20%20%20%20%20%20var%20circle_marker_b99f7641d8e64fd7ad571ef6ef7db1d3%20%3D%20L.circleMarker%28%0A%20%20%20%20%20%20%20%20%20%20%20%20%20%20%20%20%5B43.78444%2C%20-88.787868%5D%2C%0A%20%20%20%20%20%20%20%20%20%20%20%20%20%20%20%20%7B%0A%20%20%22bubblingMouseEvents%22%3A%20true%2C%0A%20%20%22color%22%3A%20%22red%22%2C%0A%20%20%22dashArray%22%3A%20null%2C%0A%20%20%22dashOffset%22%3A%20null%2C%0A%20%20%22fill%22%3A%20true%2C%0A%20%20%22fillColor%22%3A%20%22red%22%2C%0A%20%20%22fillOpacity%22%3A%200.3%2C%0A%20%20%22fillRule%22%3A%20%22evenodd%22%2C%0A%20%20%22lineCap%22%3A%20%22round%22%2C%0A%20%20%22lineJoin%22%3A%20%22round%22%2C%0A%20%20%22opacity%22%3A%201.0%2C%0A%20%20%22radius%22%3A%2029.86616%2C%0A%20%20%22stroke%22%3A%20true%2C%0A%20%20%22weight%22%3A%203%0A%7D%0A%20%20%20%20%20%20%20%20%20%20%20%20%20%20%20%20%29%0A%20%20%20%20%20%20%20%20%20%20%20%20%20%20%20%20.addTo%28map_06c78ff1e55844d183a6735723b95cfe%29%3B%0A%20%20%20%20%20%20%20%20%20%20%20%20%0A%20%20%20%20%0A%20%20%20%20%20%20%20%20%20%20%20%20var%20popup_37baffe8012749d1a28aebdf487ba9ab%20%3D%20L.popup%28%7BmaxWidth%3A%20%27100%25%27%0A%20%20%20%20%20%20%20%20%20%20%20%20%0A%20%20%20%20%20%20%20%20%20%20%20%20%7D%29%3B%0A%0A%20%20%20%20%20%20%20%20%20%20%20%20%0A%20%20%20%20%20%20%20%20%20%20%20%20%20%20%20%20var%20html_f55c9cea2f5940c1b5371a1ff62fc545%20%3D%20%24%28%60%3Cdiv%20id%3D%22html_f55c9cea2f5940c1b5371a1ff62fc545%22%20style%3D%22width%3A%20100.0%25%3B%20height%3A%20100.0%25%3B%22%3E%3Cstrong%3EState%3C/strong%3E%3A%20Wi%3Cbr%3E%3Cstrong%3ETotal%20Cases%3C/strong%3E%3A%20621654%3Cbr%3E%3C/div%3E%60%29%5B0%5D%3B%0A%20%20%20%20%20%20%20%20%20%20%20%20%20%20%20%20popup_37baffe8012749d1a28aebdf487ba9ab.setContent%28html_f55c9cea2f5940c1b5371a1ff62fc545%29%3B%0A%20%20%20%20%20%20%20%20%20%20%20%20%0A%0A%20%20%20%20%20%20%20%20%20%20%20%20circle_marker_b99f7641d8e64fd7ad571ef6ef7db1d3.bindPopup%28popup_37baffe8012749d1a28aebdf487ba9ab%29%0A%20%20%20%20%20%20%20%20%20%20%20%20%3B%0A%0A%20%20%20%20%20%20%20%20%20%20%20%20%0A%20%20%20%20%20%20%20%20%0A%20%20%20%20%0A%20%20%20%20%20%20%20%20%20%20%20%20var%20circle_marker_e38e3be844cc40f3a1dee80202ddf23a%20%3D%20L.circleMarker%28%0A%20%20%20%20%20%20%20%20%20%20%20%20%20%20%20%20%5B38.597626%2C%20-80.454903%5D%2C%0A%20%20%20%20%20%20%20%20%20%20%20%20%20%20%20%20%7B%0A%20%20%22bubblingMouseEvents%22%3A%20true%2C%0A%20%20%22color%22%3A%20%22red%22%2C%0A%20%20%22dashArray%22%3A%20null%2C%0A%20%20%22dashOffset%22%3A%20null%2C%0A%20%20%22fill%22%3A%20true%2C%0A%20%20%22fillColor%22%3A%20%22red%22%2C%0A%20%20%22fillOpacity%22%3A%200.3%2C%0A%20%20%22fillRule%22%3A%20%22evenodd%22%2C%0A%20%20%22lineCap%22%3A%20%22round%22%2C%0A%20%20%22lineJoin%22%3A%20%22round%22%2C%0A%20%20%22opacity%22%3A%201.0%2C%0A%20%20%22radius%22%3A%2010.337800000000001%2C%0A%20%20%22stroke%22%3A%20true%2C%0A%20%20%22weight%22%3A%203%0A%7D%0A%20%20%20%20%20%20%20%20%20%20%20%20%20%20%20%20%29%0A%20%20%20%20%20%20%20%20%20%20%20%20%20%20%20%20.addTo%28map_06c78ff1e55844d183a6735723b95cfe%29%3B%0A%20%20%20%20%20%20%20%20%20%20%20%20%0A%20%20%20%20%0A%20%20%20%20%20%20%20%20%20%20%20%20var%20popup_356725ddf9fc4d68a41e84ea8756511b%20%3D%20L.popup%28%7BmaxWidth%3A%20%27100%25%27%0A%20%20%20%20%20%20%20%20%20%20%20%20%0A%20%20%20%20%20%20%20%20%20%20%20%20%7D%29%3B%0A%0A%20%20%20%20%20%20%20%20%20%20%20%20%0A%20%20%20%20%20%20%20%20%20%20%20%20%20%20%20%20var%20html_a587c049dac642ea876640113801a272%20%3D%20%24%28%60%3Cdiv%20id%3D%22html_a587c049dac642ea876640113801a272%22%20style%3D%22width%3A%20100.0%25%3B%20height%3A%20100.0%25%3B%22%3E%3Cstrong%3EState%3C/strong%3E%3A%20Wv%3Cbr%3E%3Cstrong%3ETotal%20Cases%3C/strong%3E%3A%20133445%3Cbr%3E%3C/div%3E%60%29%5B0%5D%3B%0A%20%20%20%20%20%20%20%20%20%20%20%20%20%20%20%20popup_356725ddf9fc4d68a41e84ea8756511b.setContent%28html_a587c049dac642ea876640113801a272%29%3B%0A%20%20%20%20%20%20%20%20%20%20%20%20%0A%0A%20%20%20%20%20%20%20%20%20%20%20%20circle_marker_e38e3be844cc40f3a1dee80202ddf23a.bindPopup%28popup_356725ddf9fc4d68a41e84ea8756511b%29%0A%20%20%20%20%20%20%20%20%20%20%20%20%3B%0A%0A%20%20%20%20%20%20%20%20%20%20%20%20%0A%20%20%20%20%20%20%20%20%0A%20%20%20%20%0A%20%20%20%20%20%20%20%20%20%20%20%20var%20circle_marker_b2dbca8905dc48449377a32bb349646a%20%3D%20L.circleMarker%28%0A%20%20%20%20%20%20%20%20%20%20%20%20%20%20%20%20%5B43.075968%2C%20-107.290284%5D%2C%0A%20%20%20%20%20%20%20%20%20%20%20%20%20%20%20%20%7B%0A%20%20%22bubblingMouseEvents%22%3A%20true%2C%0A%20%20%22color%22%3A%20%22red%22%2C%0A%20%20%22dashArray%22%3A%20null%2C%0A%20%20%22dashOffset%22%3A%20null%2C%0A%20%20%22fill%22%3A%20true%2C%0A%20%20%22fillColor%22%3A%20%22red%22%2C%0A%20%20%22fillOpacity%22%3A%200.3%2C%0A%20%20%22fillRule%22%3A%20%22evenodd%22%2C%0A%20%20%22lineCap%22%3A%20%22round%22%2C%0A%20%20%22lineJoin%22%3A%20%22round%22%2C%0A%20%20%22opacity%22%3A%201.0%2C%0A%20%20%22radius%22%3A%207.19056%2C%0A%20%20%22stroke%22%3A%20true%2C%0A%20%20%22weight%22%3A%203%0A%7D%0A%20%20%20%20%20%20%20%20%20%20%20%20%20%20%20%20%29%0A%20%20%20%20%20%20%20%20%20%20%20%20%20%20%20%20.addTo%28map_06c78ff1e55844d183a6735723b95cfe%29%3B%0A%20%20%20%20%20%20%20%20%20%20%20%20%0A%20%20%20%20%0A%20%20%20%20%20%20%20%20%20%20%20%20var%20popup_0f5989a4ceff40a4a4564409b494d771%20%3D%20L.popup%28%7BmaxWidth%3A%20%27100%25%27%0A%20%20%20%20%20%20%20%20%20%20%20%20%0A%20%20%20%20%20%20%20%20%20%20%20%20%7D%29%3B%0A%0A%20%20%20%20%20%20%20%20%20%20%20%20%0A%20%20%20%20%20%20%20%20%20%20%20%20%20%20%20%20var%20html_9030099799f548b689cd417af76ccc7e%20%3D%20%24%28%60%3Cdiv%20id%3D%22html_9030099799f548b689cd417af76ccc7e%22%20style%3D%22width%3A%20100.0%25%3B%20height%3A%20100.0%25%3B%22%3E%3Cstrong%3EState%3C/strong%3E%3A%20Wy%3Cbr%3E%3Cstrong%3ETotal%20Cases%3C/strong%3E%3A%2054764%3Cbr%3E%3C/div%3E%60%29%5B0%5D%3B%0A%20%20%20%20%20%20%20%20%20%20%20%20%20%20%20%20popup_0f5989a4ceff40a4a4564409b494d771.setContent%28html_9030099799f548b689cd417af76ccc7e%29%3B%0A%20%20%20%20%20%20%20%20%20%20%20%20%0A%0A%20%20%20%20%20%20%20%20%20%20%20%20circle_marker_b2dbca8905dc48449377a32bb349646a.bindPopup%28popup_0f5989a4ceff40a4a4564409b494d771%29%0A%20%20%20%20%20%20%20%20%20%20%20%20%3B%0A%0A%20%20%20%20%20%20%20%20%20%20%20%20%0A%20%20%20%20%20%20%20%20%0A%3C/script%3E onload=\"this.contentDocument.open();this.contentDocument.write(    decodeURIComponent(this.getAttribute('data-html')));this.contentDocument.close();\" allowfullscreen webkitallowfullscreen mozallowfullscreen></iframe></div></div>"
            ],
            "text/plain": [
              "<folium.folium.Map at 0x7f8951465290>"
            ]
          },
          "metadata": {
            "tags": []
          },
          "execution_count": 10
        }
      ]
    },
    {
      "cell_type": "markdown",
      "metadata": {
        "id": "bl6V3wPkdhFE"
      },
      "source": [
        "## 1.5 Confirmed vs Recovered figures"
      ]
    },
    {
      "cell_type": "code",
      "metadata": {
        "_kg_hide-input": true,
        "_kg_hide-output": false,
        "id": "yBavZ1TndhFG",
        "colab": {
          "base_uri": "https://localhost:8080/",
          "height": 823
        },
        "outputId": "ccab895e-6d9e-4de4-ca4d-1da1dd472114"
      },
      "source": [
        "f, ax = plt.subplots(figsize=(18, 14))\n",
        "data = df_full[['state','positive','recovered','death']]\n",
        "data.sort_values('positive',ascending=False,inplace=True)\n",
        "sns.set_color_codes(\"pastel\")\n",
        "sns.barplot(x=\"positive\", y=\"state\", data=data,label=\"Total\", color=\"r\")\n",
        "\n",
        "sns.set_color_codes(\"muted\")\n",
        "sns.barplot(x=\"recovered\", y=\"state\", data=data, label=\"Cured\", color=\"g\")\n",
        "\n",
        "ax.legend(ncol=2, loc=\"lower right\", frameon=True)\n",
        "ax.set(xlim=(0, 4000000), ylabel=\"\",xlabel=\"Cases\")\n",
        "sns.despine(left=True, bottom=True)"
      ],
      "execution_count": null,
      "outputs": [
        {
          "output_type": "display_data",
          "data": {
            "image/png": "[encoded data removed]",
            "text/plain": [
              "<Figure size 1296x1008 with 1 Axes>"
            ]
          },
          "metadata": {
            "tags": [],
            "needs_background": "light"
          }
        }
      ]
    },
    {
      "cell_type": "markdown",
      "metadata": {
        "id": "8cj9ugfEdhFL"
      },
      "source": [
        "## 1.6 How the Coronavirus cases are rising?"
      ]
    },
    {
      "cell_type": "code",
      "metadata": {
        "id": "ee1EkgweFR3i"
      },
      "source": [
        "#This cell's code is required when you are working with plotly on colab\n",
        "import plotly\n",
        "plotly.io.renderers.default = 'colab'\n",
        "dbd_US = pd.read_csv('national-history.csv')"
      ],
      "execution_count": null,
      "outputs": []
    },
    {
      "cell_type": "code",
      "metadata": {
        "colab": {
          "base_uri": "https://localhost:8080/",
          "height": 213
        },
        "id": "qA26GtrFVVUj",
        "outputId": "3d91a727-e886-42fd-a3bd-8c34d7cae9df"
      },
      "source": [
        "dbd_US.head(3)"
      ],
      "execution_count": null,
      "outputs": [
        {
          "output_type": "execute_result",
          "data": {
            "text/html": [
              "<div>\n",
              "<style scoped>\n",
              "    .dataframe tbody tr th:only-of-type {\n",
              "        vertical-align: middle;\n",
              "    }\n",
              "\n",
              "    .dataframe tbody tr th {\n",
              "        vertical-align: top;\n",
              "    }\n",
              "\n",
              "    .dataframe thead th {\n",
              "        text-align: right;\n",
              "    }\n",
              "</style>\n",
              "<table border=\"1\" class=\"dataframe\">\n",
              "  <thead>\n",
              "    <tr style=\"text-align: right;\">\n",
              "      <th></th>\n",
              "      <th>date</th>\n",
              "      <th>death</th>\n",
              "      <th>deathIncrease</th>\n",
              "      <th>inIcuCumulative</th>\n",
              "      <th>inIcuCurrently</th>\n",
              "      <th>hospitalizedIncrease</th>\n",
              "      <th>hospitalizedCurrently</th>\n",
              "      <th>hospitalizedCumulative</th>\n",
              "      <th>negative</th>\n",
              "      <th>negativeIncrease</th>\n",
              "      <th>onVentilatorCumulative</th>\n",
              "      <th>onVentilatorCurrently</th>\n",
              "      <th>positive</th>\n",
              "      <th>positiveIncrease</th>\n",
              "      <th>states</th>\n",
              "      <th>totalTestResults</th>\n",
              "      <th>totalTestResultsIncrease</th>\n",
              "    </tr>\n",
              "  </thead>\n",
              "  <tbody>\n",
              "    <tr>\n",
              "      <th>0</th>\n",
              "      <td>2021-03-01</td>\n",
              "      <td>504488.0</td>\n",
              "      <td>1241</td>\n",
              "      <td>44956.0</td>\n",
              "      <td>9595.0</td>\n",
              "      <td>1024</td>\n",
              "      <td>46738.0</td>\n",
              "      <td>869030.0</td>\n",
              "      <td>116726735.0</td>\n",
              "      <td>312729</td>\n",
              "      <td>4252.0</td>\n",
              "      <td>3171.0</td>\n",
              "      <td>28399281.0</td>\n",
              "      <td>48092</td>\n",
              "      <td>56</td>\n",
              "      <td>355718749</td>\n",
              "      <td>1224297</td>\n",
              "    </tr>\n",
              "    <tr>\n",
              "      <th>1</th>\n",
              "      <td>2021-02-28</td>\n",
              "      <td>503247.0</td>\n",
              "      <td>1051</td>\n",
              "      <td>44907.0</td>\n",
              "      <td>9802.0</td>\n",
              "      <td>879</td>\n",
              "      <td>47352.0</td>\n",
              "      <td>868006.0</td>\n",
              "      <td>116414006.0</td>\n",
              "      <td>293739</td>\n",
              "      <td>4252.0</td>\n",
              "      <td>3245.0</td>\n",
              "      <td>28351189.0</td>\n",
              "      <td>54349</td>\n",
              "      <td>56</td>\n",
              "      <td>354494452</td>\n",
              "      <td>1361442</td>\n",
              "    </tr>\n",
              "    <tr>\n",
              "      <th>2</th>\n",
              "      <td>2021-02-27</td>\n",
              "      <td>502196.0</td>\n",
              "      <td>1847</td>\n",
              "      <td>44875.0</td>\n",
              "      <td>10114.0</td>\n",
              "      <td>1428</td>\n",
              "      <td>48871.0</td>\n",
              "      <td>867127.0</td>\n",
              "      <td>116120267.0</td>\n",
              "      <td>407753</td>\n",
              "      <td>4252.0</td>\n",
              "      <td>3335.0</td>\n",
              "      <td>28296840.0</td>\n",
              "      <td>71245</td>\n",
              "      <td>56</td>\n",
              "      <td>353133010</td>\n",
              "      <td>1670548</td>\n",
              "    </tr>\n",
              "  </tbody>\n",
              "</table>\n",
              "</div>"
            ],
            "text/plain": [
              "         date     death  ...  totalTestResults  totalTestResultsIncrease\n",
              "0  2021-03-01  504488.0  ...         355718749                   1224297\n",
              "1  2021-02-28  503247.0  ...         354494452                   1361442\n",
              "2  2021-02-27  502196.0  ...         353133010                   1670548\n",
              "\n",
              "[3 rows x 17 columns]"
            ]
          },
          "metadata": {
            "tags": []
          },
          "execution_count": 12
        }
      ]
    },
    {
      "cell_type": "code",
      "metadata": {
        "_kg_hide-input": true,
        "_kg_hide-output": false,
        "id": "sAu20QbRdhFO",
        "colab": {
          "base_uri": "https://localhost:8080/",
          "height": 942
        },
        "outputId": "0aedc9b6-34a5-4d1e-86e0-2ff72c1769c1"
      },
      "source": [
        "fig = go.Figure()\n",
        "fig.add_trace(go.Scatter(x=dbd_US['date'], y = dbd_US['positive'], mode='lines+markers',name='Total Cases'))\n",
        "fig.update_layout(title_text='Trend of Coronavirus Cases in USA (Cumulative cases)',plot_bgcolor='rgb(230, 230, 230)')\n",
        "fig.show()\n",
        "\n",
        "import plotly.express as px\n",
        "fig = px.bar(dbd_US, x=\"date\", y=\"positiveIncrease\", barmode='group', height=400)\n",
        "fig.update_layout(title_text='Coronavirus Cases in USA on daily basis',plot_bgcolor='rgb(230, 230, 230)')\n",
        "\n",
        "fig.show()"
      ],
      "execution_count": null,
      "outputs": [
        {
          "output_type": "display_data",
          "data": {
            "text/html": [
              "<html>\n",
              "<head><meta charset=\"utf-8\" /></head>\n",
              "<body>\n",
              "    <div>\n",
              "            <script src=\"https://cdnjs.cloudflare.com/ajax/libs/mathjax/2.7.5/MathJax.js?config=TeX-AMS-MML_SVG\"></script><script type=\"text/javascript\">if (window.MathJax) {MathJax.Hub.Config({SVG: {font: \"STIX-Web\"}});}</script>\n",
              "                <script type=\"text/javascript\">window.PlotlyConfig = {MathJaxConfig: 'local'};</script>\n",
              "        <script src=\"https://cdn.plot.ly/plotly-latest.min.js\"></script>    \n",
              "            <div id=\"cc2ae7d8-e736-4a69-933a-d22818cda686\" class=\"plotly-graph-div\" style=\"height:525px; width:100%;\"></div>\n",
              "            <script type=\"text/javascript\">\n",
              "                \n",
              "                    window.PLOTLYENV=window.PLOTLYENV || {};\n",
              "                    \n",
              "                if (document.getElementById(\"cc2ae7d8-e736-4a69-933a-d22818cda686\")) {\n",
              "                    Plotly.newPlot(\n",
              "                        'cc2ae7d8-e736-4a69-933a-d22818cda686',\n",
              "                        [{\"mode\": \"lines+markers\", \"name\": \"Total Cases\", \"type\": \"scatter\", \"x\": [\"2021-03-01\", \"2021-02-28\", \"2021-02-27\", \"2021-02-26\", \"2021-02-25\", \"2021-02-24\", \"2021-02-23\", \"2021-02-22\", \"2021-02-21\", \"2021-02-20\", \"2021-02-19\", \"2021-02-18\", \"2021-02-17\", \"2021-02-16\", \"2021-02-15\", \"2021-02-14\", \"2021-02-13\", \"2021-02-12\", \"2021-02-11\", \"2021-02-10\", \"2021-02-09\", \"2021-02-08\", \"2021-02-07\", \"2021-02-06\", \"2021-02-05\", \"2021-02-04\", \"2021-02-03\", \"2021-02-02\", \"2021-02-01\", \"2021-01-31\", \"2021-01-30\", \"2021-01-29\", \"2021-01-28\", \"2021-01-27\", \"2021-01-26\", \"2021-01-25\", \"2021-01-24\", \"2021-01-23\", \"2021-01-22\", \"2021-01-21\", \"2021-01-20\", \"2021-01-19\", \"2021-01-18\", \"2021-01-17\", \"2021-01-16\", \"2021-01-15\", \"2021-01-14\", \"2021-01-13\", \"2021-01-12\", \"2021-01-11\", \"2021-01-10\", \"2021-01-09\", \"2021-01-08\", \"2021-01-07\", \"2021-01-06\", \"2021-01-05\", \"2021-01-04\", \"2021-01-03\", \"2021-01-02\", \"2021-01-01\", \"2020-12-31\", \"2020-12-30\", \"2020-12-29\", \"2020-12-28\", \"2020-12-27\", \"2020-12-26\", \"2020-12-25\", \"2020-12-24\", \"2020-12-23\", \"2020-12-22\", \"2020-12-21\", \"2020-12-20\", \"2020-12-19\", \"2020-12-18\", \"2020-12-17\", \"2020-12-16\", \"2020-12-15\", \"2020-12-14\", \"2020-12-13\", \"2020-12-12\", \"2020-12-11\", \"2020-12-10\", \"2020-12-09\", \"2020-12-08\", \"2020-12-07\", \"2020-12-06\", \"2020-12-05\", \"2020-12-04\", \"2020-12-03\", \"2020-12-02\", \"2020-12-01\", \"2020-11-30\", \"2020-11-29\", \"2020-11-28\", \"2020-11-27\", \"2020-11-26\", \"2020-11-25\", \"2020-11-24\", \"2020-11-23\", \"2020-11-22\", \"2020-11-21\", \"2020-11-20\", \"2020-11-19\", \"2020-11-18\", \"2020-11-17\", \"2020-11-16\", \"2020-11-15\", \"2020-11-14\", \"2020-11-13\", \"2020-11-12\", \"2020-11-11\", \"2020-11-10\", \"2020-11-09\", \"2020-11-08\", \"2020-11-07\", \"2020-11-06\", \"2020-11-05\", \"2020-11-04\", \"2020-11-03\", \"2020-11-02\", \"2020-11-01\", \"2020-10-31\", \"2020-10-30\", \"2020-10-29\", \"2020-10-28\", \"2020-10-27\", \"2020-10-26\", \"2020-10-25\", \"2020-10-24\", \"2020-10-23\", \"2020-10-22\", \"2020-10-21\", \"2020-10-20\", \"2020-10-19\", \"2020-10-18\", \"2020-10-17\", \"2020-10-16\", \"2020-10-15\", \"2020-10-14\", \"2020-10-13\", \"2020-10-12\", \"2020-10-11\", \"2020-10-10\", \"2020-10-09\", \"2020-10-08\", \"2020-10-07\", \"2020-10-06\", \"2020-10-05\", \"2020-10-04\", \"2020-10-03\", \"2020-10-02\", \"2020-10-01\", \"2020-09-30\", \"2020-09-29\", \"2020-09-28\", \"2020-09-27\", \"2020-09-26\", \"2020-09-25\", \"2020-09-24\", \"2020-09-23\", \"2020-09-22\", \"2020-09-21\", \"2020-09-20\", \"2020-09-19\", \"2020-09-18\", \"2020-09-17\", \"2020-09-16\", \"2020-09-15\", \"2020-09-14\", \"2020-09-13\", \"2020-09-12\", \"2020-09-11\", \"2020-09-10\", \"2020-09-09\", \"2020-09-08\", \"2020-09-07\", \"2020-09-06\", \"2020-09-05\", \"2020-09-04\", \"2020-09-03\", \"2020-09-02\", \"2020-09-01\", \"2020-08-31\", \"2020-08-30\", \"2020-08-29\", \"2020-08-28\", \"2020-08-27\", \"2020-08-26\", \"2020-08-25\", \"2020-08-24\", \"2020-08-23\", \"2020-08-22\", \"2020-08-21\", \"2020-08-20\", \"2020-08-19\", \"2020-08-18\", \"2020-08-17\", \"2020-08-16\", \"2020-08-15\", \"2020-08-14\", \"2020-08-13\", \"2020-08-12\", \"2020-08-11\", \"2020-08-10\", \"2020-08-09\", \"2020-08-08\", \"2020-08-07\", \"2020-08-06\", \"2020-08-05\", \"2020-08-04\", \"2020-08-03\", \"2020-08-02\", \"2020-08-01\", \"2020-07-31\", \"2020-07-30\", \"2020-07-29\", \"2020-07-28\", \"2020-07-27\", \"2020-07-26\", \"2020-07-25\", \"2020-07-24\", \"2020-07-23\", \"2020-07-22\", \"2020-07-21\", \"2020-07-20\", \"2020-07-19\", \"2020-07-18\", \"2020-07-17\", \"2020-07-16\", \"2020-07-15\", \"2020-07-14\", \"2020-07-13\", \"2020-07-12\", \"2020-07-11\", \"2020-07-10\", \"2020-07-09\", \"2020-07-08\", \"2020-07-07\", \"2020-07-06\", \"2020-07-05\", \"2020-07-04\", \"2020-07-03\", \"2020-07-02\", \"2020-07-01\", \"2020-06-30\", \"2020-06-29\", \"2020-06-28\", \"2020-06-27\", \"2020-06-26\", \"2020-06-25\", \"2020-06-24\", \"2020-06-23\", \"2020-06-22\", \"2020-06-21\", \"2020-06-20\", \"2020-06-19\", \"2020-06-18\", \"2020-06-17\", \"2020-06-16\", \"2020-06-15\", \"2020-06-14\", \"2020-06-13\", \"2020-06-12\", \"2020-06-11\", \"2020-06-10\", \"2020-06-09\", \"2020-06-08\", \"2020-06-07\", \"2020-06-06\", \"2020-06-05\", \"2020-06-04\", \"2020-06-03\", \"2020-06-02\", \"2020-06-01\", \"2020-05-31\", \"2020-05-30\", \"2020-05-29\", \"2020-05-28\", \"2020-05-27\", \"2020-05-26\", \"2020-05-25\", \"2020-05-24\", \"2020-05-23\", \"2020-05-22\", \"2020-05-21\", \"2020-05-20\", \"2020-05-19\", \"2020-05-18\", \"2020-05-17\", \"2020-05-16\", \"2020-05-15\", \"2020-05-14\", \"2020-05-13\", \"2020-05-12\", \"2020-05-11\", \"2020-05-10\", \"2020-05-09\", \"2020-05-08\", \"2020-05-07\", \"2020-05-06\", \"2020-05-05\", \"2020-05-04\", \"2020-05-03\", \"2020-05-02\", \"2020-05-01\", \"2020-04-30\", \"2020-04-29\", \"2020-04-28\", \"2020-04-27\", \"2020-04-26\", \"2020-04-25\", \"2020-04-24\", \"2020-04-23\", \"2020-04-22\", \"2020-04-21\", \"2020-04-20\", \"2020-04-19\", \"2020-04-18\", \"2020-04-17\", \"2020-04-16\", \"2020-04-15\", \"2020-04-14\", \"2020-04-13\", \"2020-04-12\", \"2020-04-11\", \"2020-04-10\", \"2020-04-09\", \"2020-04-08\", \"2020-04-07\", \"2020-04-06\", \"2020-04-05\", \"2020-04-04\", \"2020-04-03\", \"2020-04-02\", \"2020-04-01\", \"2020-03-31\", \"2020-03-30\", \"2020-03-29\", \"2020-03-28\", \"2020-03-27\", \"2020-03-26\", \"2020-03-25\", \"2020-03-24\", \"2020-03-23\", \"2020-03-22\", \"2020-03-21\", \"2020-03-20\", \"2020-03-19\", \"2020-03-18\", \"2020-03-17\", \"2020-03-16\", \"2020-03-15\", \"2020-03-14\", \"2020-03-13\", \"2020-03-12\", \"2020-03-11\", \"2020-03-10\", \"2020-03-09\", \"2020-03-08\", \"2020-03-07\", \"2020-03-06\", \"2020-03-05\", \"2020-03-04\", \"2020-03-03\", \"2020-03-02\", \"2020-03-01\", \"2020-02-29\", \"2020-02-28\", \"2020-02-27\", \"2020-02-26\", \"2020-02-25\", \"2020-02-24\", \"2020-02-23\", \"2020-02-22\", \"2020-02-21\", \"2020-02-20\", \"2020-02-19\", \"2020-02-18\", \"2020-02-17\", \"2020-02-16\", \"2020-02-15\", \"2020-02-14\", \"2020-02-13\", \"2020-02-12\", \"2020-02-11\", \"2020-02-10\", \"2020-02-09\", \"2020-02-08\", \"2020-02-07\", \"2020-02-06\", \"2020-02-05\", \"2020-02-04\", \"2020-02-03\", \"2020-02-02\", \"2020-02-01\", \"2020-01-31\", \"2020-01-30\", \"2020-01-29\", \"2020-01-28\", \"2020-01-27\", \"2020-01-26\", \"2020-01-25\", \"2020-01-24\", \"2020-01-23\", \"2020-01-22\", \"2020-01-21\", \"2020-01-20\", \"2020-01-19\", \"2020-01-18\", \"2020-01-17\", \"2020-01-16\", \"2020-01-15\", \"2020-01-14\", \"2020-01-13\"], \"y\": [28399281.0, 28351189.0, 28296840.0, 28225595.0, 28150738.0, 28075173.0, 28001915.0, 27932810.0, 27880280.0, 27821578.0, 27749224.0, 27674548.0, 27607724.0, 27540885.0, 27484573.0, 27429496.0, 27357332.0, 27266690.0, 27165660.0, 27063243.0, 26968049.0, 26875063.0, 26797326.0, 26701332.0, 26586775.0, 26455629.0, 26331722.0, 26214762.0, 26097146.0, 25976946.0, 25857579.0, 25708755.0, 25541644.0, 25384338.0, 25230353.0, 25083905.0, 24950451.0, 24806217.0, 24629099.0, 24438184.0, 24251909.0, 24062706.0, 23916080.0, 23765288.0, 23578070.0, 23359985.0, 23113531.0, 22887915.0, 22663424.0, 22445404.0, 22250149.0, 22021417.0, 21752049.0, 21456928.0, 21184885.0, 20934701.0, 20715626.0, 20536055.0, 20327598.0, 20047280.0, 19864374.0, 19638128.0, 19408632.0, 19208953.0, 19044826.0, 18891286.0, 18700692.0, 18573896.0, 18367212.0, 18142686.0, 17949678.0, 17770272.0, 17572778.0, 17367905.0, 17126119.0, 16883149.0, 16648861.0, 16455643.0, 16262357.0, 16075106.0, 15848202.0, 15611269.0, 15390423.0, 15173695.0, 14955851.0, 14773954.0, 14591374.0, 14372304.0, 14141991.0, 13925720.0, 13722291.0, 13541108.0, 13391077.0, 13253823.0, 13102354.0, 12903480.0, 12773716.0, 12585220.0, 12418717.0, 12264021.0, 12109833.0, 11923448.0, 11726284.0, 11538352.0, 11370132.0, 11210306.0, 11060329.0, 10913267.0, 10745541.0, 10570908.0, 10413366.0, 10264033.0, 10128464.0, 10010061.0, 9897616.0, 9765503.0, 9635513.0, 9516490.0, 9410494.0, 9290545.0, 9207091.0, 9065118.0, 8973824.0, 8875882.0, 8786517.0, 8706817.0, 8634562.0, 8571132.0, 8506661.0, 8422869.0, 8340294.0, 8266875.0, 8205165.0, 8144591.0, 8086941.0, 8038984.0, 7981309.0, 7912804.0, 7849163.0, 7791923.0, 7744944.0, 7701710.0, 7655038.0, 7597403.0, 7540410.0, 7485102.0, 7433886.0, 7395040.0, 7357288.0, 7319123.0, 7268249.0, 7218822.0, 7173102.0, 7128193.0, 7091427.0, 7056051.0, 7021061.0, 6973793.0, 6918556.0, 6875215.0, 6835717.0, 6786731.0, 6747569.0, 6712036.0, 6666368.0, 6619479.0, 6575837.0, 6535518.0, 6500740.0, 6467168.0, 6432589.0, 6390739.0, 6346041.0, 6308632.0, 6277899.0, 6255589.0, 6227472.0, 6194439.0, 6149579.0, 6097979.0, 6053336.0, 6022681.0, 5980439.0, 5948719.0, 5909953.0, 5865958.0, 5819843.0, 5775732.0, 5731401.0, 5694562.0, 5660019.0, 5622119.0, 5576065.0, 5529609.0, 5485765.0, 5440692.0, 5400622.0, 5362871.0, 5320368.0, 5264322.0, 5207221.0, 5155458.0, 5099272.0, 5044337.0, 5002967.0, 4952201.0, 4898672.0, 4837849.0, 4783801.0, 4731103.0, 4679905.0, 4637167.0, 4583866.0, 4523187.0, 4455360.0, 4386399.0, 4322256.0, 4263799.0, 4209320.0, 4148552.0, 4083707.0, 4008646.0, 3937210.0, 3867788.0, 3804868.0, 3748205.0, 3683975.0, 3619225.0, 3542701.0, 3472212.0, 3402839.0, 3344230.0, 3287070.0, 3225465.0, 3162896.0, 3095785.0, 3036723.0, 2973910.0, 2922920.0, 2881995.0, 2836661.0, 2781780.0, 2727581.0, 2674070.0, 2623024.0, 2576014.0, 2536616.0, 2494871.0, 2451813.0, 2407473.0, 2367766.0, 2328649.0, 2295202.0, 2268373.0, 2239185.0, 2206949.0, 2176084.0, 2149042.0, 2124889.0, 2102051.0, 2083796.0, 2062138.0, 2036685.0, 2013544.0, 1991553.0, 1970673.0, 1953757.0, 1936834.0, 1917778.0, 1895032.0, 1871982.0, 1851505.0, 1831323.0, 1811444.0, 1791343.0, 1769702.0, 1746106.0, 1722488.0, 1699689.0, 1680517.0, 1663827.0, 1645272.0, 1626210.0, 1603649.0, 1579534.0, 1552703.0, 1531410.0, 1510723.0, 1490126.0, 1469690.0, 1445947.0, 1420457.0, 1393684.0, 1372184.0, 1349742.0, 1331602.0, 1310486.0, 1285166.0, 1257969.0, 1230740.0, 1205484.0, 1183140.0, 1160945.0, 1135156.0, 1105960.0, 1073152.0, 1043106.0, 1016930.0, 991696.0, 969289.0, 941975.0, 906241.0, 872015.0, 840062.0, 810886.0, 784847.0, 758880.0, 731357.0, 703407.0, 671423.0, 639896.0, 609975.0, 584101.0, 559820.0, 531705.0, 500442.0, 466834.0, 431718.0, 400759.0, 370283.0, 342040.0, 316130.0, 283072.0, 251182.0, 223119.0, 196848.0, 171911.0, 150709.0, 131045.0, 111274.0, 92020.0, 74404.0, 61773.0, 50891.0, 39699.0, 30476.0, 23544.0, 17442.0, 12828.0, 9471.0, 7383.0, 5668.0, 4379.0, 3354.0, 2511.0, 1828.0, 1408.0, 1020.0, 744.0, 574.0, 437.0, 305.0, 240.0, 114.0, 72.0, 42.0, 18.0, 15.0, 13.0, 12.0, 10.0, 9.0, 8.0, 7.0, 7.0, 7.0, 7.0, 7.0, 7.0, 7.0, 7.0, 7.0, 6.0, 5.0, 5.0, 5.0, 5.0, 5.0, 5.0, 5.0, 3.0, 3.0, 3.0, 2.0, 2.0, 2.0, 2.0, 2.0, 2.0, 2.0, 2.0, 2.0, 2.0, 2.0, 2.0, 2.0, 1.0, 1.0, 0.0, 0.0, 0.0, 0.0, 0.0, null]}],\n",
              "                        {\"plot_bgcolor\": \"rgb(230, 230, 230)\", \"template\": {\"data\": {\"bar\": [{\"error_x\": {\"color\": \"#2a3f5f\"}, \"error_y\": {\"color\": \"#2a3f5f\"}, \"marker\": {\"line\": {\"color\": \"#E5ECF6\", \"width\": 0.5}}, \"type\": \"bar\"}], \"barpolar\": [{\"marker\": {\"line\": {\"color\": \"#E5ECF6\", \"width\": 0.5}}, \"type\": \"barpolar\"}], \"carpet\": [{\"aaxis\": {\"endlinecolor\": \"#2a3f5f\", \"gridcolor\": \"white\", \"linecolor\": \"white\", \"minorgridcolor\": \"white\", \"startlinecolor\": \"#2a3f5f\"}, \"baxis\": {\"endlinecolor\": \"#2a3f5f\", \"gridcolor\": \"white\", \"linecolor\": \"white\", \"minorgridcolor\": \"white\", \"startlinecolor\": \"#2a3f5f\"}, \"type\": \"carpet\"}], \"choropleth\": [{\"colorbar\": {\"outlinewidth\": 0, \"ticks\": \"\"}, \"type\": \"choropleth\"}], \"contour\": [{\"colorbar\": {\"outlinewidth\": 0, \"ticks\": \"\"}, \"colorscale\": [[0.0, \"#0d0887\"], [0.1111111111111111, \"#46039f\"], [0.2222222222222222, \"#7201a8\"], [0.3333333333333333, \"#9c179e\"], [0.4444444444444444, \"#bd3786\"], [0.5555555555555556, \"#d8576b\"], [0.6666666666666666, \"#ed7953\"], [0.7777777777777778, \"#fb9f3a\"], [0.8888888888888888, \"#fdca26\"], [1.0, \"#f0f921\"]], \"type\": \"contour\"}], \"contourcarpet\": [{\"colorbar\": {\"outlinewidth\": 0, \"ticks\": \"\"}, \"type\": \"contourcarpet\"}], \"heatmap\": [{\"colorbar\": {\"outlinewidth\": 0, \"ticks\": \"\"}, \"colorscale\": [[0.0, \"#0d0887\"], [0.1111111111111111, \"#46039f\"], [0.2222222222222222, \"#7201a8\"], [0.3333333333333333, \"#9c179e\"], [0.4444444444444444, \"#bd3786\"], [0.5555555555555556, \"#d8576b\"], [0.6666666666666666, \"#ed7953\"], [0.7777777777777778, \"#fb9f3a\"], [0.8888888888888888, \"#fdca26\"], [1.0, \"#f0f921\"]], \"type\": \"heatmap\"}], \"heatmapgl\": [{\"colorbar\": {\"outlinewidth\": 0, \"ticks\": \"\"}, \"colorscale\": [[0.0, \"#0d0887\"], [0.1111111111111111, \"#46039f\"], [0.2222222222222222, \"#7201a8\"], [0.3333333333333333, \"#9c179e\"], [0.4444444444444444, \"#bd3786\"], [0.5555555555555556, \"#d8576b\"], [0.6666666666666666, \"#ed7953\"], [0.7777777777777778, \"#fb9f3a\"], [0.8888888888888888, \"#fdca26\"], [1.0, \"#f0f921\"]], \"type\": \"heatmapgl\"}], \"histogram\": [{\"marker\": {\"colorbar\": {\"outlinewidth\": 0, \"ticks\": \"\"}}, \"type\": \"histogram\"}], \"histogram2d\": [{\"colorbar\": {\"outlinewidth\": 0, \"ticks\": \"\"}, \"colorscale\": [[0.0, \"#0d0887\"], [0.1111111111111111, \"#46039f\"], [0.2222222222222222, \"#7201a8\"], [0.3333333333333333, \"#9c179e\"], [0.4444444444444444, \"#bd3786\"], [0.5555555555555556, \"#d8576b\"], [0.6666666666666666, \"#ed7953\"], [0.7777777777777778, \"#fb9f3a\"], [0.8888888888888888, \"#fdca26\"], [1.0, \"#f0f921\"]], \"type\": \"histogram2d\"}], \"histogram2dcontour\": [{\"colorbar\": {\"outlinewidth\": 0, \"ticks\": \"\"}, \"colorscale\": [[0.0, \"#0d0887\"], [0.1111111111111111, \"#46039f\"], [0.2222222222222222, \"#7201a8\"], [0.3333333333333333, \"#9c179e\"], [0.4444444444444444, \"#bd3786\"], [0.5555555555555556, \"#d8576b\"], [0.6666666666666666, \"#ed7953\"], [0.7777777777777778, \"#fb9f3a\"], [0.8888888888888888, \"#fdca26\"], [1.0, \"#f0f921\"]], \"type\": \"histogram2dcontour\"}], \"mesh3d\": [{\"colorbar\": {\"outlinewidth\": 0, \"ticks\": \"\"}, \"type\": \"mesh3d\"}], \"parcoords\": [{\"line\": {\"colorbar\": {\"outlinewidth\": 0, \"ticks\": \"\"}}, \"type\": \"parcoords\"}], \"pie\": [{\"automargin\": true, \"type\": \"pie\"}], \"scatter\": [{\"marker\": {\"colorbar\": {\"outlinewidth\": 0, \"ticks\": \"\"}}, \"type\": \"scatter\"}], \"scatter3d\": [{\"line\": {\"colorbar\": {\"outlinewidth\": 0, \"ticks\": \"\"}}, \"marker\": {\"colorbar\": {\"outlinewidth\": 0, \"ticks\": \"\"}}, \"type\": \"scatter3d\"}], \"scattercarpet\": [{\"marker\": {\"colorbar\": {\"outlinewidth\": 0, \"ticks\": \"\"}}, \"type\": \"scattercarpet\"}], \"scattergeo\": [{\"marker\": {\"colorbar\": {\"outlinewidth\": 0, \"ticks\": \"\"}}, \"type\": \"scattergeo\"}], \"scattergl\": [{\"marker\": {\"colorbar\": {\"outlinewidth\": 0, \"ticks\": \"\"}}, \"type\": \"scattergl\"}], \"scattermapbox\": [{\"marker\": {\"colorbar\": {\"outlinewidth\": 0, \"ticks\": \"\"}}, \"type\": \"scattermapbox\"}], \"scatterpolar\": [{\"marker\": {\"colorbar\": {\"outlinewidth\": 0, \"ticks\": \"\"}}, \"type\": \"scatterpolar\"}], \"scatterpolargl\": [{\"marker\": {\"colorbar\": {\"outlinewidth\": 0, \"ticks\": \"\"}}, \"type\": \"scatterpolargl\"}], \"scatterternary\": [{\"marker\": {\"colorbar\": {\"outlinewidth\": 0, \"ticks\": \"\"}}, \"type\": \"scatterternary\"}], \"surface\": [{\"colorbar\": {\"outlinewidth\": 0, \"ticks\": \"\"}, \"colorscale\": [[0.0, \"#0d0887\"], [0.1111111111111111, \"#46039f\"], [0.2222222222222222, \"#7201a8\"], [0.3333333333333333, \"#9c179e\"], [0.4444444444444444, \"#bd3786\"], [0.5555555555555556, \"#d8576b\"], [0.6666666666666666, \"#ed7953\"], [0.7777777777777778, \"#fb9f3a\"], [0.8888888888888888, \"#fdca26\"], [1.0, \"#f0f921\"]], \"type\": \"surface\"}], \"table\": [{\"cells\": {\"fill\": {\"color\": \"#EBF0F8\"}, \"line\": {\"color\": \"white\"}}, \"header\": {\"fill\": {\"color\": \"#C8D4E3\"}, \"line\": {\"color\": \"white\"}}, \"type\": \"table\"}]}, \"layout\": {\"annotationdefaults\": {\"arrowcolor\": \"#2a3f5f\", \"arrowhead\": 0, \"arrowwidth\": 1}, \"coloraxis\": {\"colorbar\": {\"outlinewidth\": 0, \"ticks\": \"\"}}, \"colorscale\": {\"diverging\": [[0, \"#8e0152\"], [0.1, \"#c51b7d\"], [0.2, \"#de77ae\"], [0.3, \"#f1b6da\"], [0.4, \"#fde0ef\"], [0.5, \"#f7f7f7\"], [0.6, \"#e6f5d0\"], [0.7, \"#b8e186\"], [0.8, \"#7fbc41\"], [0.9, \"#4d9221\"], [1, \"#276419\"]], \"sequential\": [[0.0, \"#0d0887\"], [0.1111111111111111, \"#46039f\"], [0.2222222222222222, \"#7201a8\"], [0.3333333333333333, \"#9c179e\"], [0.4444444444444444, \"#bd3786\"], [0.5555555555555556, \"#d8576b\"], [0.6666666666666666, \"#ed7953\"], [0.7777777777777778, \"#fb9f3a\"], [0.8888888888888888, \"#fdca26\"], [1.0, \"#f0f921\"]], \"sequentialminus\": [[0.0, \"#0d0887\"], [0.1111111111111111, \"#46039f\"], [0.2222222222222222, \"#7201a8\"], [0.3333333333333333, \"#9c179e\"], [0.4444444444444444, \"#bd3786\"], [0.5555555555555556, \"#d8576b\"], [0.6666666666666666, \"#ed7953\"], [0.7777777777777778, \"#fb9f3a\"], [0.8888888888888888, \"#fdca26\"], [1.0, \"#f0f921\"]]}, \"colorway\": [\"#636efa\", \"#EF553B\", \"#00cc96\", \"#ab63fa\", \"#FFA15A\", \"#19d3f3\", \"#FF6692\", \"#B6E880\", \"#FF97FF\", \"#FECB52\"], \"font\": {\"color\": \"#2a3f5f\"}, \"geo\": {\"bgcolor\": \"white\", \"lakecolor\": \"white\", \"landcolor\": \"#E5ECF6\", \"showlakes\": true, \"showland\": true, \"subunitcolor\": \"white\"}, \"hoverlabel\": {\"align\": \"left\"}, \"hovermode\": \"closest\", \"mapbox\": {\"style\": \"light\"}, \"paper_bgcolor\": \"white\", \"plot_bgcolor\": \"#E5ECF6\", \"polar\": {\"angularaxis\": {\"gridcolor\": \"white\", \"linecolor\": \"white\", \"ticks\": \"\"}, \"bgcolor\": \"#E5ECF6\", \"radialaxis\": {\"gridcolor\": \"white\", \"linecolor\": \"white\", \"ticks\": \"\"}}, \"scene\": {\"xaxis\": {\"backgroundcolor\": \"#E5ECF6\", \"gridcolor\": \"white\", \"gridwidth\": 2, \"linecolor\": \"white\", \"showbackground\": true, \"ticks\": \"\", \"zerolinecolor\": \"white\"}, \"yaxis\": {\"backgroundcolor\": \"#E5ECF6\", \"gridcolor\": \"white\", \"gridwidth\": 2, \"linecolor\": \"white\", \"showbackground\": true, \"ticks\": \"\", \"zerolinecolor\": \"white\"}, \"zaxis\": {\"backgroundcolor\": \"#E5ECF6\", \"gridcolor\": \"white\", \"gridwidth\": 2, \"linecolor\": \"white\", \"showbackground\": true, \"ticks\": \"\", \"zerolinecolor\": \"white\"}}, \"shapedefaults\": {\"line\": {\"color\": \"#2a3f5f\"}}, \"ternary\": {\"aaxis\": {\"gridcolor\": \"white\", \"linecolor\": \"white\", \"ticks\": \"\"}, \"baxis\": {\"gridcolor\": \"white\", \"linecolor\": \"white\", \"ticks\": \"\"}, \"bgcolor\": \"#E5ECF6\", \"caxis\": {\"gridcolor\": \"white\", \"linecolor\": \"white\", \"ticks\": \"\"}}, \"title\": {\"x\": 0.05}, \"xaxis\": {\"automargin\": true, \"gridcolor\": \"white\", \"linecolor\": \"white\", \"ticks\": \"\", \"title\": {\"standoff\": 15}, \"zerolinecolor\": \"white\", \"zerolinewidth\": 2}, \"yaxis\": {\"automargin\": true, \"gridcolor\": \"white\", \"linecolor\": \"white\", \"ticks\": \"\", \"title\": {\"standoff\": 15}, \"zerolinecolor\": \"white\", \"zerolinewidth\": 2}}}, \"title\": {\"text\": \"Trend of Coronavirus Cases in USA (Cumulative cases)\"}},\n",
              "                        {\"responsive\": true}\n",
              "                    ).then(function(){\n",
              "                            \n",
              "var gd = document.getElementById('cc2ae7d8-e736-4a69-933a-d22818cda686');\n",
              "var x = new MutationObserver(function (mutations, observer) {{\n",
              "        var display = window.getComputedStyle(gd).display;\n",
              "        if (!display || display === 'none') {{\n",
              "            console.log([gd, 'removed!']);\n",
              "            Plotly.purge(gd);\n",
              "            observer.disconnect();\n",
              "        }}\n",
              "}});\n",
              "\n",
              "// Listen for the removal of the full notebook cells\n",
              "var notebookContainer = gd.closest('#notebook-container');\n",
              "if (notebookContainer) {{\n",
              "    x.observe(notebookContainer, {childList: true});\n",
              "}}\n",
              "\n",
              "// Listen for the clearing of the current output cell\n",
              "var outputEl = gd.closest('.output');\n",
              "if (outputEl) {{\n",
              "    x.observe(outputEl, {childList: true});\n",
              "}}\n",
              "\n",
              "                        })\n",
              "                };\n",
              "                \n",
              "            </script>\n",
              "        </div>\n",
              "</body>\n",
              "</html>"
            ]
          },
          "metadata": {
            "tags": []
          }
        },
        {
          "output_type": "display_data",
          "data": {
            "text/html": [
              "<html>\n",
              "<head><meta charset=\"utf-8\" /></head>\n",
              "<body>\n",
              "    <div>\n",
              "            <script src=\"https://cdnjs.cloudflare.com/ajax/libs/mathjax/2.7.5/MathJax.js?config=TeX-AMS-MML_SVG\"></script><script type=\"text/javascript\">if (window.MathJax) {MathJax.Hub.Config({SVG: {font: \"STIX-Web\"}});}</script>\n",
              "                <script type=\"text/javascript\">window.PlotlyConfig = {MathJaxConfig: 'local'};</script>\n",
              "        <script src=\"https://cdn.plot.ly/plotly-latest.min.js\"></script>    \n",
              "            <div id=\"a7169a9a-f79a-4483-9d03-daf4adfdb131\" class=\"plotly-graph-div\" style=\"height:400px; width:100%;\"></div>\n",
              "            <script type=\"text/javascript\">\n",
              "                \n",
              "                    window.PLOTLYENV=window.PLOTLYENV || {};\n",
              "                    \n",
              "                if (document.getElementById(\"a7169a9a-f79a-4483-9d03-daf4adfdb131\")) {\n",
              "                    Plotly.newPlot(\n",
              "                        'a7169a9a-f79a-4483-9d03-daf4adfdb131',\n",
              "                        [{\"alignmentgroup\": \"True\", \"hoverlabel\": {\"namelength\": 0}, \"hovertemplate\": \"date=%{x}<br>positiveIncrease=%{y}\", \"legendgroup\": \"\", \"marker\": {\"color\": \"#636efa\"}, \"name\": \"\", \"offsetgroup\": \"\", \"orientation\": \"v\", \"showlegend\": false, \"textposition\": \"auto\", \"type\": \"bar\", \"x\": [\"2021-03-01\", \"2021-02-28\", \"2021-02-27\", \"2021-02-26\", \"2021-02-25\", \"2021-02-24\", \"2021-02-23\", \"2021-02-22\", \"2021-02-21\", \"2021-02-20\", \"2021-02-19\", \"2021-02-18\", \"2021-02-17\", \"2021-02-16\", \"2021-02-15\", \"2021-02-14\", \"2021-02-13\", \"2021-02-12\", \"2021-02-11\", \"2021-02-10\", \"2021-02-09\", \"2021-02-08\", \"2021-02-07\", \"2021-02-06\", \"2021-02-05\", \"2021-02-04\", \"2021-02-03\", \"2021-02-02\", \"2021-02-01\", \"2021-01-31\", \"2021-01-30\", \"2021-01-29\", \"2021-01-28\", \"2021-01-27\", \"2021-01-26\", \"2021-01-25\", \"2021-01-24\", \"2021-01-23\", \"2021-01-22\", \"2021-01-21\", \"2021-01-20\", \"2021-01-19\", \"2021-01-18\", \"2021-01-17\", \"2021-01-16\", \"2021-01-15\", \"2021-01-14\", \"2021-01-13\", \"2021-01-12\", \"2021-01-11\", \"2021-01-10\", \"2021-01-09\", \"2021-01-08\", \"2021-01-07\", \"2021-01-06\", \"2021-01-05\", \"2021-01-04\", \"2021-01-03\", \"2021-01-02\", \"2021-01-01\", \"2020-12-31\", \"2020-12-30\", \"2020-12-29\", \"2020-12-28\", \"2020-12-27\", \"2020-12-26\", \"2020-12-25\", \"2020-12-24\", \"2020-12-23\", \"2020-12-22\", \"2020-12-21\", \"2020-12-20\", \"2020-12-19\", \"2020-12-18\", \"2020-12-17\", \"2020-12-16\", \"2020-12-15\", \"2020-12-14\", \"2020-12-13\", \"2020-12-12\", \"2020-12-11\", \"2020-12-10\", \"2020-12-09\", \"2020-12-08\", \"2020-12-07\", \"2020-12-06\", \"2020-12-05\", \"2020-12-04\", \"2020-12-03\", \"2020-12-02\", \"2020-12-01\", \"2020-11-30\", \"2020-11-29\", \"2020-11-28\", \"2020-11-27\", \"2020-11-26\", \"2020-11-25\", \"2020-11-24\", \"2020-11-23\", \"2020-11-22\", \"2020-11-21\", \"2020-11-20\", \"2020-11-19\", \"2020-11-18\", \"2020-11-17\", \"2020-11-16\", \"2020-11-15\", \"2020-11-14\", \"2020-11-13\", \"2020-11-12\", \"2020-11-11\", \"2020-11-10\", \"2020-11-09\", \"2020-11-08\", \"2020-11-07\", \"2020-11-06\", \"2020-11-05\", \"2020-11-04\", \"2020-11-03\", \"2020-11-02\", \"2020-11-01\", \"2020-10-31\", \"2020-10-30\", \"2020-10-29\", \"2020-10-28\", \"2020-10-27\", \"2020-10-26\", \"2020-10-25\", \"2020-10-24\", \"2020-10-23\", \"2020-10-22\", \"2020-10-21\", \"2020-10-20\", \"2020-10-19\", \"2020-10-18\", \"2020-10-17\", \"2020-10-16\", \"2020-10-15\", \"2020-10-14\", \"2020-10-13\", \"2020-10-12\", \"2020-10-11\", \"2020-10-10\", \"2020-10-09\", \"2020-10-08\", \"2020-10-07\", \"2020-10-06\", \"2020-10-05\", \"2020-10-04\", \"2020-10-03\", \"2020-10-02\", \"2020-10-01\", \"2020-09-30\", \"2020-09-29\", \"2020-09-28\", \"2020-09-27\", \"2020-09-26\", \"2020-09-25\", \"2020-09-24\", \"2020-09-23\", \"2020-09-22\", \"2020-09-21\", \"2020-09-20\", \"2020-09-19\", \"2020-09-18\", \"2020-09-17\", \"2020-09-16\", \"2020-09-15\", \"2020-09-14\", \"2020-09-13\", \"2020-09-12\", \"2020-09-11\", \"2020-09-10\", \"2020-09-09\", \"2020-09-08\", \"2020-09-07\", \"2020-09-06\", \"2020-09-05\", \"2020-09-04\", \"2020-09-03\", \"2020-09-02\", \"2020-09-01\", \"2020-08-31\", \"2020-08-30\", \"2020-08-29\", \"2020-08-28\", \"2020-08-27\", \"2020-08-26\", \"2020-08-25\", \"2020-08-24\", \"2020-08-23\", \"2020-08-22\", \"2020-08-21\", \"2020-08-20\", \"2020-08-19\", \"2020-08-18\", \"2020-08-17\", \"2020-08-16\", \"2020-08-15\", \"2020-08-14\", \"2020-08-13\", \"2020-08-12\", \"2020-08-11\", \"2020-08-10\", \"2020-08-09\", \"2020-08-08\", \"2020-08-07\", \"2020-08-06\", \"2020-08-05\", \"2020-08-04\", \"2020-08-03\", \"2020-08-02\", \"2020-08-01\", \"2020-07-31\", \"2020-07-30\", \"2020-07-29\", \"2020-07-28\", \"2020-07-27\", \"2020-07-26\", \"2020-07-25\", \"2020-07-24\", \"2020-07-23\", \"2020-07-22\", \"2020-07-21\", \"2020-07-20\", \"2020-07-19\", \"2020-07-18\", \"2020-07-17\", \"2020-07-16\", \"2020-07-15\", \"2020-07-14\", \"2020-07-13\", \"2020-07-12\", \"2020-07-11\", \"2020-07-10\", \"2020-07-09\", \"2020-07-08\", \"2020-07-07\", \"2020-07-06\", \"2020-07-05\", \"2020-07-04\", \"2020-07-03\", \"2020-07-02\", \"2020-07-01\", \"2020-06-30\", \"2020-06-29\", \"2020-06-28\", \"2020-06-27\", \"2020-06-26\", \"2020-06-25\", \"2020-06-24\", \"2020-06-23\", \"2020-06-22\", \"2020-06-21\", \"2020-06-20\", \"2020-06-19\", \"2020-06-18\", \"2020-06-17\", \"2020-06-16\", \"2020-06-15\", \"2020-06-14\", \"2020-06-13\", \"2020-06-12\", \"2020-06-11\", \"2020-06-10\", \"2020-06-09\", \"2020-06-08\", \"2020-06-07\", \"2020-06-06\", \"2020-06-05\", \"2020-06-04\", \"2020-06-03\", \"2020-06-02\", \"2020-06-01\", \"2020-05-31\", \"2020-05-30\", \"2020-05-29\", \"2020-05-28\", \"2020-05-27\", \"2020-05-26\", \"2020-05-25\", \"2020-05-24\", \"2020-05-23\", \"2020-05-22\", \"2020-05-21\", \"2020-05-20\", \"2020-05-19\", \"2020-05-18\", \"2020-05-17\", \"2020-05-16\", \"2020-05-15\", \"2020-05-14\", \"2020-05-13\", \"2020-05-12\", \"2020-05-11\", \"2020-05-10\", \"2020-05-09\", \"2020-05-08\", \"2020-05-07\", \"2020-05-06\", \"2020-05-05\", \"2020-05-04\", \"2020-05-03\", \"2020-05-02\", \"2020-05-01\", \"2020-04-30\", \"2020-04-29\", \"2020-04-28\", \"2020-04-27\", \"2020-04-26\", \"2020-04-25\", \"2020-04-24\", \"2020-04-23\", \"2020-04-22\", \"2020-04-21\", \"2020-04-20\", \"2020-04-19\", \"2020-04-18\", \"2020-04-17\", \"2020-04-16\", \"2020-04-15\", \"2020-04-14\", \"2020-04-13\", \"2020-04-12\", \"2020-04-11\", \"2020-04-10\", \"2020-04-09\", \"2020-04-08\", \"2020-04-07\", \"2020-04-06\", \"2020-04-05\", \"2020-04-04\", \"2020-04-03\", \"2020-04-02\", \"2020-04-01\", \"2020-03-31\", \"2020-03-30\", \"2020-03-29\", \"2020-03-28\", \"2020-03-27\", \"2020-03-26\", \"2020-03-25\", \"2020-03-24\", \"2020-03-23\", \"2020-03-22\", \"2020-03-21\", \"2020-03-20\", \"2020-03-19\", \"2020-03-18\", \"2020-03-17\", \"2020-03-16\", \"2020-03-15\", \"2020-03-14\", \"2020-03-13\", \"2020-03-12\", \"2020-03-11\", \"2020-03-10\", \"2020-03-09\", \"2020-03-08\", \"2020-03-07\", \"2020-03-06\", \"2020-03-05\", \"2020-03-04\", \"2020-03-03\", \"2020-03-02\", \"2020-03-01\", \"2020-02-29\", \"2020-02-28\", \"2020-02-27\", \"2020-02-26\", \"2020-02-25\", \"2020-02-24\", \"2020-02-23\", \"2020-02-22\", \"2020-02-21\", \"2020-02-20\", \"2020-02-19\", \"2020-02-18\", \"2020-02-17\", \"2020-02-16\", \"2020-02-15\", \"2020-02-14\", \"2020-02-13\", \"2020-02-12\", \"2020-02-11\", \"2020-02-10\", \"2020-02-09\", \"2020-02-08\", \"2020-02-07\", \"2020-02-06\", \"2020-02-05\", \"2020-02-04\", \"2020-02-03\", \"2020-02-02\", \"2020-02-01\", \"2020-01-31\", \"2020-01-30\", \"2020-01-29\", \"2020-01-28\", \"2020-01-27\", \"2020-01-26\", \"2020-01-25\", \"2020-01-24\", \"2020-01-23\", \"2020-01-22\", \"2020-01-21\", \"2020-01-20\", \"2020-01-19\", \"2020-01-18\", \"2020-01-17\", \"2020-01-16\", \"2020-01-15\", \"2020-01-14\", \"2020-01-13\"], \"xaxis\": \"x\", \"y\": [48092, 54349, 71245, 74857, 75565, 73258, 69105, 52530, 58702, 72354, 74676, 66824, 66839, 56312, 55077, 72164, 90642, 101030, 102417, 95194, 92986, 77737, 95994, 114557, 131146, 123907, 116960, 117616, 120200, 119367, 148824, 167111, 157306, 153985, 146448, 133454, 144234, 177118, 190915, 186275, 189203, 146626, 150792, 187218, 218085, 246454, 225616, 224491, 218020, 195255, 228732, 269368, 295121, 272043, 250184, 219075, 179571, 208457, 280318, 182906, 226246, 229496, 199679, 164127, 153540, 190594, 126796, 206684, 224526, 193008, 179406, 197494, 204873, 241786, 242970, 234288, 193218, 193286, 187251, 226904, 236933, 220846, 216728, 217844, 181897, 182580, 219070, 230313, 216271, 203429, 181183, 150031, 137254, 151469, 198874, 129764, 188496, 166503, 154696, 154188, 186385, 197164, 187932, 168220, 159826, 149977, 147062, 167726, 174633, 157542, 149333, 135569, 118403, 112445, 132113, 129990, 119023, 105996, 119949, 83454, 141973, 91294, 97942, 89365, 79700, 72255, 63430, 64471, 83792, 82575, 73419, 61710, 60574, 57650, 47957, 57675, 68505, 63641, 57240, 46979, 43234, 46672, 57635, 56993, 55308, 51216, 38846, 37752, 38165, 50874, 49427, 45720, 44909, 36766, 35376, 34990, 47268, 55237, 43341, 39498, 48986, 39162, 35533, 45668, 46889, 43642, 40319, 34778, 33572, 34579, 41850, 44698, 37409, 30733, 22310, 28117, 33033, 44860, 51600, 44643, 30655, 42242, 31720, 38766, 43995, 46115, 44111, 44331, 36839, 34543, 37900, 46054, 46456, 43844, 45073, 40070, 37751, 42503, 56046, 57101, 51763, 56186, 54935, 41370, 50766, 53529, 60823, 54048, 52698, 51198, 42738, 53301, 60679, 67827, 68961, 64143, 58457, 54479, 60768, 64845, 75061, 71436, 69422, 62920, 56663, 64230, 64750, 76524, 70489, 69373, 58609, 57160, 61605, 62569, 67111, 59062, 62813, 50990, 40925, 45334, 54881, 54199, 53511, 51046, 47010, 39398, 41745, 43058, 44340, 39707, 39117, 33447, 26829, 29188, 32236, 30865, 27042, 24153, 22838, 18255, 21658, 25453, 23141, 21991, 20880, 16916, 16923, 19056, 22746, 23050, 20477, 20182, 19879, 20101, 21641, 23596, 23618, 22799, 19172, 16690, 18555, 19062, 22561, 24115, 26831, 21293, 20687, 20597, 20436, 23743, 25490, 26773, 21500, 22442, 18140, 21116, 25320, 27197, 27229, 25256, 22344, 22195, 25789, 29196, 32808, 30046, 26176, 25234, 22407, 27314, 35734, 34226, 31953, 29176, 26039, 25967, 27523, 27950, 31984, 31527, 29921, 25874, 24281, 28115, 31263, 33608, 35116, 30959, 30476, 28243, 25910, 33058, 31890, 28063, 26271, 24937, 21202, 19664, 19771, 19254, 17616, 12631, 10882, 11192, 9223, 6932, 6102, 4614, 3357, 2088, 1715, 1289, 1025, 843, 683, 420, 388, 276, 170, 137, 132, 65, 126, 42, 30, 24, 3, 2, 1, 2, 1, 1, 1, 0, 0, 0, 0, 0, 0, 0, 0, 1, 1, 0, 0, 0, 0, 0, 0, 2, 0, 0, 1, 0, 0, 0, 0, 0, 0, 0, 0, 0, 0, 0, 0, 1, 0, 1, 0, 0, 0, 0, 0, 0], \"yaxis\": \"y\"}],\n",
              "                        {\"barmode\": \"group\", \"height\": 400, \"legend\": {\"tracegroupgap\": 0}, \"margin\": {\"t\": 60}, \"plot_bgcolor\": \"rgb(230, 230, 230)\", \"template\": {\"data\": {\"bar\": [{\"error_x\": {\"color\": \"#2a3f5f\"}, \"error_y\": {\"color\": \"#2a3f5f\"}, \"marker\": {\"line\": {\"color\": \"#E5ECF6\", \"width\": 0.5}}, \"type\": \"bar\"}], \"barpolar\": [{\"marker\": {\"line\": {\"color\": \"#E5ECF6\", \"width\": 0.5}}, \"type\": \"barpolar\"}], \"carpet\": [{\"aaxis\": {\"endlinecolor\": \"#2a3f5f\", \"gridcolor\": \"white\", \"linecolor\": \"white\", \"minorgridcolor\": \"white\", \"startlinecolor\": \"#2a3f5f\"}, \"baxis\": {\"endlinecolor\": \"#2a3f5f\", \"gridcolor\": \"white\", \"linecolor\": \"white\", \"minorgridcolor\": \"white\", \"startlinecolor\": \"#2a3f5f\"}, \"type\": \"carpet\"}], \"choropleth\": [{\"colorbar\": {\"outlinewidth\": 0, \"ticks\": \"\"}, \"type\": \"choropleth\"}], \"contour\": [{\"colorbar\": {\"outlinewidth\": 0, \"ticks\": \"\"}, \"colorscale\": [[0.0, \"#0d0887\"], [0.1111111111111111, \"#46039f\"], [0.2222222222222222, \"#7201a8\"], [0.3333333333333333, \"#9c179e\"], [0.4444444444444444, \"#bd3786\"], [0.5555555555555556, \"#d8576b\"], [0.6666666666666666, \"#ed7953\"], [0.7777777777777778, \"#fb9f3a\"], [0.8888888888888888, \"#fdca26\"], [1.0, \"#f0f921\"]], \"type\": \"contour\"}], \"contourcarpet\": [{\"colorbar\": {\"outlinewidth\": 0, \"ticks\": \"\"}, \"type\": \"contourcarpet\"}], \"heatmap\": [{\"colorbar\": {\"outlinewidth\": 0, \"ticks\": \"\"}, \"colorscale\": [[0.0, \"#0d0887\"], [0.1111111111111111, \"#46039f\"], [0.2222222222222222, \"#7201a8\"], [0.3333333333333333, \"#9c179e\"], [0.4444444444444444, \"#bd3786\"], [0.5555555555555556, \"#d8576b\"], [0.6666666666666666, \"#ed7953\"], [0.7777777777777778, \"#fb9f3a\"], [0.8888888888888888, \"#fdca26\"], [1.0, \"#f0f921\"]], \"type\": \"heatmap\"}], \"heatmapgl\": [{\"colorbar\": {\"outlinewidth\": 0, \"ticks\": \"\"}, \"colorscale\": [[0.0, \"#0d0887\"], [0.1111111111111111, \"#46039f\"], [0.2222222222222222, \"#7201a8\"], [0.3333333333333333, \"#9c179e\"], [0.4444444444444444, \"#bd3786\"], [0.5555555555555556, \"#d8576b\"], [0.6666666666666666, \"#ed7953\"], [0.7777777777777778, \"#fb9f3a\"], [0.8888888888888888, \"#fdca26\"], [1.0, \"#f0f921\"]], \"type\": \"heatmapgl\"}], \"histogram\": [{\"marker\": {\"colorbar\": {\"outlinewidth\": 0, \"ticks\": \"\"}}, \"type\": \"histogram\"}], \"histogram2d\": [{\"colorbar\": {\"outlinewidth\": 0, \"ticks\": \"\"}, \"colorscale\": [[0.0, \"#0d0887\"], [0.1111111111111111, \"#46039f\"], [0.2222222222222222, \"#7201a8\"], [0.3333333333333333, \"#9c179e\"], [0.4444444444444444, \"#bd3786\"], [0.5555555555555556, \"#d8576b\"], [0.6666666666666666, \"#ed7953\"], [0.7777777777777778, \"#fb9f3a\"], [0.8888888888888888, \"#fdca26\"], [1.0, \"#f0f921\"]], \"type\": \"histogram2d\"}], \"histogram2dcontour\": [{\"colorbar\": {\"outlinewidth\": 0, \"ticks\": \"\"}, \"colorscale\": [[0.0, \"#0d0887\"], [0.1111111111111111, \"#46039f\"], [0.2222222222222222, \"#7201a8\"], [0.3333333333333333, \"#9c179e\"], [0.4444444444444444, \"#bd3786\"], [0.5555555555555556, \"#d8576b\"], [0.6666666666666666, \"#ed7953\"], [0.7777777777777778, \"#fb9f3a\"], [0.8888888888888888, \"#fdca26\"], [1.0, \"#f0f921\"]], \"type\": \"histogram2dcontour\"}], \"mesh3d\": [{\"colorbar\": {\"outlinewidth\": 0, \"ticks\": \"\"}, \"type\": \"mesh3d\"}], \"parcoords\": [{\"line\": {\"colorbar\": {\"outlinewidth\": 0, \"ticks\": \"\"}}, \"type\": \"parcoords\"}], \"pie\": [{\"automargin\": true, \"type\": \"pie\"}], \"scatter\": [{\"marker\": {\"colorbar\": {\"outlinewidth\": 0, \"ticks\": \"\"}}, \"type\": \"scatter\"}], \"scatter3d\": [{\"line\": {\"colorbar\": {\"outlinewidth\": 0, \"ticks\": \"\"}}, \"marker\": {\"colorbar\": {\"outlinewidth\": 0, \"ticks\": \"\"}}, \"type\": \"scatter3d\"}], \"scattercarpet\": [{\"marker\": {\"colorbar\": {\"outlinewidth\": 0, \"ticks\": \"\"}}, \"type\": \"scattercarpet\"}], \"scattergeo\": [{\"marker\": {\"colorbar\": {\"outlinewidth\": 0, \"ticks\": \"\"}}, \"type\": \"scattergeo\"}], \"scattergl\": [{\"marker\": {\"colorbar\": {\"outlinewidth\": 0, \"ticks\": \"\"}}, \"type\": \"scattergl\"}], \"scattermapbox\": [{\"marker\": {\"colorbar\": {\"outlinewidth\": 0, \"ticks\": \"\"}}, \"type\": \"scattermapbox\"}], \"scatterpolar\": [{\"marker\": {\"colorbar\": {\"outlinewidth\": 0, \"ticks\": \"\"}}, \"type\": \"scatterpolar\"}], \"scatterpolargl\": [{\"marker\": {\"colorbar\": {\"outlinewidth\": 0, \"ticks\": \"\"}}, \"type\": \"scatterpolargl\"}], \"scatterternary\": [{\"marker\": {\"colorbar\": {\"outlinewidth\": 0, \"ticks\": \"\"}}, \"type\": \"scatterternary\"}], \"surface\": [{\"colorbar\": {\"outlinewidth\": 0, \"ticks\": \"\"}, \"colorscale\": [[0.0, \"#0d0887\"], [0.1111111111111111, \"#46039f\"], [0.2222222222222222, \"#7201a8\"], [0.3333333333333333, \"#9c179e\"], [0.4444444444444444, \"#bd3786\"], [0.5555555555555556, \"#d8576b\"], [0.6666666666666666, \"#ed7953\"], [0.7777777777777778, \"#fb9f3a\"], [0.8888888888888888, \"#fdca26\"], [1.0, \"#f0f921\"]], \"type\": \"surface\"}], \"table\": [{\"cells\": {\"fill\": {\"color\": \"#EBF0F8\"}, \"line\": {\"color\": \"white\"}}, \"header\": {\"fill\": {\"color\": \"#C8D4E3\"}, \"line\": {\"color\": \"white\"}}, \"type\": \"table\"}]}, \"layout\": {\"annotationdefaults\": {\"arrowcolor\": \"#2a3f5f\", \"arrowhead\": 0, \"arrowwidth\": 1}, \"coloraxis\": {\"colorbar\": {\"outlinewidth\": 0, \"ticks\": \"\"}}, \"colorscale\": {\"diverging\": [[0, \"#8e0152\"], [0.1, \"#c51b7d\"], [0.2, \"#de77ae\"], [0.3, \"#f1b6da\"], [0.4, \"#fde0ef\"], [0.5, \"#f7f7f7\"], [0.6, \"#e6f5d0\"], [0.7, \"#b8e186\"], [0.8, \"#7fbc41\"], [0.9, \"#4d9221\"], [1, \"#276419\"]], \"sequential\": [[0.0, \"#0d0887\"], [0.1111111111111111, \"#46039f\"], [0.2222222222222222, \"#7201a8\"], [0.3333333333333333, \"#9c179e\"], [0.4444444444444444, \"#bd3786\"], [0.5555555555555556, \"#d8576b\"], [0.6666666666666666, \"#ed7953\"], [0.7777777777777778, \"#fb9f3a\"], [0.8888888888888888, \"#fdca26\"], [1.0, \"#f0f921\"]], \"sequentialminus\": [[0.0, \"#0d0887\"], [0.1111111111111111, \"#46039f\"], [0.2222222222222222, \"#7201a8\"], [0.3333333333333333, \"#9c179e\"], [0.4444444444444444, \"#bd3786\"], [0.5555555555555556, \"#d8576b\"], [0.6666666666666666, \"#ed7953\"], [0.7777777777777778, \"#fb9f3a\"], [0.8888888888888888, \"#fdca26\"], [1.0, \"#f0f921\"]]}, \"colorway\": [\"#636efa\", \"#EF553B\", \"#00cc96\", \"#ab63fa\", \"#FFA15A\", \"#19d3f3\", \"#FF6692\", \"#B6E880\", \"#FF97FF\", \"#FECB52\"], \"font\": {\"color\": \"#2a3f5f\"}, \"geo\": {\"bgcolor\": \"white\", \"lakecolor\": \"white\", \"landcolor\": \"#E5ECF6\", \"showlakes\": true, \"showland\": true, \"subunitcolor\": \"white\"}, \"hoverlabel\": {\"align\": \"left\"}, \"hovermode\": \"closest\", \"mapbox\": {\"style\": \"light\"}, \"paper_bgcolor\": \"white\", \"plot_bgcolor\": \"#E5ECF6\", \"polar\": {\"angularaxis\": {\"gridcolor\": \"white\", \"linecolor\": \"white\", \"ticks\": \"\"}, \"bgcolor\": \"#E5ECF6\", \"radialaxis\": {\"gridcolor\": \"white\", \"linecolor\": \"white\", \"ticks\": \"\"}}, \"scene\": {\"xaxis\": {\"backgroundcolor\": \"#E5ECF6\", \"gridcolor\": \"white\", \"gridwidth\": 2, \"linecolor\": \"white\", \"showbackground\": true, \"ticks\": \"\", \"zerolinecolor\": \"white\"}, \"yaxis\": {\"backgroundcolor\": \"#E5ECF6\", \"gridcolor\": \"white\", \"gridwidth\": 2, \"linecolor\": \"white\", \"showbackground\": true, \"ticks\": \"\", \"zerolinecolor\": \"white\"}, \"zaxis\": {\"backgroundcolor\": \"#E5ECF6\", \"gridcolor\": \"white\", \"gridwidth\": 2, \"linecolor\": \"white\", \"showbackground\": true, \"ticks\": \"\", \"zerolinecolor\": \"white\"}}, \"shapedefaults\": {\"line\": {\"color\": \"#2a3f5f\"}}, \"ternary\": {\"aaxis\": {\"gridcolor\": \"white\", \"linecolor\": \"white\", \"ticks\": \"\"}, \"baxis\": {\"gridcolor\": \"white\", \"linecolor\": \"white\", \"ticks\": \"\"}, \"bgcolor\": \"#E5ECF6\", \"caxis\": {\"gridcolor\": \"white\", \"linecolor\": \"white\", \"ticks\": \"\"}}, \"title\": {\"x\": 0.05}, \"xaxis\": {\"automargin\": true, \"gridcolor\": \"white\", \"linecolor\": \"white\", \"ticks\": \"\", \"title\": {\"standoff\": 15}, \"zerolinecolor\": \"white\", \"zerolinewidth\": 2}, \"yaxis\": {\"automargin\": true, \"gridcolor\": \"white\", \"linecolor\": \"white\", \"ticks\": \"\", \"title\": {\"standoff\": 15}, \"zerolinecolor\": \"white\", \"zerolinewidth\": 2}}}, \"title\": {\"text\": \"Coronavirus Cases in USA on daily basis\"}, \"xaxis\": {\"anchor\": \"y\", \"domain\": [0.0, 1.0], \"title\": {\"text\": \"date\"}}, \"yaxis\": {\"anchor\": \"x\", \"domain\": [0.0, 1.0], \"title\": {\"text\": \"positiveIncrease\"}}},\n",
              "                        {\"responsive\": true}\n",
              "                    ).then(function(){\n",
              "                            \n",
              "var gd = document.getElementById('a7169a9a-f79a-4483-9d03-daf4adfdb131');\n",
              "var x = new MutationObserver(function (mutations, observer) {{\n",
              "        var display = window.getComputedStyle(gd).display;\n",
              "        if (!display || display === 'none') {{\n",
              "            console.log([gd, 'removed!']);\n",
              "            Plotly.purge(gd);\n",
              "            observer.disconnect();\n",
              "        }}\n",
              "}});\n",
              "\n",
              "// Listen for the removal of the full notebook cells\n",
              "var notebookContainer = gd.closest('#notebook-container');\n",
              "if (notebookContainer) {{\n",
              "    x.observe(notebookContainer, {childList: true});\n",
              "}}\n",
              "\n",
              "// Listen for the clearing of the current output cell\n",
              "var outputEl = gd.closest('.output');\n",
              "if (outputEl) {{\n",
              "    x.observe(outputEl, {childList: true});\n",
              "}}\n",
              "\n",
              "                        })\n",
              "                };\n",
              "                \n",
              "            </script>\n",
              "        </div>\n",
              "</body>\n",
              "</html>"
            ]
          },
          "metadata": {
            "tags": []
          }
        }
      ]
    },
    {
      "cell_type": "code",
      "metadata": {
        "id": "l63xjgtfSEtm"
      },
      "source": [
        ""
      ],
      "execution_count": null,
      "outputs": []
    },
    {
      "cell_type": "code",
      "metadata": {
        "id": "am1qSj0nq84B"
      },
      "source": [
        ""
      ],
      "execution_count": null,
      "outputs": []
    },
    {
      "cell_type": "code",
      "metadata": {
        "id": "FTX42Krwq9A5"
      },
      "source": [
        ""
      ],
      "execution_count": null,
      "outputs": []
    },
    {
      "cell_type": "code",
      "metadata": {
        "id": "3TlJz8X-q9JZ"
      },
      "source": [
        ""
      ],
      "execution_count": null,
      "outputs": []
    },
    {
      "cell_type": "code",
      "metadata": {
        "id": "UhsTug7pBVyx"
      },
      "source": [
        "def mean_sq_err(actual, predicted):\n",
        "    '''Returns the Mean Squared Error of actual and predicted values'''\n",
        "    return np.mean(np.square(np.array(actual) - np.array(predicted)))"
      ],
      "execution_count": null,
      "outputs": []
    },
    {
      "cell_type": "markdown",
      "metadata": {
        "id": "ekCAXRxQIKxz"
      },
      "source": [
        "\n",
        ">> a. Neighboring states\n",
        "\n"
      ]
    },
    {
      "cell_type": "code",
      "metadata": {
        "id": "YZpKuqDcstoE"
      },
      "source": [
        "df = pd.read_csv('all-states-history.csv')\n",
        "df.head(5)"
      ],
      "execution_count": null,
      "outputs": []
    },
    {
      "cell_type": "code",
      "metadata": {
        "id": "bqXdbHR1s-n_"
      },
      "source": [
        "import numpy as np"
      ],
      "execution_count": null,
      "outputs": []
    },
    {
      "cell_type": "code",
      "metadata": {
        "colab": {
          "base_uri": "https://localhost:8080/",
          "height": 142
        },
        "id": "7cmj54gBq_Hp",
        "outputId": "48a43863-3ed9-486b-85ed-2efd07fbe95b"
      },
      "source": [
        "nonn = pd.read_csv('neigh.csv',index_col=0)\n",
        "nonn.sample(3)"
      ],
      "execution_count": null,
      "outputs": [
        {
          "output_type": "execute_result",
          "data": {
            "text/html": [
              "<div>\n",
              "<style scoped>\n",
              "    .dataframe tbody tr th:only-of-type {\n",
              "        vertical-align: middle;\n",
              "    }\n",
              "\n",
              "    .dataframe tbody tr th {\n",
              "        vertical-align: top;\n",
              "    }\n",
              "\n",
              "    .dataframe thead th {\n",
              "        text-align: right;\n",
              "    }\n",
              "</style>\n",
              "<table border=\"1\" class=\"dataframe\">\n",
              "  <thead>\n",
              "    <tr style=\"text-align: right;\">\n",
              "      <th></th>\n",
              "      <th>first_state</th>\n",
              "      <th>second_state</th>\n",
              "      <th>code</th>\n",
              "    </tr>\n",
              "  </thead>\n",
              "  <tbody>\n",
              "    <tr>\n",
              "      <th>1275</th>\n",
              "      <td>NE</td>\n",
              "      <td>WA</td>\n",
              "      <td>Non_N</td>\n",
              "    </tr>\n",
              "    <tr>\n",
              "      <th>1752</th>\n",
              "      <td>RI</td>\n",
              "      <td>FL</td>\n",
              "      <td>Non_N</td>\n",
              "    </tr>\n",
              "    <tr>\n",
              "      <th>431</th>\n",
              "      <td>CT</td>\n",
              "      <td>AR</td>\n",
              "      <td>Non_N</td>\n",
              "    </tr>\n",
              "  </tbody>\n",
              "</table>\n",
              "</div>"
            ],
            "text/plain": [
              "     first_state second_state   code\n",
              "1275          NE           WA  Non_N\n",
              "1752          RI           FL  Non_N\n",
              "431           CT           AR  Non_N"
            ]
          },
          "metadata": {
            "tags": []
          },
          "execution_count": 46
        }
      ]
    },
    {
      "cell_type": "code",
      "metadata": {
        "id": "xThB7qYarNKW"
      },
      "source": [
        "adj = list(zip(nonn[nonn['code']=='Neigh']['first_state'],nonn[nonn['code']=='Neigh']['second_state']))\n",
        "not_adj = list(zip(nonn[nonn['code']!='Neigh']['first_state'],nonn[nonn['code']!='Neigh']['second_state']))"
      ],
      "execution_count": null,
      "outputs": []
    },
    {
      "cell_type": "code",
      "metadata": {
        "id": "csuA3F6YfkWH"
      },
      "source": [
        "def f(rmse,r2,lst):\n",
        "  count = 0\n",
        "  for s1,s2 in lst:\n",
        "    dff = df[0:0].copy()\n",
        "    for i in df['date'].unique().tolist():\n",
        "      #For 2 certain states, select days such that both state has data in those days\n",
        "      if ((df['state'] == s1) & (df['date'] == i)).any() == True and ((df['state'] == s2) & (df['date'] == i)).any() == True:\n",
        "        df1 = df[((df['state'] == s1) & (df['date'] == i))].copy()\n",
        "        df2 = df[((df['state'] == s2) & (df['date'] == i))].copy()\n",
        "        dff = dff.append(df1)\n",
        "        dff = dff.append(df2)\n",
        "        dff = dff.sort_values(by=['state','date'])\n",
        "    x = int(len(dff)/2)\n",
        "    X_train = pd.DataFrame(dff[:x]['positiveIncrease'])\n",
        "    y_train = pd.DataFrame(dff[x:]['positiveIncrease'])\n",
        "    model.fit(X_train,y_train)\n",
        "    y_pred = model.predict(X_train)\n",
        "\n",
        "    mse = mean_sq_err(X_train,y_pred)\n",
        "    \n",
        "    rmse.append(np.sqrt(mse))\n",
        "    r2.append(model.score(X_train, y_train))\n",
        "\n",
        "    count+=1\n",
        "    if count == 30:\n",
        "      break\n"
      ],
      "execution_count": null,
      "outputs": []
    },
    {
      "cell_type": "code",
      "metadata": {
        "id": "6hh-HI0_vcoJ"
      },
      "source": [
        "rmse_adj = []\n",
        "rmse_not_adj = []\n",
        "r2_adj = []\n",
        "r2_not_adj = []"
      ],
      "execution_count": null,
      "outputs": []
    },
    {
      "cell_type": "code",
      "metadata": {
        "id": "3XmJD6-_vjIi"
      },
      "source": [
        "f(rmse_adj,r2_adj,adj)\n",
        "f(rmse_not_adj,r2_not_adj,not_adj)"
      ],
      "execution_count": null,
      "outputs": []
    },
    {
      "cell_type": "code",
      "metadata": {
        "colab": {
          "base_uri": "https://localhost:8080/"
        },
        "id": "tvML9uZO0LjM",
        "outputId": "9ba5d239-5a20-4cd2-8738-19e801edf8bd"
      },
      "source": [
        "sum(r2_adj)/len(r2_adj)"
      ],
      "execution_count": null,
      "outputs": [
        {
          "output_type": "execute_result",
          "data": {
            "text/plain": [
              "0.5238357479107267"
            ]
          },
          "metadata": {
            "tags": []
          },
          "execution_count": 43
        }
      ]
    },
    {
      "cell_type": "code",
      "metadata": {
        "colab": {
          "base_uri": "https://localhost:8080/"
        },
        "id": "Wae8KxHp0R0_",
        "outputId": "c947589a-12d9-4a2a-c8ad-8d24afcf79cb"
      },
      "source": [
        "sum(r2_not_adj)/len(r2_not_adj)"
      ],
      "execution_count": null,
      "outputs": [
        {
          "output_type": "execute_result",
          "data": {
            "text/plain": [
              "0.43634713969176264"
            ]
          },
          "metadata": {
            "tags": []
          },
          "execution_count": 42
        }
      ]
    },
    {
      "cell_type": "code",
      "metadata": {
        "colab": {
          "base_uri": "https://localhost:8080/"
        },
        "id": "2NLDFp7xA7Aw",
        "outputId": "384f40e3-21d5-4e8f-d8e1-51731abf3a6f"
      },
      "source": [
        "np.std(r2_not_adj)"
      ],
      "execution_count": null,
      "outputs": [
        {
          "output_type": "execute_result",
          "data": {
            "text/plain": [
              "0.1708193879114083"
            ]
          },
          "metadata": {
            "tags": []
          },
          "execution_count": 58
        }
      ]
    },
    {
      "cell_type": "code",
      "metadata": {
        "colab": {
          "base_uri": "https://localhost:8080/"
        },
        "id": "q2JIPrnfBUQW",
        "outputId": "cec5acb2-61bf-4552-e4a0-092023219238"
      },
      "source": [
        "#Non-neighboring states\n",
        "sum(r2_not_adj)/len(r2_not_adj)/2"
      ],
      "execution_count": null,
      "outputs": [
        {
          "output_type": "execute_result",
          "data": {
            "text/plain": [
              "0.21817356984588132"
            ]
          },
          "metadata": {
            "tags": []
          },
          "execution_count": 64
        }
      ]
    },
    {
      "cell_type": "code",
      "metadata": {
        "colab": {
          "base_uri": "https://localhost:8080/"
        },
        "id": "QIwZ13dpBJIx",
        "outputId": "6b99a841-e5ff-4c2c-f44f-9354ee50d64a"
      },
      "source": [
        "sum(rmse_adj)/len(rmse_adj)"
      ],
      "execution_count": null,
      "outputs": [
        {
          "output_type": "execute_result",
          "data": {
            "text/plain": [
              "3158.109772471339"
            ]
          },
          "metadata": {
            "tags": []
          },
          "execution_count": 62
        }
      ]
    }
  ]
}